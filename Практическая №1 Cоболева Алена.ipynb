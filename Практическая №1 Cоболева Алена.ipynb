{
 "cells": [
  {
   "cell_type": "markdown",
   "id": "ef0f897b",
   "metadata": {},
   "source": [
    "# HW_1"
   ]
  },
  {
   "cell_type": "markdown",
   "id": "cfd87e5c",
   "metadata": {},
   "source": [
    "## Description of the dataset"
   ]
  },
  {
   "cell_type": "markdown",
   "id": "43b3d194",
   "metadata": {},
   "source": [
    "Link to the dataset in Kaggle\n",
    "https://www.kaggle.com/datasets/dev0914sharma/car-purchasing-model\n"
   ]
  },
  {
   "cell_type": "markdown",
   "id": "a7612268",
   "metadata": {},
   "source": [
    "Link to the dataset in google-drive https://drive.google.com/file/d/1FWiGx4bnFyLtxd5DdYxX7x_-japQJ209/view?usp=sharing"
   ]
  },
  {
   "cell_type": "markdown",
   "id": "4edfa7e3",
   "metadata": {},
   "source": [
    "Description of columns:\n",
    "\n",
    "1. Customer Name - имя покупателя\n",
    "2. Customer e-mail - e-mail покупател]\n",
    "3. Country - страна, в которой произведена покупка автомобиля\n",
    "4. Gender - пол покупателя\n",
    "5. Age - возраст покупателя\n",
    "6. Annual Salary - годовая зарплата покупателя\n",
    "7. Credit Card Debt - задолженность по кредитной карте\n",
    "8. Net Worth (Asset – Liabilities) - стоимость автомобиля\n",
    "9. Car Purchase Amount - сумма покупки автомобиля"
   ]
  },
  {
   "cell_type": "markdown",
   "id": "d5e10f05",
   "metadata": {},
   "source": [
    "## Install gdown"
   ]
  },
  {
   "cell_type": "code",
   "execution_count": 2,
   "id": "8f4b9ca0",
   "metadata": {},
   "outputs": [
    {
     "name": "stdout",
     "output_type": "stream",
     "text": [
      "Collecting package metadata (current_repodata.json): ...working... done\n",
      "Solving environment: ...working... done\n",
      "\n",
      "# All requested packages already installed.\n",
      "\n",
      "Retrieving notices: ...working... done\n",
      "\n",
      "Note: you may need to restart the kernel to use updated packages.\n"
     ]
    }
   ],
   "source": [
    "conda install -c conda-forge gdown"
   ]
  },
  {
   "cell_type": "markdown",
   "id": "e6835fcc",
   "metadata": {},
   "source": [
    "## Download and unzip file from Google Drive"
   ]
  },
  {
   "cell_type": "code",
   "execution_count": 12,
   "id": "a8e856c0",
   "metadata": {},
   "outputs": [
    {
     "name": "stderr",
     "output_type": "stream",
     "text": [
      "Downloading...\n",
      "From: https://drive.google.com/uc?id=1qcWNqLNhxRDH7uSv9JInSmLwB7gVYV-H\n",
      "To: C:\\Users\\aasoboleva\\pithon\\car_purchase_model.zip\n",
      "\n",
      "  0%|          | 0.00/24.7k [00:00<?, ?B/s]\n",
      "100%|##########| 24.7k/24.7k [00:00<00:00, 2.87MB/s]\n"
     ]
    }
   ],
   "source": [
    "! gdown 1qcWNqLNhxRDH7uSv9JInSmLwB7gVYV-H"
   ]
  },
  {
   "cell_type": "markdown",
   "id": "c5c39abf",
   "metadata": {},
   "source": [
    "## Import required libraries"
   ]
  },
  {
   "cell_type": "code",
   "execution_count": 15,
   "id": "21365fd7",
   "metadata": {},
   "outputs": [],
   "source": [
    "import pandas as pd\n",
    "import numpy as np"
   ]
  },
  {
   "cell_type": "markdown",
   "id": "80d254d1",
   "metadata": {},
   "source": [
    "## Overview of data and data types"
   ]
  },
  {
   "cell_type": "code",
   "execution_count": 17,
   "id": "dee0f9a4",
   "metadata": {},
   "outputs": [],
   "source": [
    "df = pd.read_csv(\"Car_Purchasing_Data.csv\")"
   ]
  },
  {
   "cell_type": "code",
   "execution_count": 18,
   "id": "653748a6",
   "metadata": {},
   "outputs": [
    {
     "data": {
      "text/html": [
       "<div>\n",
       "<style scoped>\n",
       "    .dataframe tbody tr th:only-of-type {\n",
       "        vertical-align: middle;\n",
       "    }\n",
       "\n",
       "    .dataframe tbody tr th {\n",
       "        vertical-align: top;\n",
       "    }\n",
       "\n",
       "    .dataframe thead th {\n",
       "        text-align: right;\n",
       "    }\n",
       "</style>\n",
       "<table border=\"1\" class=\"dataframe\">\n",
       "  <thead>\n",
       "    <tr style=\"text-align: right;\">\n",
       "      <th></th>\n",
       "      <th>Customer Name</th>\n",
       "      <th>Customer e-mail</th>\n",
       "      <th>Country</th>\n",
       "      <th>Gender</th>\n",
       "      <th>Age</th>\n",
       "      <th>Annual Salary</th>\n",
       "      <th>Credit Card Debt</th>\n",
       "      <th>Net Worth</th>\n",
       "      <th>Car Purchase Amount</th>\n",
       "    </tr>\n",
       "  </thead>\n",
       "  <tbody>\n",
       "    <tr>\n",
       "      <th>0</th>\n",
       "      <td>Martina Avila</td>\n",
       "      <td>cubilia.Curae.Phasellus@quisaccumsanconvallis.edu</td>\n",
       "      <td>USA</td>\n",
       "      <td>0</td>\n",
       "      <td>42</td>\n",
       "      <td>62812.09301</td>\n",
       "      <td>11609.380910</td>\n",
       "      <td>238961.2505</td>\n",
       "      <td>35321.45877</td>\n",
       "    </tr>\n",
       "    <tr>\n",
       "      <th>1</th>\n",
       "      <td>Harlan Barnes</td>\n",
       "      <td>eu.dolor@diam.co.uk</td>\n",
       "      <td>USA</td>\n",
       "      <td>0</td>\n",
       "      <td>41</td>\n",
       "      <td>66646.89292</td>\n",
       "      <td>9572.957136</td>\n",
       "      <td>530973.9078</td>\n",
       "      <td>45115.52566</td>\n",
       "    </tr>\n",
       "    <tr>\n",
       "      <th>2</th>\n",
       "      <td>Naomi Rodriquez</td>\n",
       "      <td>vulputate.mauris.sagittis@ametconsectetueradip...</td>\n",
       "      <td>USA</td>\n",
       "      <td>1</td>\n",
       "      <td>43</td>\n",
       "      <td>53798.55112</td>\n",
       "      <td>11160.355060</td>\n",
       "      <td>638467.1773</td>\n",
       "      <td>42925.70921</td>\n",
       "    </tr>\n",
       "    <tr>\n",
       "      <th>3</th>\n",
       "      <td>Jade Cunningham</td>\n",
       "      <td>malesuada@dignissim.com</td>\n",
       "      <td>USA</td>\n",
       "      <td>1</td>\n",
       "      <td>58</td>\n",
       "      <td>79370.03798</td>\n",
       "      <td>14426.164850</td>\n",
       "      <td>548599.0524</td>\n",
       "      <td>67422.36313</td>\n",
       "    </tr>\n",
       "    <tr>\n",
       "      <th>4</th>\n",
       "      <td>Cedric Leach</td>\n",
       "      <td>felis.ullamcorper.viverra@egetmollislectus.net</td>\n",
       "      <td>USA</td>\n",
       "      <td>1</td>\n",
       "      <td>57</td>\n",
       "      <td>59729.15130</td>\n",
       "      <td>5358.712177</td>\n",
       "      <td>560304.0671</td>\n",
       "      <td>55915.46248</td>\n",
       "    </tr>\n",
       "    <tr>\n",
       "      <th>...</th>\n",
       "      <td>...</td>\n",
       "      <td>...</td>\n",
       "      <td>...</td>\n",
       "      <td>...</td>\n",
       "      <td>...</td>\n",
       "      <td>...</td>\n",
       "      <td>...</td>\n",
       "      <td>...</td>\n",
       "      <td>...</td>\n",
       "    </tr>\n",
       "    <tr>\n",
       "      <th>495</th>\n",
       "      <td>Walter</td>\n",
       "      <td>ligula@Cumsociis.ca</td>\n",
       "      <td>USA</td>\n",
       "      <td>0</td>\n",
       "      <td>41</td>\n",
       "      <td>71942.40291</td>\n",
       "      <td>6995.902524</td>\n",
       "      <td>541670.1016</td>\n",
       "      <td>48901.44342</td>\n",
       "    </tr>\n",
       "    <tr>\n",
       "      <th>496</th>\n",
       "      <td>Vanna</td>\n",
       "      <td>Cum.sociis.natoque@Sedmolestie.edu</td>\n",
       "      <td>USA</td>\n",
       "      <td>1</td>\n",
       "      <td>38</td>\n",
       "      <td>56039.49793</td>\n",
       "      <td>12301.456790</td>\n",
       "      <td>360419.0988</td>\n",
       "      <td>31491.41457</td>\n",
       "    </tr>\n",
       "    <tr>\n",
       "      <th>497</th>\n",
       "      <td>Pearl</td>\n",
       "      <td>penatibus.et@massanonante.com</td>\n",
       "      <td>USA</td>\n",
       "      <td>1</td>\n",
       "      <td>54</td>\n",
       "      <td>68888.77805</td>\n",
       "      <td>10611.606860</td>\n",
       "      <td>764531.3203</td>\n",
       "      <td>64147.28888</td>\n",
       "    </tr>\n",
       "    <tr>\n",
       "      <th>498</th>\n",
       "      <td>Nell</td>\n",
       "      <td>Quisque.varius@arcuVivamussit.net</td>\n",
       "      <td>USA</td>\n",
       "      <td>1</td>\n",
       "      <td>59</td>\n",
       "      <td>49811.99062</td>\n",
       "      <td>14013.034510</td>\n",
       "      <td>337826.6382</td>\n",
       "      <td>45442.15353</td>\n",
       "    </tr>\n",
       "    <tr>\n",
       "      <th>499</th>\n",
       "      <td>Marla</td>\n",
       "      <td>Camaron.marla@hotmail.com</td>\n",
       "      <td>USA</td>\n",
       "      <td>1</td>\n",
       "      <td>47</td>\n",
       "      <td>61370.67766</td>\n",
       "      <td>9391.341628</td>\n",
       "      <td>462946.4924</td>\n",
       "      <td>45107.22566</td>\n",
       "    </tr>\n",
       "  </tbody>\n",
       "</table>\n",
       "<p>500 rows × 9 columns</p>\n",
       "</div>"
      ],
      "text/plain": [
       "       Customer Name                                    Customer e-mail  \\\n",
       "0      Martina Avila  cubilia.Curae.Phasellus@quisaccumsanconvallis.edu   \n",
       "1      Harlan Barnes                                eu.dolor@diam.co.uk   \n",
       "2    Naomi Rodriquez  vulputate.mauris.sagittis@ametconsectetueradip...   \n",
       "3    Jade Cunningham                            malesuada@dignissim.com   \n",
       "4       Cedric Leach     felis.ullamcorper.viverra@egetmollislectus.net   \n",
       "..               ...                                                ...   \n",
       "495           Walter                                ligula@Cumsociis.ca   \n",
       "496            Vanna                 Cum.sociis.natoque@Sedmolestie.edu   \n",
       "497            Pearl                      penatibus.et@massanonante.com   \n",
       "498             Nell                  Quisque.varius@arcuVivamussit.net   \n",
       "499            Marla                          Camaron.marla@hotmail.com   \n",
       "\n",
       "    Country  Gender  Age  Annual Salary  Credit Card Debt    Net Worth  \\\n",
       "0       USA       0   42    62812.09301      11609.380910  238961.2505   \n",
       "1       USA       0   41    66646.89292       9572.957136  530973.9078   \n",
       "2       USA       1   43    53798.55112      11160.355060  638467.1773   \n",
       "3       USA       1   58    79370.03798      14426.164850  548599.0524   \n",
       "4       USA       1   57    59729.15130       5358.712177  560304.0671   \n",
       "..      ...     ...  ...            ...               ...          ...   \n",
       "495     USA       0   41    71942.40291       6995.902524  541670.1016   \n",
       "496     USA       1   38    56039.49793      12301.456790  360419.0988   \n",
       "497     USA       1   54    68888.77805      10611.606860  764531.3203   \n",
       "498     USA       1   59    49811.99062      14013.034510  337826.6382   \n",
       "499     USA       1   47    61370.67766       9391.341628  462946.4924   \n",
       "\n",
       "     Car Purchase Amount  \n",
       "0            35321.45877  \n",
       "1            45115.52566  \n",
       "2            42925.70921  \n",
       "3            67422.36313  \n",
       "4            55915.46248  \n",
       "..                   ...  \n",
       "495          48901.44342  \n",
       "496          31491.41457  \n",
       "497          64147.28888  \n",
       "498          45442.15353  \n",
       "499          45107.22566  \n",
       "\n",
       "[500 rows x 9 columns]"
      ]
     },
     "execution_count": 18,
     "metadata": {},
     "output_type": "execute_result"
    }
   ],
   "source": [
    "df"
   ]
  },
  {
   "cell_type": "code",
   "execution_count": 19,
   "id": "b737d5fd",
   "metadata": {},
   "outputs": [
    {
     "name": "stdout",
     "output_type": "stream",
     "text": [
      "<class 'pandas.core.frame.DataFrame'>\n",
      "RangeIndex: 500 entries, 0 to 499\n",
      "Data columns (total 9 columns):\n",
      " #   Column               Non-Null Count  Dtype  \n",
      "---  ------               --------------  -----  \n",
      " 0   Customer Name        500 non-null    object \n",
      " 1   Customer e-mail      500 non-null    object \n",
      " 2   Country              500 non-null    object \n",
      " 3   Gender               500 non-null    int64  \n",
      " 4   Age                  500 non-null    int64  \n",
      " 5   Annual Salary        500 non-null    float64\n",
      " 6   Credit Card Debt     500 non-null    float64\n",
      " 7   Net Worth            500 non-null    float64\n",
      " 8   Car Purchase Amount  500 non-null    float64\n",
      "dtypes: float64(4), int64(2), object(3)\n",
      "memory usage: 35.3+ KB\n"
     ]
    }
   ],
   "source": [
    "df.info()"
   ]
  },
  {
   "cell_type": "code",
   "execution_count": 20,
   "id": "d331b0c0",
   "metadata": {},
   "outputs": [
    {
     "data": {
      "text/plain": [
       "Index(['Customer Name', 'Customer e-mail', 'Country', 'Gender', 'Age',\n",
       "       'Annual Salary', 'Credit Card Debt', 'Net Worth',\n",
       "       'Car Purchase Amount'],\n",
       "      dtype='object')"
      ]
     },
     "execution_count": 20,
     "metadata": {},
     "output_type": "execute_result"
    }
   ],
   "source": [
    "df.columns"
   ]
  },
  {
   "cell_type": "code",
   "execution_count": 21,
   "id": "bd285643",
   "metadata": {},
   "outputs": [
    {
     "data": {
      "text/html": [
       "<div>\n",
       "<style scoped>\n",
       "    .dataframe tbody tr th:only-of-type {\n",
       "        vertical-align: middle;\n",
       "    }\n",
       "\n",
       "    .dataframe tbody tr th {\n",
       "        vertical-align: top;\n",
       "    }\n",
       "\n",
       "    .dataframe thead th {\n",
       "        text-align: right;\n",
       "    }\n",
       "</style>\n",
       "<table border=\"1\" class=\"dataframe\">\n",
       "  <thead>\n",
       "    <tr style=\"text-align: right;\">\n",
       "      <th></th>\n",
       "      <th>Gender</th>\n",
       "      <th>Age</th>\n",
       "      <th>Annual Salary</th>\n",
       "      <th>Credit Card Debt</th>\n",
       "      <th>Net Worth</th>\n",
       "      <th>Car Purchase Amount</th>\n",
       "    </tr>\n",
       "  </thead>\n",
       "  <tbody>\n",
       "    <tr>\n",
       "      <th>count</th>\n",
       "      <td>500.000000</td>\n",
       "      <td>500.000000</td>\n",
       "      <td>500.000000</td>\n",
       "      <td>500.000000</td>\n",
       "      <td>500.000000</td>\n",
       "      <td>500.000000</td>\n",
       "    </tr>\n",
       "    <tr>\n",
       "      <th>mean</th>\n",
       "      <td>0.506000</td>\n",
       "      <td>46.224000</td>\n",
       "      <td>62127.239608</td>\n",
       "      <td>9607.645049</td>\n",
       "      <td>431475.713625</td>\n",
       "      <td>44209.799218</td>\n",
       "    </tr>\n",
       "    <tr>\n",
       "      <th>std</th>\n",
       "      <td>0.500465</td>\n",
       "      <td>7.990339</td>\n",
       "      <td>11703.378228</td>\n",
       "      <td>3489.187973</td>\n",
       "      <td>173536.756340</td>\n",
       "      <td>10773.178744</td>\n",
       "    </tr>\n",
       "    <tr>\n",
       "      <th>min</th>\n",
       "      <td>0.000000</td>\n",
       "      <td>20.000000</td>\n",
       "      <td>20000.000000</td>\n",
       "      <td>100.000000</td>\n",
       "      <td>20000.000000</td>\n",
       "      <td>9000.000000</td>\n",
       "    </tr>\n",
       "    <tr>\n",
       "      <th>25%</th>\n",
       "      <td>0.000000</td>\n",
       "      <td>41.000000</td>\n",
       "      <td>54391.977195</td>\n",
       "      <td>7397.515792</td>\n",
       "      <td>299824.195900</td>\n",
       "      <td>37629.896040</td>\n",
       "    </tr>\n",
       "    <tr>\n",
       "      <th>50%</th>\n",
       "      <td>1.000000</td>\n",
       "      <td>46.000000</td>\n",
       "      <td>62915.497035</td>\n",
       "      <td>9655.035568</td>\n",
       "      <td>426750.120650</td>\n",
       "      <td>43997.783390</td>\n",
       "    </tr>\n",
       "    <tr>\n",
       "      <th>75%</th>\n",
       "      <td>1.000000</td>\n",
       "      <td>52.000000</td>\n",
       "      <td>70117.862005</td>\n",
       "      <td>11798.867487</td>\n",
       "      <td>557324.478725</td>\n",
       "      <td>51254.709517</td>\n",
       "    </tr>\n",
       "    <tr>\n",
       "      <th>max</th>\n",
       "      <td>1.000000</td>\n",
       "      <td>70.000000</td>\n",
       "      <td>100000.000000</td>\n",
       "      <td>20000.000000</td>\n",
       "      <td>1000000.000000</td>\n",
       "      <td>80000.000000</td>\n",
       "    </tr>\n",
       "  </tbody>\n",
       "</table>\n",
       "</div>"
      ],
      "text/plain": [
       "           Gender         Age  Annual Salary  Credit Card Debt  \\\n",
       "count  500.000000  500.000000     500.000000        500.000000   \n",
       "mean     0.506000   46.224000   62127.239608       9607.645049   \n",
       "std      0.500465    7.990339   11703.378228       3489.187973   \n",
       "min      0.000000   20.000000   20000.000000        100.000000   \n",
       "25%      0.000000   41.000000   54391.977195       7397.515792   \n",
       "50%      1.000000   46.000000   62915.497035       9655.035568   \n",
       "75%      1.000000   52.000000   70117.862005      11798.867487   \n",
       "max      1.000000   70.000000  100000.000000      20000.000000   \n",
       "\n",
       "            Net Worth  Car Purchase Amount  \n",
       "count      500.000000           500.000000  \n",
       "mean    431475.713625         44209.799218  \n",
       "std     173536.756340         10773.178744  \n",
       "min      20000.000000          9000.000000  \n",
       "25%     299824.195900         37629.896040  \n",
       "50%     426750.120650         43997.783390  \n",
       "75%     557324.478725         51254.709517  \n",
       "max    1000000.000000         80000.000000  "
      ]
     },
     "execution_count": 21,
     "metadata": {},
     "output_type": "execute_result"
    }
   ],
   "source": [
    "df.describe()"
   ]
  },
  {
   "cell_type": "markdown",
   "id": "6d9f2544",
   "metadata": {},
   "source": [
    "_Basic observation values^^_"
   ]
  },
  {
   "cell_type": "code",
   "execution_count": 22,
   "id": "adf88dd3",
   "metadata": {
    "scrolled": true
   },
   "outputs": [
    {
     "data": {
      "text/plain": [
       "array(['USA'], dtype=object)"
      ]
     },
     "execution_count": 22,
     "metadata": {},
     "output_type": "execute_result"
    }
   ],
   "source": [
    "df['Country'].unique()"
   ]
  },
  {
   "cell_type": "markdown",
   "id": "7dac0714",
   "metadata": {},
   "source": [
    "_All customers from USA_"
   ]
  },
  {
   "cell_type": "code",
   "execution_count": 23,
   "id": "962c6eaf",
   "metadata": {},
   "outputs": [
    {
     "data": {
      "text/plain": [
       "array([42, 41, 43, 58, 57, 47, 50, 53, 44, 48, 55, 45, 52, 59, 46, 40, 28,\n",
       "       56, 33, 51, 22, 38, 39, 61, 37, 34, 32, 49, 36, 30, 35, 54, 62, 60,\n",
       "       63, 70, 64, 65, 29, 27, 31, 20, 25], dtype=int64)"
      ]
     },
     "execution_count": 23,
     "metadata": {},
     "output_type": "execute_result"
    }
   ],
   "source": [
    "df['Age'].unique()"
   ]
  },
  {
   "cell_type": "markdown",
   "id": "c00ce3f1",
   "metadata": {},
   "source": [
    "_A lot of ages of customers_"
   ]
  },
  {
   "cell_type": "markdown",
   "id": "b77af2f8",
   "metadata": {},
   "source": [
    "### Study a single line"
   ]
  },
  {
   "cell_type": "code",
   "execution_count": 24,
   "id": "58cd5148",
   "metadata": {},
   "outputs": [
    {
     "data": {
      "text/plain": [
       "Customer Name                         Merrill Bailey\n",
       "Customer e-mail        natoque.penatibus@nislsem.net\n",
       "Country                                          USA\n",
       "Gender                                             0\n",
       "Age                                               47\n",
       "Annual Salary                             65468.1442\n",
       "Credit Card Debt                          7248.54142\n",
       "Net Worth                                588570.8903\n",
       "Car Purchase Amount                      51402.61506\n",
       "Name: 123, dtype: object"
      ]
     },
     "execution_count": 24,
     "metadata": {},
     "output_type": "execute_result"
    }
   ],
   "source": [
    "df.iloc[123]"
   ]
  },
  {
   "cell_type": "markdown",
   "id": "0e8980bf",
   "metadata": {},
   "source": [
    "### Study a single line of customer _Merrill Bailey_"
   ]
  },
  {
   "cell_type": "code",
   "execution_count": 25,
   "id": "1ede00ec",
   "metadata": {},
   "outputs": [
    {
     "data": {
      "text/html": [
       "<div>\n",
       "<style scoped>\n",
       "    .dataframe tbody tr th:only-of-type {\n",
       "        vertical-align: middle;\n",
       "    }\n",
       "\n",
       "    .dataframe tbody tr th {\n",
       "        vertical-align: top;\n",
       "    }\n",
       "\n",
       "    .dataframe thead th {\n",
       "        text-align: right;\n",
       "    }\n",
       "</style>\n",
       "<table border=\"1\" class=\"dataframe\">\n",
       "  <thead>\n",
       "    <tr style=\"text-align: right;\">\n",
       "      <th></th>\n",
       "      <th>Customer Name</th>\n",
       "      <th>Customer e-mail</th>\n",
       "      <th>Country</th>\n",
       "      <th>Gender</th>\n",
       "      <th>Age</th>\n",
       "      <th>Annual Salary</th>\n",
       "      <th>Credit Card Debt</th>\n",
       "      <th>Net Worth</th>\n",
       "      <th>Car Purchase Amount</th>\n",
       "    </tr>\n",
       "  </thead>\n",
       "  <tbody>\n",
       "    <tr>\n",
       "      <th>123</th>\n",
       "      <td>Merrill Bailey</td>\n",
       "      <td>natoque.penatibus@nislsem.net</td>\n",
       "      <td>USA</td>\n",
       "      <td>0</td>\n",
       "      <td>47</td>\n",
       "      <td>65468.1442</td>\n",
       "      <td>7248.54142</td>\n",
       "      <td>588570.8903</td>\n",
       "      <td>51402.61506</td>\n",
       "    </tr>\n",
       "  </tbody>\n",
       "</table>\n",
       "</div>"
      ],
      "text/plain": [
       "      Customer Name                Customer e-mail Country  Gender  Age  \\\n",
       "123  Merrill Bailey  natoque.penatibus@nislsem.net     USA       0   47   \n",
       "\n",
       "     Annual Salary  Credit Card Debt    Net Worth  Car Purchase Amount  \n",
       "123     65468.1442        7248.54142  588570.8903          51402.61506  "
      ]
     },
     "execution_count": 25,
     "metadata": {},
     "output_type": "execute_result"
    }
   ],
   "source": [
    "df[df['Customer Name'] == 'Merrill Bailey']"
   ]
  },
  {
   "cell_type": "markdown",
   "id": "c8b14d35",
   "metadata": {},
   "source": [
    "## Find all customers who is younger 35 AND have bought a car that costs more than 40000"
   ]
  },
  {
   "cell_type": "code",
   "execution_count": 26,
   "id": "75f6d946",
   "metadata": {},
   "outputs": [
    {
     "data": {
      "text/html": [
       "<div>\n",
       "<style scoped>\n",
       "    .dataframe tbody tr th:only-of-type {\n",
       "        vertical-align: middle;\n",
       "    }\n",
       "\n",
       "    .dataframe tbody tr th {\n",
       "        vertical-align: top;\n",
       "    }\n",
       "\n",
       "    .dataframe thead th {\n",
       "        text-align: right;\n",
       "    }\n",
       "</style>\n",
       "<table border=\"1\" class=\"dataframe\">\n",
       "  <thead>\n",
       "    <tr style=\"text-align: right;\">\n",
       "      <th></th>\n",
       "      <th>Customer Name</th>\n",
       "      <th>Customer e-mail</th>\n",
       "      <th>Country</th>\n",
       "      <th>Gender</th>\n",
       "      <th>Age</th>\n",
       "      <th>Annual Salary</th>\n",
       "      <th>Credit Card Debt</th>\n",
       "      <th>Net Worth</th>\n",
       "      <th>Car Purchase Amount</th>\n",
       "    </tr>\n",
       "  </thead>\n",
       "  <tbody>\n",
       "    <tr>\n",
       "      <th>56</th>\n",
       "      <td>Marny Vargas</td>\n",
       "      <td>nonummy.Fusce.fermentum@ligula.org</td>\n",
       "      <td>USA</td>\n",
       "      <td>1</td>\n",
       "      <td>34</td>\n",
       "      <td>84467.78988</td>\n",
       "      <td>7772.444847</td>\n",
       "      <td>468238.7915</td>\n",
       "      <td>47380.91224</td>\n",
       "    </tr>\n",
       "    <tr>\n",
       "      <th>120</th>\n",
       "      <td>Vernon Kidd</td>\n",
       "      <td>sapien.imperdiet.ornare@vitaeerat.edu</td>\n",
       "      <td>USA</td>\n",
       "      <td>1</td>\n",
       "      <td>34</td>\n",
       "      <td>77206.48386</td>\n",
       "      <td>8493.098575</td>\n",
       "      <td>411070.4828</td>\n",
       "      <td>42213.69644</td>\n",
       "    </tr>\n",
       "    <tr>\n",
       "      <th>152</th>\n",
       "      <td>Rashad Harper</td>\n",
       "      <td>auctor@arcuimperdiet.ca</td>\n",
       "      <td>USA</td>\n",
       "      <td>0</td>\n",
       "      <td>32</td>\n",
       "      <td>73768.12453</td>\n",
       "      <td>8132.073716</td>\n",
       "      <td>562663.8116</td>\n",
       "      <td>42356.68950</td>\n",
       "    </tr>\n",
       "    <tr>\n",
       "      <th>302</th>\n",
       "      <td>Knapp, Quamar P.</td>\n",
       "      <td>Maecenas.libero.est@miacmattis.com</td>\n",
       "      <td>USA</td>\n",
       "      <td>0</td>\n",
       "      <td>32</td>\n",
       "      <td>73935.74201</td>\n",
       "      <td>8253.583457</td>\n",
       "      <td>625484.0917</td>\n",
       "      <td>44463.30502</td>\n",
       "    </tr>\n",
       "    <tr>\n",
       "      <th>456</th>\n",
       "      <td>Brandon</td>\n",
       "      <td>non@purusaccumsaninterdum.com</td>\n",
       "      <td>USA</td>\n",
       "      <td>0</td>\n",
       "      <td>33</td>\n",
       "      <td>87598.01501</td>\n",
       "      <td>10814.579150</td>\n",
       "      <td>485563.7363</td>\n",
       "      <td>48785.15839</td>\n",
       "    </tr>\n",
       "  </tbody>\n",
       "</table>\n",
       "</div>"
      ],
      "text/plain": [
       "        Customer Name                        Customer e-mail Country  Gender  \\\n",
       "56       Marny Vargas     nonummy.Fusce.fermentum@ligula.org     USA       1   \n",
       "120       Vernon Kidd  sapien.imperdiet.ornare@vitaeerat.edu     USA       1   \n",
       "152     Rashad Harper                auctor@arcuimperdiet.ca     USA       0   \n",
       "302  Knapp, Quamar P.     Maecenas.libero.est@miacmattis.com     USA       0   \n",
       "456           Brandon          non@purusaccumsaninterdum.com     USA       0   \n",
       "\n",
       "     Age  Annual Salary  Credit Card Debt    Net Worth  Car Purchase Amount  \n",
       "56    34    84467.78988       7772.444847  468238.7915          47380.91224  \n",
       "120   34    77206.48386       8493.098575  411070.4828          42213.69644  \n",
       "152   32    73768.12453       8132.073716  562663.8116          42356.68950  \n",
       "302   32    73935.74201       8253.583457  625484.0917          44463.30502  \n",
       "456   33    87598.01501      10814.579150  485563.7363          48785.15839  "
      ]
     },
     "execution_count": 26,
     "metadata": {},
     "output_type": "execute_result"
    }
   ],
   "source": [
    "df[(df['Age'] < 35) & (df['Car Purchase Amount'] > 40000)]"
   ]
  },
  {
   "cell_type": "code",
   "execution_count": 27,
   "id": "2a6d1264",
   "metadata": {},
   "outputs": [
    {
     "data": {
      "text/plain": [
       "(5, 9)"
      ]
     },
     "execution_count": 27,
     "metadata": {},
     "output_type": "execute_result"
    }
   ],
   "source": [
    "df[(df['Age'] < 35) & (df['Car Purchase Amount'] > 40000)].shape"
   ]
  },
  {
   "cell_type": "markdown",
   "id": "c1a06d51",
   "metadata": {},
   "source": [
    "## Find all customers aged 20 to 25"
   ]
  },
  {
   "cell_type": "code",
   "execution_count": 28,
   "id": "d7bf7674",
   "metadata": {},
   "outputs": [
    {
     "data": {
      "text/html": [
       "<div>\n",
       "<style scoped>\n",
       "    .dataframe tbody tr th:only-of-type {\n",
       "        vertical-align: middle;\n",
       "    }\n",
       "\n",
       "    .dataframe tbody tr th {\n",
       "        vertical-align: top;\n",
       "    }\n",
       "\n",
       "    .dataframe thead th {\n",
       "        text-align: right;\n",
       "    }\n",
       "</style>\n",
       "<table border=\"1\" class=\"dataframe\">\n",
       "  <thead>\n",
       "    <tr style=\"text-align: right;\">\n",
       "      <th></th>\n",
       "      <th>Customer Name</th>\n",
       "      <th>Customer e-mail</th>\n",
       "      <th>Country</th>\n",
       "      <th>Gender</th>\n",
       "      <th>Age</th>\n",
       "      <th>Annual Salary</th>\n",
       "      <th>Credit Card Debt</th>\n",
       "      <th>Net Worth</th>\n",
       "      <th>Car Purchase Amount</th>\n",
       "    </tr>\n",
       "  </thead>\n",
       "  <tbody>\n",
       "    <tr>\n",
       "      <th>37</th>\n",
       "      <td>Uriel Bradshaw</td>\n",
       "      <td>ultrices@Integersemelit.com</td>\n",
       "      <td>USA</td>\n",
       "      <td>1</td>\n",
       "      <td>22</td>\n",
       "      <td>43131.78411</td>\n",
       "      <td>10917.14094</td>\n",
       "      <td>326742.7352</td>\n",
       "      <td>10092.22509</td>\n",
       "    </tr>\n",
       "    <tr>\n",
       "      <th>444</th>\n",
       "      <td>Camden</td>\n",
       "      <td>Aliquam.adipiscing.lobortis@loremut.net</td>\n",
       "      <td>USA</td>\n",
       "      <td>1</td>\n",
       "      <td>20</td>\n",
       "      <td>70467.29492</td>\n",
       "      <td>100.00000</td>\n",
       "      <td>494606.6334</td>\n",
       "      <td>28645.39425</td>\n",
       "    </tr>\n",
       "  </tbody>\n",
       "</table>\n",
       "</div>"
      ],
      "text/plain": [
       "      Customer Name                          Customer e-mail Country  Gender  \\\n",
       "37   Uriel Bradshaw              ultrices@Integersemelit.com     USA       1   \n",
       "444          Camden  Aliquam.adipiscing.lobortis@loremut.net     USA       1   \n",
       "\n",
       "     Age  Annual Salary  Credit Card Debt    Net Worth  Car Purchase Amount  \n",
       "37    22    43131.78411       10917.14094  326742.7352          10092.22509  \n",
       "444   20    70467.29492         100.00000  494606.6334          28645.39425  "
      ]
     },
     "execution_count": 28,
     "metadata": {},
     "output_type": "execute_result"
    }
   ],
   "source": [
    "df[df['Age'].isin(range(20,25))]"
   ]
  },
  {
   "cell_type": "markdown",
   "id": "c0ccd4ae",
   "metadata": {},
   "source": [
    "## Sort by age ascending"
   ]
  },
  {
   "cell_type": "code",
   "execution_count": 29,
   "id": "7b4897f9",
   "metadata": {},
   "outputs": [
    {
     "data": {
      "text/plain": [
       "444    20\n",
       "37     22\n",
       "453    25\n",
       "298    27\n",
       "26     28\n",
       "       ..\n",
       "409    63\n",
       "210    64\n",
       "246    65\n",
       "236    70\n",
       "194    70\n",
       "Name: Age, Length: 500, dtype: int64"
      ]
     },
     "execution_count": 29,
     "metadata": {},
     "output_type": "execute_result"
    }
   ],
   "source": [
    "df['Age'].sort_values(ascending = True)"
   ]
  },
  {
   "cell_type": "code",
   "execution_count": 30,
   "id": "fd5d0f9d",
   "metadata": {},
   "outputs": [
    {
     "data": {
      "text/html": [
       "<div>\n",
       "<style scoped>\n",
       "    .dataframe tbody tr th:only-of-type {\n",
       "        vertical-align: middle;\n",
       "    }\n",
       "\n",
       "    .dataframe tbody tr th {\n",
       "        vertical-align: top;\n",
       "    }\n",
       "\n",
       "    .dataframe thead th {\n",
       "        text-align: right;\n",
       "    }\n",
       "</style>\n",
       "<table border=\"1\" class=\"dataframe\">\n",
       "  <thead>\n",
       "    <tr style=\"text-align: right;\">\n",
       "      <th></th>\n",
       "      <th>Customer Name</th>\n",
       "      <th>Customer e-mail</th>\n",
       "      <th>Country</th>\n",
       "      <th>Gender</th>\n",
       "      <th>Age</th>\n",
       "      <th>Annual Salary</th>\n",
       "      <th>Credit Card Debt</th>\n",
       "      <th>Net Worth</th>\n",
       "      <th>Car Purchase Amount</th>\n",
       "    </tr>\n",
       "  </thead>\n",
       "  <tbody>\n",
       "    <tr>\n",
       "      <th>444</th>\n",
       "      <td>Camden</td>\n",
       "      <td>Aliquam.adipiscing.lobortis@loremut.net</td>\n",
       "      <td>USA</td>\n",
       "      <td>1</td>\n",
       "      <td>20</td>\n",
       "      <td>70467.29492</td>\n",
       "      <td>100.000000</td>\n",
       "      <td>494606.6334</td>\n",
       "      <td>28645.39425</td>\n",
       "    </tr>\n",
       "    <tr>\n",
       "      <th>37</th>\n",
       "      <td>Uriel Bradshaw</td>\n",
       "      <td>ultrices@Integersemelit.com</td>\n",
       "      <td>USA</td>\n",
       "      <td>1</td>\n",
       "      <td>22</td>\n",
       "      <td>43131.78411</td>\n",
       "      <td>10917.140940</td>\n",
       "      <td>326742.7352</td>\n",
       "      <td>10092.22509</td>\n",
       "    </tr>\n",
       "    <tr>\n",
       "      <th>453</th>\n",
       "      <td>Tatyana</td>\n",
       "      <td>sem@parturientmontesnascetur.net</td>\n",
       "      <td>USA</td>\n",
       "      <td>0</td>\n",
       "      <td>25</td>\n",
       "      <td>45092.74073</td>\n",
       "      <td>11380.092880</td>\n",
       "      <td>158758.3577</td>\n",
       "      <td>9000.00000</td>\n",
       "    </tr>\n",
       "    <tr>\n",
       "      <th>298</th>\n",
       "      <td>Jelani A. Wall</td>\n",
       "      <td>aliquet@Duisa.co.uk</td>\n",
       "      <td>USA</td>\n",
       "      <td>0</td>\n",
       "      <td>27</td>\n",
       "      <td>55369.72784</td>\n",
       "      <td>10888.934940</td>\n",
       "      <td>606851.1696</td>\n",
       "      <td>29670.83337</td>\n",
       "    </tr>\n",
       "    <tr>\n",
       "      <th>26</th>\n",
       "      <td>Ulric Lynn</td>\n",
       "      <td>sociis@vulputateveliteu.com</td>\n",
       "      <td>USA</td>\n",
       "      <td>0</td>\n",
       "      <td>28</td>\n",
       "      <td>82842.53385</td>\n",
       "      <td>13102.158050</td>\n",
       "      <td>315775.3207</td>\n",
       "      <td>37161.55393</td>\n",
       "    </tr>\n",
       "    <tr>\n",
       "      <th>...</th>\n",
       "      <td>...</td>\n",
       "      <td>...</td>\n",
       "      <td>...</td>\n",
       "      <td>...</td>\n",
       "      <td>...</td>\n",
       "      <td>...</td>\n",
       "      <td>...</td>\n",
       "      <td>...</td>\n",
       "      <td>...</td>\n",
       "    </tr>\n",
       "    <tr>\n",
       "      <th>409</th>\n",
       "      <td>Illana</td>\n",
       "      <td>mi.pede.nonummy@euismodetcommodo.org</td>\n",
       "      <td>USA</td>\n",
       "      <td>1</td>\n",
       "      <td>63</td>\n",
       "      <td>71948.80529</td>\n",
       "      <td>8061.968487</td>\n",
       "      <td>365862.7818</td>\n",
       "      <td>61731.71426</td>\n",
       "    </tr>\n",
       "    <tr>\n",
       "      <th>210</th>\n",
       "      <td>Hector F. Leblanc</td>\n",
       "      <td>Curabitur@maurisaliquameu.net</td>\n",
       "      <td>USA</td>\n",
       "      <td>0</td>\n",
       "      <td>64</td>\n",
       "      <td>61666.28520</td>\n",
       "      <td>11672.723820</td>\n",
       "      <td>299854.2186</td>\n",
       "      <td>55125.93237</td>\n",
       "    </tr>\n",
       "    <tr>\n",
       "      <th>246</th>\n",
       "      <td>Kylee O. Warner</td>\n",
       "      <td>cursus.in@neque.co.uk</td>\n",
       "      <td>USA</td>\n",
       "      <td>1</td>\n",
       "      <td>65</td>\n",
       "      <td>70703.85013</td>\n",
       "      <td>5025.365518</td>\n",
       "      <td>284991.7415</td>\n",
       "      <td>60763.24731</td>\n",
       "    </tr>\n",
       "    <tr>\n",
       "      <th>236</th>\n",
       "      <td>Tate C. Foster</td>\n",
       "      <td>dignissim.magna@Maurisvel.edu</td>\n",
       "      <td>USA</td>\n",
       "      <td>1</td>\n",
       "      <td>70</td>\n",
       "      <td>41434.51258</td>\n",
       "      <td>6810.555606</td>\n",
       "      <td>252220.2937</td>\n",
       "      <td>47009.57741</td>\n",
       "    </tr>\n",
       "    <tr>\n",
       "      <th>194</th>\n",
       "      <td>Gil Sanders</td>\n",
       "      <td>eu.ultrices@cursuset.net</td>\n",
       "      <td>USA</td>\n",
       "      <td>0</td>\n",
       "      <td>70</td>\n",
       "      <td>52323.24480</td>\n",
       "      <td>12438.856480</td>\n",
       "      <td>346555.1716</td>\n",
       "      <td>56229.41270</td>\n",
       "    </tr>\n",
       "  </tbody>\n",
       "</table>\n",
       "<p>500 rows × 9 columns</p>\n",
       "</div>"
      ],
      "text/plain": [
       "         Customer Name                          Customer e-mail Country  \\\n",
       "444             Camden  Aliquam.adipiscing.lobortis@loremut.net     USA   \n",
       "37      Uriel Bradshaw              ultrices@Integersemelit.com     USA   \n",
       "453            Tatyana         sem@parturientmontesnascetur.net     USA   \n",
       "298     Jelani A. Wall                      aliquet@Duisa.co.uk     USA   \n",
       "26          Ulric Lynn              sociis@vulputateveliteu.com     USA   \n",
       "..                 ...                                      ...     ...   \n",
       "409             Illana     mi.pede.nonummy@euismodetcommodo.org     USA   \n",
       "210  Hector F. Leblanc            Curabitur@maurisaliquameu.net     USA   \n",
       "246    Kylee O. Warner                    cursus.in@neque.co.uk     USA   \n",
       "236     Tate C. Foster            dignissim.magna@Maurisvel.edu     USA   \n",
       "194        Gil Sanders                 eu.ultrices@cursuset.net     USA   \n",
       "\n",
       "     Gender  Age  Annual Salary  Credit Card Debt    Net Worth  \\\n",
       "444       1   20    70467.29492        100.000000  494606.6334   \n",
       "37        1   22    43131.78411      10917.140940  326742.7352   \n",
       "453       0   25    45092.74073      11380.092880  158758.3577   \n",
       "298       0   27    55369.72784      10888.934940  606851.1696   \n",
       "26        0   28    82842.53385      13102.158050  315775.3207   \n",
       "..      ...  ...            ...               ...          ...   \n",
       "409       1   63    71948.80529       8061.968487  365862.7818   \n",
       "210       0   64    61666.28520      11672.723820  299854.2186   \n",
       "246       1   65    70703.85013       5025.365518  284991.7415   \n",
       "236       1   70    41434.51258       6810.555606  252220.2937   \n",
       "194       0   70    52323.24480      12438.856480  346555.1716   \n",
       "\n",
       "     Car Purchase Amount  \n",
       "444          28645.39425  \n",
       "37           10092.22509  \n",
       "453           9000.00000  \n",
       "298          29670.83337  \n",
       "26           37161.55393  \n",
       "..                   ...  \n",
       "409          61731.71426  \n",
       "210          55125.93237  \n",
       "246          60763.24731  \n",
       "236          47009.57741  \n",
       "194          56229.41270  \n",
       "\n",
       "[500 rows x 9 columns]"
      ]
     },
     "execution_count": 30,
     "metadata": {},
     "output_type": "execute_result"
    }
   ],
   "source": [
    "df.sort_values(by = ['Age'], ascending = True)"
   ]
  },
  {
   "cell_type": "markdown",
   "id": "afe68688",
   "metadata": {},
   "source": [
    "## Sort by age and annual salary ascending"
   ]
  },
  {
   "cell_type": "code",
   "execution_count": 31,
   "id": "8625c7bd",
   "metadata": {},
   "outputs": [
    {
     "data": {
      "text/html": [
       "<div>\n",
       "<style scoped>\n",
       "    .dataframe tbody tr th:only-of-type {\n",
       "        vertical-align: middle;\n",
       "    }\n",
       "\n",
       "    .dataframe tbody tr th {\n",
       "        vertical-align: top;\n",
       "    }\n",
       "\n",
       "    .dataframe thead th {\n",
       "        text-align: right;\n",
       "    }\n",
       "</style>\n",
       "<table border=\"1\" class=\"dataframe\">\n",
       "  <thead>\n",
       "    <tr style=\"text-align: right;\">\n",
       "      <th></th>\n",
       "      <th>Customer Name</th>\n",
       "      <th>Customer e-mail</th>\n",
       "      <th>Country</th>\n",
       "      <th>Gender</th>\n",
       "      <th>Age</th>\n",
       "      <th>Annual Salary</th>\n",
       "      <th>Credit Card Debt</th>\n",
       "      <th>Net Worth</th>\n",
       "      <th>Car Purchase Amount</th>\n",
       "    </tr>\n",
       "  </thead>\n",
       "  <tbody>\n",
       "    <tr>\n",
       "      <th>444</th>\n",
       "      <td>Camden</td>\n",
       "      <td>Aliquam.adipiscing.lobortis@loremut.net</td>\n",
       "      <td>USA</td>\n",
       "      <td>1</td>\n",
       "      <td>20</td>\n",
       "      <td>70467.29492</td>\n",
       "      <td>100.000000</td>\n",
       "      <td>494606.6334</td>\n",
       "      <td>28645.39425</td>\n",
       "    </tr>\n",
       "    <tr>\n",
       "      <th>37</th>\n",
       "      <td>Uriel Bradshaw</td>\n",
       "      <td>ultrices@Integersemelit.com</td>\n",
       "      <td>USA</td>\n",
       "      <td>1</td>\n",
       "      <td>22</td>\n",
       "      <td>43131.78411</td>\n",
       "      <td>10917.140940</td>\n",
       "      <td>326742.7352</td>\n",
       "      <td>10092.22509</td>\n",
       "    </tr>\n",
       "    <tr>\n",
       "      <th>453</th>\n",
       "      <td>Tatyana</td>\n",
       "      <td>sem@parturientmontesnascetur.net</td>\n",
       "      <td>USA</td>\n",
       "      <td>0</td>\n",
       "      <td>25</td>\n",
       "      <td>45092.74073</td>\n",
       "      <td>11380.092880</td>\n",
       "      <td>158758.3577</td>\n",
       "      <td>9000.00000</td>\n",
       "    </tr>\n",
       "    <tr>\n",
       "      <th>298</th>\n",
       "      <td>Jelani A. Wall</td>\n",
       "      <td>aliquet@Duisa.co.uk</td>\n",
       "      <td>USA</td>\n",
       "      <td>0</td>\n",
       "      <td>27</td>\n",
       "      <td>55369.72784</td>\n",
       "      <td>10888.934940</td>\n",
       "      <td>606851.1696</td>\n",
       "      <td>29670.83337</td>\n",
       "    </tr>\n",
       "    <tr>\n",
       "      <th>26</th>\n",
       "      <td>Ulric Lynn</td>\n",
       "      <td>sociis@vulputateveliteu.com</td>\n",
       "      <td>USA</td>\n",
       "      <td>0</td>\n",
       "      <td>28</td>\n",
       "      <td>82842.53385</td>\n",
       "      <td>13102.158050</td>\n",
       "      <td>315775.3207</td>\n",
       "      <td>37161.55393</td>\n",
       "    </tr>\n",
       "    <tr>\n",
       "      <th>...</th>\n",
       "      <td>...</td>\n",
       "      <td>...</td>\n",
       "      <td>...</td>\n",
       "      <td>...</td>\n",
       "      <td>...</td>\n",
       "      <td>...</td>\n",
       "      <td>...</td>\n",
       "      <td>...</td>\n",
       "      <td>...</td>\n",
       "    </tr>\n",
       "    <tr>\n",
       "      <th>303</th>\n",
       "      <td>Chambers, Avram C.</td>\n",
       "      <td>Nunc.pulvinar.arcu@ultricesaauctor.ca</td>\n",
       "      <td>USA</td>\n",
       "      <td>1</td>\n",
       "      <td>63</td>\n",
       "      <td>75719.22986</td>\n",
       "      <td>10515.281350</td>\n",
       "      <td>474485.6659</td>\n",
       "      <td>67092.23276</td>\n",
       "    </tr>\n",
       "    <tr>\n",
       "      <th>210</th>\n",
       "      <td>Hector F. Leblanc</td>\n",
       "      <td>Curabitur@maurisaliquameu.net</td>\n",
       "      <td>USA</td>\n",
       "      <td>0</td>\n",
       "      <td>64</td>\n",
       "      <td>61666.28520</td>\n",
       "      <td>11672.723820</td>\n",
       "      <td>299854.2186</td>\n",
       "      <td>55125.93237</td>\n",
       "    </tr>\n",
       "    <tr>\n",
       "      <th>246</th>\n",
       "      <td>Kylee O. Warner</td>\n",
       "      <td>cursus.in@neque.co.uk</td>\n",
       "      <td>USA</td>\n",
       "      <td>1</td>\n",
       "      <td>65</td>\n",
       "      <td>70703.85013</td>\n",
       "      <td>5025.365518</td>\n",
       "      <td>284991.7415</td>\n",
       "      <td>60763.24731</td>\n",
       "    </tr>\n",
       "    <tr>\n",
       "      <th>236</th>\n",
       "      <td>Tate C. Foster</td>\n",
       "      <td>dignissim.magna@Maurisvel.edu</td>\n",
       "      <td>USA</td>\n",
       "      <td>1</td>\n",
       "      <td>70</td>\n",
       "      <td>41434.51258</td>\n",
       "      <td>6810.555606</td>\n",
       "      <td>252220.2937</td>\n",
       "      <td>47009.57741</td>\n",
       "    </tr>\n",
       "    <tr>\n",
       "      <th>194</th>\n",
       "      <td>Gil Sanders</td>\n",
       "      <td>eu.ultrices@cursuset.net</td>\n",
       "      <td>USA</td>\n",
       "      <td>0</td>\n",
       "      <td>70</td>\n",
       "      <td>52323.24480</td>\n",
       "      <td>12438.856480</td>\n",
       "      <td>346555.1716</td>\n",
       "      <td>56229.41270</td>\n",
       "    </tr>\n",
       "  </tbody>\n",
       "</table>\n",
       "<p>500 rows × 9 columns</p>\n",
       "</div>"
      ],
      "text/plain": [
       "          Customer Name                          Customer e-mail Country  \\\n",
       "444              Camden  Aliquam.adipiscing.lobortis@loremut.net     USA   \n",
       "37       Uriel Bradshaw              ultrices@Integersemelit.com     USA   \n",
       "453             Tatyana         sem@parturientmontesnascetur.net     USA   \n",
       "298      Jelani A. Wall                      aliquet@Duisa.co.uk     USA   \n",
       "26           Ulric Lynn              sociis@vulputateveliteu.com     USA   \n",
       "..                  ...                                      ...     ...   \n",
       "303  Chambers, Avram C.    Nunc.pulvinar.arcu@ultricesaauctor.ca     USA   \n",
       "210   Hector F. Leblanc            Curabitur@maurisaliquameu.net     USA   \n",
       "246     Kylee O. Warner                    cursus.in@neque.co.uk     USA   \n",
       "236      Tate C. Foster            dignissim.magna@Maurisvel.edu     USA   \n",
       "194         Gil Sanders                 eu.ultrices@cursuset.net     USA   \n",
       "\n",
       "     Gender  Age  Annual Salary  Credit Card Debt    Net Worth  \\\n",
       "444       1   20    70467.29492        100.000000  494606.6334   \n",
       "37        1   22    43131.78411      10917.140940  326742.7352   \n",
       "453       0   25    45092.74073      11380.092880  158758.3577   \n",
       "298       0   27    55369.72784      10888.934940  606851.1696   \n",
       "26        0   28    82842.53385      13102.158050  315775.3207   \n",
       "..      ...  ...            ...               ...          ...   \n",
       "303       1   63    75719.22986      10515.281350  474485.6659   \n",
       "210       0   64    61666.28520      11672.723820  299854.2186   \n",
       "246       1   65    70703.85013       5025.365518  284991.7415   \n",
       "236       1   70    41434.51258       6810.555606  252220.2937   \n",
       "194       0   70    52323.24480      12438.856480  346555.1716   \n",
       "\n",
       "     Car Purchase Amount  \n",
       "444          28645.39425  \n",
       "37           10092.22509  \n",
       "453           9000.00000  \n",
       "298          29670.83337  \n",
       "26           37161.55393  \n",
       "..                   ...  \n",
       "303          67092.23276  \n",
       "210          55125.93237  \n",
       "246          60763.24731  \n",
       "236          47009.57741  \n",
       "194          56229.41270  \n",
       "\n",
       "[500 rows x 9 columns]"
      ]
     },
     "execution_count": 31,
     "metadata": {},
     "output_type": "execute_result"
    }
   ],
   "source": [
    "df.sort_values(by = ['Age', 'Annual Salary'], ascending = [True, True])"
   ]
  },
  {
   "cell_type": "markdown",
   "id": "cbb9ca49",
   "metadata": {},
   "source": [
    "## Calculating the difference between the cost of a car and its purchase amount"
   ]
  },
  {
   "cell_type": "code",
   "execution_count": 32,
   "id": "c9b62dab",
   "metadata": {},
   "outputs": [
    {
     "data": {
      "text/html": [
       "<div>\n",
       "<style scoped>\n",
       "    .dataframe tbody tr th:only-of-type {\n",
       "        vertical-align: middle;\n",
       "    }\n",
       "\n",
       "    .dataframe tbody tr th {\n",
       "        vertical-align: top;\n",
       "    }\n",
       "\n",
       "    .dataframe thead th {\n",
       "        text-align: right;\n",
       "    }\n",
       "</style>\n",
       "<table border=\"1\" class=\"dataframe\">\n",
       "  <thead>\n",
       "    <tr style=\"text-align: right;\">\n",
       "      <th></th>\n",
       "      <th>Customer Name</th>\n",
       "      <th>Customer e-mail</th>\n",
       "      <th>Country</th>\n",
       "      <th>Gender</th>\n",
       "      <th>Age</th>\n",
       "      <th>Annual Salary</th>\n",
       "      <th>Credit Card Debt</th>\n",
       "      <th>Net Worth</th>\n",
       "      <th>Car Purchase Amount</th>\n",
       "      <th>Price difference</th>\n",
       "    </tr>\n",
       "  </thead>\n",
       "  <tbody>\n",
       "    <tr>\n",
       "      <th>0</th>\n",
       "      <td>Martina Avila</td>\n",
       "      <td>cubilia.Curae.Phasellus@quisaccumsanconvallis.edu</td>\n",
       "      <td>USA</td>\n",
       "      <td>0</td>\n",
       "      <td>42</td>\n",
       "      <td>62812.09301</td>\n",
       "      <td>11609.380910</td>\n",
       "      <td>238961.2505</td>\n",
       "      <td>35321.45877</td>\n",
       "      <td>203639.79173</td>\n",
       "    </tr>\n",
       "    <tr>\n",
       "      <th>1</th>\n",
       "      <td>Harlan Barnes</td>\n",
       "      <td>eu.dolor@diam.co.uk</td>\n",
       "      <td>USA</td>\n",
       "      <td>0</td>\n",
       "      <td>41</td>\n",
       "      <td>66646.89292</td>\n",
       "      <td>9572.957136</td>\n",
       "      <td>530973.9078</td>\n",
       "      <td>45115.52566</td>\n",
       "      <td>485858.38214</td>\n",
       "    </tr>\n",
       "    <tr>\n",
       "      <th>2</th>\n",
       "      <td>Naomi Rodriquez</td>\n",
       "      <td>vulputate.mauris.sagittis@ametconsectetueradip...</td>\n",
       "      <td>USA</td>\n",
       "      <td>1</td>\n",
       "      <td>43</td>\n",
       "      <td>53798.55112</td>\n",
       "      <td>11160.355060</td>\n",
       "      <td>638467.1773</td>\n",
       "      <td>42925.70921</td>\n",
       "      <td>595541.46809</td>\n",
       "    </tr>\n",
       "    <tr>\n",
       "      <th>3</th>\n",
       "      <td>Jade Cunningham</td>\n",
       "      <td>malesuada@dignissim.com</td>\n",
       "      <td>USA</td>\n",
       "      <td>1</td>\n",
       "      <td>58</td>\n",
       "      <td>79370.03798</td>\n",
       "      <td>14426.164850</td>\n",
       "      <td>548599.0524</td>\n",
       "      <td>67422.36313</td>\n",
       "      <td>481176.68927</td>\n",
       "    </tr>\n",
       "    <tr>\n",
       "      <th>4</th>\n",
       "      <td>Cedric Leach</td>\n",
       "      <td>felis.ullamcorper.viverra@egetmollislectus.net</td>\n",
       "      <td>USA</td>\n",
       "      <td>1</td>\n",
       "      <td>57</td>\n",
       "      <td>59729.15130</td>\n",
       "      <td>5358.712177</td>\n",
       "      <td>560304.0671</td>\n",
       "      <td>55915.46248</td>\n",
       "      <td>504388.60462</td>\n",
       "    </tr>\n",
       "    <tr>\n",
       "      <th>...</th>\n",
       "      <td>...</td>\n",
       "      <td>...</td>\n",
       "      <td>...</td>\n",
       "      <td>...</td>\n",
       "      <td>...</td>\n",
       "      <td>...</td>\n",
       "      <td>...</td>\n",
       "      <td>...</td>\n",
       "      <td>...</td>\n",
       "      <td>...</td>\n",
       "    </tr>\n",
       "    <tr>\n",
       "      <th>495</th>\n",
       "      <td>Walter</td>\n",
       "      <td>ligula@Cumsociis.ca</td>\n",
       "      <td>USA</td>\n",
       "      <td>0</td>\n",
       "      <td>41</td>\n",
       "      <td>71942.40291</td>\n",
       "      <td>6995.902524</td>\n",
       "      <td>541670.1016</td>\n",
       "      <td>48901.44342</td>\n",
       "      <td>492768.65818</td>\n",
       "    </tr>\n",
       "    <tr>\n",
       "      <th>496</th>\n",
       "      <td>Vanna</td>\n",
       "      <td>Cum.sociis.natoque@Sedmolestie.edu</td>\n",
       "      <td>USA</td>\n",
       "      <td>1</td>\n",
       "      <td>38</td>\n",
       "      <td>56039.49793</td>\n",
       "      <td>12301.456790</td>\n",
       "      <td>360419.0988</td>\n",
       "      <td>31491.41457</td>\n",
       "      <td>328927.68423</td>\n",
       "    </tr>\n",
       "    <tr>\n",
       "      <th>497</th>\n",
       "      <td>Pearl</td>\n",
       "      <td>penatibus.et@massanonante.com</td>\n",
       "      <td>USA</td>\n",
       "      <td>1</td>\n",
       "      <td>54</td>\n",
       "      <td>68888.77805</td>\n",
       "      <td>10611.606860</td>\n",
       "      <td>764531.3203</td>\n",
       "      <td>64147.28888</td>\n",
       "      <td>700384.03142</td>\n",
       "    </tr>\n",
       "    <tr>\n",
       "      <th>498</th>\n",
       "      <td>Nell</td>\n",
       "      <td>Quisque.varius@arcuVivamussit.net</td>\n",
       "      <td>USA</td>\n",
       "      <td>1</td>\n",
       "      <td>59</td>\n",
       "      <td>49811.99062</td>\n",
       "      <td>14013.034510</td>\n",
       "      <td>337826.6382</td>\n",
       "      <td>45442.15353</td>\n",
       "      <td>292384.48467</td>\n",
       "    </tr>\n",
       "    <tr>\n",
       "      <th>499</th>\n",
       "      <td>Marla</td>\n",
       "      <td>Camaron.marla@hotmail.com</td>\n",
       "      <td>USA</td>\n",
       "      <td>1</td>\n",
       "      <td>47</td>\n",
       "      <td>61370.67766</td>\n",
       "      <td>9391.341628</td>\n",
       "      <td>462946.4924</td>\n",
       "      <td>45107.22566</td>\n",
       "      <td>417839.26674</td>\n",
       "    </tr>\n",
       "  </tbody>\n",
       "</table>\n",
       "<p>500 rows × 10 columns</p>\n",
       "</div>"
      ],
      "text/plain": [
       "       Customer Name                                    Customer e-mail  \\\n",
       "0      Martina Avila  cubilia.Curae.Phasellus@quisaccumsanconvallis.edu   \n",
       "1      Harlan Barnes                                eu.dolor@diam.co.uk   \n",
       "2    Naomi Rodriquez  vulputate.mauris.sagittis@ametconsectetueradip...   \n",
       "3    Jade Cunningham                            malesuada@dignissim.com   \n",
       "4       Cedric Leach     felis.ullamcorper.viverra@egetmollislectus.net   \n",
       "..               ...                                                ...   \n",
       "495           Walter                                ligula@Cumsociis.ca   \n",
       "496            Vanna                 Cum.sociis.natoque@Sedmolestie.edu   \n",
       "497            Pearl                      penatibus.et@massanonante.com   \n",
       "498             Nell                  Quisque.varius@arcuVivamussit.net   \n",
       "499            Marla                          Camaron.marla@hotmail.com   \n",
       "\n",
       "    Country  Gender  Age  Annual Salary  Credit Card Debt    Net Worth  \\\n",
       "0       USA       0   42    62812.09301      11609.380910  238961.2505   \n",
       "1       USA       0   41    66646.89292       9572.957136  530973.9078   \n",
       "2       USA       1   43    53798.55112      11160.355060  638467.1773   \n",
       "3       USA       1   58    79370.03798      14426.164850  548599.0524   \n",
       "4       USA       1   57    59729.15130       5358.712177  560304.0671   \n",
       "..      ...     ...  ...            ...               ...          ...   \n",
       "495     USA       0   41    71942.40291       6995.902524  541670.1016   \n",
       "496     USA       1   38    56039.49793      12301.456790  360419.0988   \n",
       "497     USA       1   54    68888.77805      10611.606860  764531.3203   \n",
       "498     USA       1   59    49811.99062      14013.034510  337826.6382   \n",
       "499     USA       1   47    61370.67766       9391.341628  462946.4924   \n",
       "\n",
       "     Car Purchase Amount  Price difference  \n",
       "0            35321.45877      203639.79173  \n",
       "1            45115.52566      485858.38214  \n",
       "2            42925.70921      595541.46809  \n",
       "3            67422.36313      481176.68927  \n",
       "4            55915.46248      504388.60462  \n",
       "..                   ...               ...  \n",
       "495          48901.44342      492768.65818  \n",
       "496          31491.41457      328927.68423  \n",
       "497          64147.28888      700384.03142  \n",
       "498          45442.15353      292384.48467  \n",
       "499          45107.22566      417839.26674  \n",
       "\n",
       "[500 rows x 10 columns]"
      ]
     },
     "execution_count": 32,
     "metadata": {},
     "output_type": "execute_result"
    }
   ],
   "source": [
    "df['Price difference'] = df['Net Worth'] - df['Car Purchase Amount']\n",
    "df"
   ]
  },
  {
   "cell_type": "markdown",
   "id": "a68f84b2",
   "metadata": {},
   "source": [
    "## Delete column \"Price difference\""
   ]
  },
  {
   "cell_type": "code",
   "execution_count": 33,
   "id": "88a25052",
   "metadata": {},
   "outputs": [
    {
     "data": {
      "text/html": [
       "<div>\n",
       "<style scoped>\n",
       "    .dataframe tbody tr th:only-of-type {\n",
       "        vertical-align: middle;\n",
       "    }\n",
       "\n",
       "    .dataframe tbody tr th {\n",
       "        vertical-align: top;\n",
       "    }\n",
       "\n",
       "    .dataframe thead th {\n",
       "        text-align: right;\n",
       "    }\n",
       "</style>\n",
       "<table border=\"1\" class=\"dataframe\">\n",
       "  <thead>\n",
       "    <tr style=\"text-align: right;\">\n",
       "      <th></th>\n",
       "      <th>Customer Name</th>\n",
       "      <th>Customer e-mail</th>\n",
       "      <th>Country</th>\n",
       "      <th>Gender</th>\n",
       "      <th>Age</th>\n",
       "      <th>Annual Salary</th>\n",
       "      <th>Credit Card Debt</th>\n",
       "      <th>Net Worth</th>\n",
       "      <th>Car Purchase Amount</th>\n",
       "    </tr>\n",
       "  </thead>\n",
       "  <tbody>\n",
       "    <tr>\n",
       "      <th>0</th>\n",
       "      <td>Martina Avila</td>\n",
       "      <td>cubilia.Curae.Phasellus@quisaccumsanconvallis.edu</td>\n",
       "      <td>USA</td>\n",
       "      <td>0</td>\n",
       "      <td>42</td>\n",
       "      <td>62812.09301</td>\n",
       "      <td>11609.380910</td>\n",
       "      <td>238961.2505</td>\n",
       "      <td>35321.45877</td>\n",
       "    </tr>\n",
       "    <tr>\n",
       "      <th>1</th>\n",
       "      <td>Harlan Barnes</td>\n",
       "      <td>eu.dolor@diam.co.uk</td>\n",
       "      <td>USA</td>\n",
       "      <td>0</td>\n",
       "      <td>41</td>\n",
       "      <td>66646.89292</td>\n",
       "      <td>9572.957136</td>\n",
       "      <td>530973.9078</td>\n",
       "      <td>45115.52566</td>\n",
       "    </tr>\n",
       "    <tr>\n",
       "      <th>2</th>\n",
       "      <td>Naomi Rodriquez</td>\n",
       "      <td>vulputate.mauris.sagittis@ametconsectetueradip...</td>\n",
       "      <td>USA</td>\n",
       "      <td>1</td>\n",
       "      <td>43</td>\n",
       "      <td>53798.55112</td>\n",
       "      <td>11160.355060</td>\n",
       "      <td>638467.1773</td>\n",
       "      <td>42925.70921</td>\n",
       "    </tr>\n",
       "    <tr>\n",
       "      <th>3</th>\n",
       "      <td>Jade Cunningham</td>\n",
       "      <td>malesuada@dignissim.com</td>\n",
       "      <td>USA</td>\n",
       "      <td>1</td>\n",
       "      <td>58</td>\n",
       "      <td>79370.03798</td>\n",
       "      <td>14426.164850</td>\n",
       "      <td>548599.0524</td>\n",
       "      <td>67422.36313</td>\n",
       "    </tr>\n",
       "    <tr>\n",
       "      <th>4</th>\n",
       "      <td>Cedric Leach</td>\n",
       "      <td>felis.ullamcorper.viverra@egetmollislectus.net</td>\n",
       "      <td>USA</td>\n",
       "      <td>1</td>\n",
       "      <td>57</td>\n",
       "      <td>59729.15130</td>\n",
       "      <td>5358.712177</td>\n",
       "      <td>560304.0671</td>\n",
       "      <td>55915.46248</td>\n",
       "    </tr>\n",
       "    <tr>\n",
       "      <th>...</th>\n",
       "      <td>...</td>\n",
       "      <td>...</td>\n",
       "      <td>...</td>\n",
       "      <td>...</td>\n",
       "      <td>...</td>\n",
       "      <td>...</td>\n",
       "      <td>...</td>\n",
       "      <td>...</td>\n",
       "      <td>...</td>\n",
       "    </tr>\n",
       "    <tr>\n",
       "      <th>495</th>\n",
       "      <td>Walter</td>\n",
       "      <td>ligula@Cumsociis.ca</td>\n",
       "      <td>USA</td>\n",
       "      <td>0</td>\n",
       "      <td>41</td>\n",
       "      <td>71942.40291</td>\n",
       "      <td>6995.902524</td>\n",
       "      <td>541670.1016</td>\n",
       "      <td>48901.44342</td>\n",
       "    </tr>\n",
       "    <tr>\n",
       "      <th>496</th>\n",
       "      <td>Vanna</td>\n",
       "      <td>Cum.sociis.natoque@Sedmolestie.edu</td>\n",
       "      <td>USA</td>\n",
       "      <td>1</td>\n",
       "      <td>38</td>\n",
       "      <td>56039.49793</td>\n",
       "      <td>12301.456790</td>\n",
       "      <td>360419.0988</td>\n",
       "      <td>31491.41457</td>\n",
       "    </tr>\n",
       "    <tr>\n",
       "      <th>497</th>\n",
       "      <td>Pearl</td>\n",
       "      <td>penatibus.et@massanonante.com</td>\n",
       "      <td>USA</td>\n",
       "      <td>1</td>\n",
       "      <td>54</td>\n",
       "      <td>68888.77805</td>\n",
       "      <td>10611.606860</td>\n",
       "      <td>764531.3203</td>\n",
       "      <td>64147.28888</td>\n",
       "    </tr>\n",
       "    <tr>\n",
       "      <th>498</th>\n",
       "      <td>Nell</td>\n",
       "      <td>Quisque.varius@arcuVivamussit.net</td>\n",
       "      <td>USA</td>\n",
       "      <td>1</td>\n",
       "      <td>59</td>\n",
       "      <td>49811.99062</td>\n",
       "      <td>14013.034510</td>\n",
       "      <td>337826.6382</td>\n",
       "      <td>45442.15353</td>\n",
       "    </tr>\n",
       "    <tr>\n",
       "      <th>499</th>\n",
       "      <td>Marla</td>\n",
       "      <td>Camaron.marla@hotmail.com</td>\n",
       "      <td>USA</td>\n",
       "      <td>1</td>\n",
       "      <td>47</td>\n",
       "      <td>61370.67766</td>\n",
       "      <td>9391.341628</td>\n",
       "      <td>462946.4924</td>\n",
       "      <td>45107.22566</td>\n",
       "    </tr>\n",
       "  </tbody>\n",
       "</table>\n",
       "<p>500 rows × 9 columns</p>\n",
       "</div>"
      ],
      "text/plain": [
       "       Customer Name                                    Customer e-mail  \\\n",
       "0      Martina Avila  cubilia.Curae.Phasellus@quisaccumsanconvallis.edu   \n",
       "1      Harlan Barnes                                eu.dolor@diam.co.uk   \n",
       "2    Naomi Rodriquez  vulputate.mauris.sagittis@ametconsectetueradip...   \n",
       "3    Jade Cunningham                            malesuada@dignissim.com   \n",
       "4       Cedric Leach     felis.ullamcorper.viverra@egetmollislectus.net   \n",
       "..               ...                                                ...   \n",
       "495           Walter                                ligula@Cumsociis.ca   \n",
       "496            Vanna                 Cum.sociis.natoque@Sedmolestie.edu   \n",
       "497            Pearl                      penatibus.et@massanonante.com   \n",
       "498             Nell                  Quisque.varius@arcuVivamussit.net   \n",
       "499            Marla                          Camaron.marla@hotmail.com   \n",
       "\n",
       "    Country  Gender  Age  Annual Salary  Credit Card Debt    Net Worth  \\\n",
       "0       USA       0   42    62812.09301      11609.380910  238961.2505   \n",
       "1       USA       0   41    66646.89292       9572.957136  530973.9078   \n",
       "2       USA       1   43    53798.55112      11160.355060  638467.1773   \n",
       "3       USA       1   58    79370.03798      14426.164850  548599.0524   \n",
       "4       USA       1   57    59729.15130       5358.712177  560304.0671   \n",
       "..      ...     ...  ...            ...               ...          ...   \n",
       "495     USA       0   41    71942.40291       6995.902524  541670.1016   \n",
       "496     USA       1   38    56039.49793      12301.456790  360419.0988   \n",
       "497     USA       1   54    68888.77805      10611.606860  764531.3203   \n",
       "498     USA       1   59    49811.99062      14013.034510  337826.6382   \n",
       "499     USA       1   47    61370.67766       9391.341628  462946.4924   \n",
       "\n",
       "     Car Purchase Amount  \n",
       "0            35321.45877  \n",
       "1            45115.52566  \n",
       "2            42925.70921  \n",
       "3            67422.36313  \n",
       "4            55915.46248  \n",
       "..                   ...  \n",
       "495          48901.44342  \n",
       "496          31491.41457  \n",
       "497          64147.28888  \n",
       "498          45442.15353  \n",
       "499          45107.22566  \n",
       "\n",
       "[500 rows x 9 columns]"
      ]
     },
     "execution_count": 33,
     "metadata": {},
     "output_type": "execute_result"
    }
   ],
   "source": [
    "del df[\"Price difference\"]\n",
    "df"
   ]
  },
  {
   "cell_type": "markdown",
   "id": "cbbc1cee",
   "metadata": {},
   "source": [
    "## Assign True value only for men"
   ]
  },
  {
   "cell_type": "code",
   "execution_count": 34,
   "id": "1997e970",
   "metadata": {},
   "outputs": [
    {
     "data": {
      "text/html": [
       "<div>\n",
       "<style scoped>\n",
       "    .dataframe tbody tr th:only-of-type {\n",
       "        vertical-align: middle;\n",
       "    }\n",
       "\n",
       "    .dataframe tbody tr th {\n",
       "        vertical-align: top;\n",
       "    }\n",
       "\n",
       "    .dataframe thead th {\n",
       "        text-align: right;\n",
       "    }\n",
       "</style>\n",
       "<table border=\"1\" class=\"dataframe\">\n",
       "  <thead>\n",
       "    <tr style=\"text-align: right;\">\n",
       "      <th></th>\n",
       "      <th>Customer Name</th>\n",
       "      <th>Customer e-mail</th>\n",
       "      <th>Country</th>\n",
       "      <th>Gender</th>\n",
       "      <th>Age</th>\n",
       "      <th>Annual Salary</th>\n",
       "      <th>Credit Card Debt</th>\n",
       "      <th>Net Worth</th>\n",
       "      <th>Car Purchase Amount</th>\n",
       "    </tr>\n",
       "  </thead>\n",
       "  <tbody>\n",
       "    <tr>\n",
       "      <th>0</th>\n",
       "      <td>Martina Avila</td>\n",
       "      <td>cubilia.Curae.Phasellus@quisaccumsanconvallis.edu</td>\n",
       "      <td>USA</td>\n",
       "      <td>False</td>\n",
       "      <td>42</td>\n",
       "      <td>62812.09301</td>\n",
       "      <td>11609.380910</td>\n",
       "      <td>238961.2505</td>\n",
       "      <td>35321.45877</td>\n",
       "    </tr>\n",
       "    <tr>\n",
       "      <th>1</th>\n",
       "      <td>Harlan Barnes</td>\n",
       "      <td>eu.dolor@diam.co.uk</td>\n",
       "      <td>USA</td>\n",
       "      <td>False</td>\n",
       "      <td>41</td>\n",
       "      <td>66646.89292</td>\n",
       "      <td>9572.957136</td>\n",
       "      <td>530973.9078</td>\n",
       "      <td>45115.52566</td>\n",
       "    </tr>\n",
       "    <tr>\n",
       "      <th>2</th>\n",
       "      <td>Naomi Rodriquez</td>\n",
       "      <td>vulputate.mauris.sagittis@ametconsectetueradip...</td>\n",
       "      <td>USA</td>\n",
       "      <td>True</td>\n",
       "      <td>43</td>\n",
       "      <td>53798.55112</td>\n",
       "      <td>11160.355060</td>\n",
       "      <td>638467.1773</td>\n",
       "      <td>42925.70921</td>\n",
       "    </tr>\n",
       "    <tr>\n",
       "      <th>3</th>\n",
       "      <td>Jade Cunningham</td>\n",
       "      <td>malesuada@dignissim.com</td>\n",
       "      <td>USA</td>\n",
       "      <td>True</td>\n",
       "      <td>58</td>\n",
       "      <td>79370.03798</td>\n",
       "      <td>14426.164850</td>\n",
       "      <td>548599.0524</td>\n",
       "      <td>67422.36313</td>\n",
       "    </tr>\n",
       "    <tr>\n",
       "      <th>4</th>\n",
       "      <td>Cedric Leach</td>\n",
       "      <td>felis.ullamcorper.viverra@egetmollislectus.net</td>\n",
       "      <td>USA</td>\n",
       "      <td>True</td>\n",
       "      <td>57</td>\n",
       "      <td>59729.15130</td>\n",
       "      <td>5358.712177</td>\n",
       "      <td>560304.0671</td>\n",
       "      <td>55915.46248</td>\n",
       "    </tr>\n",
       "    <tr>\n",
       "      <th>...</th>\n",
       "      <td>...</td>\n",
       "      <td>...</td>\n",
       "      <td>...</td>\n",
       "      <td>...</td>\n",
       "      <td>...</td>\n",
       "      <td>...</td>\n",
       "      <td>...</td>\n",
       "      <td>...</td>\n",
       "      <td>...</td>\n",
       "    </tr>\n",
       "    <tr>\n",
       "      <th>495</th>\n",
       "      <td>Walter</td>\n",
       "      <td>ligula@Cumsociis.ca</td>\n",
       "      <td>USA</td>\n",
       "      <td>False</td>\n",
       "      <td>41</td>\n",
       "      <td>71942.40291</td>\n",
       "      <td>6995.902524</td>\n",
       "      <td>541670.1016</td>\n",
       "      <td>48901.44342</td>\n",
       "    </tr>\n",
       "    <tr>\n",
       "      <th>496</th>\n",
       "      <td>Vanna</td>\n",
       "      <td>Cum.sociis.natoque@Sedmolestie.edu</td>\n",
       "      <td>USA</td>\n",
       "      <td>True</td>\n",
       "      <td>38</td>\n",
       "      <td>56039.49793</td>\n",
       "      <td>12301.456790</td>\n",
       "      <td>360419.0988</td>\n",
       "      <td>31491.41457</td>\n",
       "    </tr>\n",
       "    <tr>\n",
       "      <th>497</th>\n",
       "      <td>Pearl</td>\n",
       "      <td>penatibus.et@massanonante.com</td>\n",
       "      <td>USA</td>\n",
       "      <td>True</td>\n",
       "      <td>54</td>\n",
       "      <td>68888.77805</td>\n",
       "      <td>10611.606860</td>\n",
       "      <td>764531.3203</td>\n",
       "      <td>64147.28888</td>\n",
       "    </tr>\n",
       "    <tr>\n",
       "      <th>498</th>\n",
       "      <td>Nell</td>\n",
       "      <td>Quisque.varius@arcuVivamussit.net</td>\n",
       "      <td>USA</td>\n",
       "      <td>True</td>\n",
       "      <td>59</td>\n",
       "      <td>49811.99062</td>\n",
       "      <td>14013.034510</td>\n",
       "      <td>337826.6382</td>\n",
       "      <td>45442.15353</td>\n",
       "    </tr>\n",
       "    <tr>\n",
       "      <th>499</th>\n",
       "      <td>Marla</td>\n",
       "      <td>Camaron.marla@hotmail.com</td>\n",
       "      <td>USA</td>\n",
       "      <td>True</td>\n",
       "      <td>47</td>\n",
       "      <td>61370.67766</td>\n",
       "      <td>9391.341628</td>\n",
       "      <td>462946.4924</td>\n",
       "      <td>45107.22566</td>\n",
       "    </tr>\n",
       "  </tbody>\n",
       "</table>\n",
       "<p>500 rows × 9 columns</p>\n",
       "</div>"
      ],
      "text/plain": [
       "       Customer Name                                    Customer e-mail  \\\n",
       "0      Martina Avila  cubilia.Curae.Phasellus@quisaccumsanconvallis.edu   \n",
       "1      Harlan Barnes                                eu.dolor@diam.co.uk   \n",
       "2    Naomi Rodriquez  vulputate.mauris.sagittis@ametconsectetueradip...   \n",
       "3    Jade Cunningham                            malesuada@dignissim.com   \n",
       "4       Cedric Leach     felis.ullamcorper.viverra@egetmollislectus.net   \n",
       "..               ...                                                ...   \n",
       "495           Walter                                ligula@Cumsociis.ca   \n",
       "496            Vanna                 Cum.sociis.natoque@Sedmolestie.edu   \n",
       "497            Pearl                      penatibus.et@massanonante.com   \n",
       "498             Nell                  Quisque.varius@arcuVivamussit.net   \n",
       "499            Marla                          Camaron.marla@hotmail.com   \n",
       "\n",
       "    Country  Gender  Age  Annual Salary  Credit Card Debt    Net Worth  \\\n",
       "0       USA   False   42    62812.09301      11609.380910  238961.2505   \n",
       "1       USA   False   41    66646.89292       9572.957136  530973.9078   \n",
       "2       USA    True   43    53798.55112      11160.355060  638467.1773   \n",
       "3       USA    True   58    79370.03798      14426.164850  548599.0524   \n",
       "4       USA    True   57    59729.15130       5358.712177  560304.0671   \n",
       "..      ...     ...  ...            ...               ...          ...   \n",
       "495     USA   False   41    71942.40291       6995.902524  541670.1016   \n",
       "496     USA    True   38    56039.49793      12301.456790  360419.0988   \n",
       "497     USA    True   54    68888.77805      10611.606860  764531.3203   \n",
       "498     USA    True   59    49811.99062      14013.034510  337826.6382   \n",
       "499     USA    True   47    61370.67766       9391.341628  462946.4924   \n",
       "\n",
       "     Car Purchase Amount  \n",
       "0            35321.45877  \n",
       "1            45115.52566  \n",
       "2            42925.70921  \n",
       "3            67422.36313  \n",
       "4            55915.46248  \n",
       "..                   ...  \n",
       "495          48901.44342  \n",
       "496          31491.41457  \n",
       "497          64147.28888  \n",
       "498          45442.15353  \n",
       "499          45107.22566  \n",
       "\n",
       "[500 rows x 9 columns]"
      ]
     },
     "execution_count": 34,
     "metadata": {},
     "output_type": "execute_result"
    }
   ],
   "source": [
    "df['Gender'] = df['Gender'] == 1\n",
    "df"
   ]
  },
  {
   "cell_type": "markdown",
   "id": "8c2caef0",
   "metadata": {},
   "source": [
    "## Convert Car Purchase Amount in Rubles "
   ]
  },
  {
   "cell_type": "code",
   "execution_count": 35,
   "id": "b523971a",
   "metadata": {},
   "outputs": [],
   "source": [
    "def amount_convert_in_rub(dollar):\n",
    "    return round(dollar * 62.65, 2)"
   ]
  },
  {
   "cell_type": "code",
   "execution_count": 36,
   "id": "c5c646d9",
   "metadata": {},
   "outputs": [
    {
     "data": {
      "text/plain": [
       "0      2212889.39\n",
       "1      2826487.68\n",
       "2      2689295.68\n",
       "3      4224011.05\n",
       "4      3503103.72\n",
       "          ...    \n",
       "495    3063675.43\n",
       "496    1972937.12\n",
       "497    4018827.65\n",
       "498    2846950.92\n",
       "499    2825967.69\n",
       "Name: Car Purchase Amount, Length: 500, dtype: float64"
      ]
     },
     "execution_count": 36,
     "metadata": {},
     "output_type": "execute_result"
    }
   ],
   "source": [
    "df['Car Purchase Amount'].apply(amount_convert_in_rub)"
   ]
  },
  {
   "cell_type": "code",
   "execution_count": 37,
   "id": "f5fee202",
   "metadata": {},
   "outputs": [
    {
     "data": {
      "text/html": [
       "<div>\n",
       "<style scoped>\n",
       "    .dataframe tbody tr th:only-of-type {\n",
       "        vertical-align: middle;\n",
       "    }\n",
       "\n",
       "    .dataframe tbody tr th {\n",
       "        vertical-align: top;\n",
       "    }\n",
       "\n",
       "    .dataframe thead th {\n",
       "        text-align: right;\n",
       "    }\n",
       "</style>\n",
       "<table border=\"1\" class=\"dataframe\">\n",
       "  <thead>\n",
       "    <tr style=\"text-align: right;\">\n",
       "      <th></th>\n",
       "      <th>Customer Name</th>\n",
       "      <th>Customer e-mail</th>\n",
       "      <th>Country</th>\n",
       "      <th>Gender</th>\n",
       "      <th>Age</th>\n",
       "      <th>Annual Salary</th>\n",
       "      <th>Credit Card Debt</th>\n",
       "      <th>Net Worth</th>\n",
       "      <th>Car Purchase Amount</th>\n",
       "      <th>Car Purchase Amount in rub</th>\n",
       "    </tr>\n",
       "  </thead>\n",
       "  <tbody>\n",
       "    <tr>\n",
       "      <th>0</th>\n",
       "      <td>Martina Avila</td>\n",
       "      <td>cubilia.Curae.Phasellus@quisaccumsanconvallis.edu</td>\n",
       "      <td>USA</td>\n",
       "      <td>False</td>\n",
       "      <td>42</td>\n",
       "      <td>62812.09301</td>\n",
       "      <td>11609.380910</td>\n",
       "      <td>238961.2505</td>\n",
       "      <td>35321.45877</td>\n",
       "      <td>2212889.39</td>\n",
       "    </tr>\n",
       "    <tr>\n",
       "      <th>1</th>\n",
       "      <td>Harlan Barnes</td>\n",
       "      <td>eu.dolor@diam.co.uk</td>\n",
       "      <td>USA</td>\n",
       "      <td>False</td>\n",
       "      <td>41</td>\n",
       "      <td>66646.89292</td>\n",
       "      <td>9572.957136</td>\n",
       "      <td>530973.9078</td>\n",
       "      <td>45115.52566</td>\n",
       "      <td>2826487.68</td>\n",
       "    </tr>\n",
       "    <tr>\n",
       "      <th>2</th>\n",
       "      <td>Naomi Rodriquez</td>\n",
       "      <td>vulputate.mauris.sagittis@ametconsectetueradip...</td>\n",
       "      <td>USA</td>\n",
       "      <td>True</td>\n",
       "      <td>43</td>\n",
       "      <td>53798.55112</td>\n",
       "      <td>11160.355060</td>\n",
       "      <td>638467.1773</td>\n",
       "      <td>42925.70921</td>\n",
       "      <td>2689295.68</td>\n",
       "    </tr>\n",
       "    <tr>\n",
       "      <th>3</th>\n",
       "      <td>Jade Cunningham</td>\n",
       "      <td>malesuada@dignissim.com</td>\n",
       "      <td>USA</td>\n",
       "      <td>True</td>\n",
       "      <td>58</td>\n",
       "      <td>79370.03798</td>\n",
       "      <td>14426.164850</td>\n",
       "      <td>548599.0524</td>\n",
       "      <td>67422.36313</td>\n",
       "      <td>4224011.05</td>\n",
       "    </tr>\n",
       "    <tr>\n",
       "      <th>4</th>\n",
       "      <td>Cedric Leach</td>\n",
       "      <td>felis.ullamcorper.viverra@egetmollislectus.net</td>\n",
       "      <td>USA</td>\n",
       "      <td>True</td>\n",
       "      <td>57</td>\n",
       "      <td>59729.15130</td>\n",
       "      <td>5358.712177</td>\n",
       "      <td>560304.0671</td>\n",
       "      <td>55915.46248</td>\n",
       "      <td>3503103.72</td>\n",
       "    </tr>\n",
       "    <tr>\n",
       "      <th>...</th>\n",
       "      <td>...</td>\n",
       "      <td>...</td>\n",
       "      <td>...</td>\n",
       "      <td>...</td>\n",
       "      <td>...</td>\n",
       "      <td>...</td>\n",
       "      <td>...</td>\n",
       "      <td>...</td>\n",
       "      <td>...</td>\n",
       "      <td>...</td>\n",
       "    </tr>\n",
       "    <tr>\n",
       "      <th>495</th>\n",
       "      <td>Walter</td>\n",
       "      <td>ligula@Cumsociis.ca</td>\n",
       "      <td>USA</td>\n",
       "      <td>False</td>\n",
       "      <td>41</td>\n",
       "      <td>71942.40291</td>\n",
       "      <td>6995.902524</td>\n",
       "      <td>541670.1016</td>\n",
       "      <td>48901.44342</td>\n",
       "      <td>3063675.43</td>\n",
       "    </tr>\n",
       "    <tr>\n",
       "      <th>496</th>\n",
       "      <td>Vanna</td>\n",
       "      <td>Cum.sociis.natoque@Sedmolestie.edu</td>\n",
       "      <td>USA</td>\n",
       "      <td>True</td>\n",
       "      <td>38</td>\n",
       "      <td>56039.49793</td>\n",
       "      <td>12301.456790</td>\n",
       "      <td>360419.0988</td>\n",
       "      <td>31491.41457</td>\n",
       "      <td>1972937.12</td>\n",
       "    </tr>\n",
       "    <tr>\n",
       "      <th>497</th>\n",
       "      <td>Pearl</td>\n",
       "      <td>penatibus.et@massanonante.com</td>\n",
       "      <td>USA</td>\n",
       "      <td>True</td>\n",
       "      <td>54</td>\n",
       "      <td>68888.77805</td>\n",
       "      <td>10611.606860</td>\n",
       "      <td>764531.3203</td>\n",
       "      <td>64147.28888</td>\n",
       "      <td>4018827.65</td>\n",
       "    </tr>\n",
       "    <tr>\n",
       "      <th>498</th>\n",
       "      <td>Nell</td>\n",
       "      <td>Quisque.varius@arcuVivamussit.net</td>\n",
       "      <td>USA</td>\n",
       "      <td>True</td>\n",
       "      <td>59</td>\n",
       "      <td>49811.99062</td>\n",
       "      <td>14013.034510</td>\n",
       "      <td>337826.6382</td>\n",
       "      <td>45442.15353</td>\n",
       "      <td>2846950.92</td>\n",
       "    </tr>\n",
       "    <tr>\n",
       "      <th>499</th>\n",
       "      <td>Marla</td>\n",
       "      <td>Camaron.marla@hotmail.com</td>\n",
       "      <td>USA</td>\n",
       "      <td>True</td>\n",
       "      <td>47</td>\n",
       "      <td>61370.67766</td>\n",
       "      <td>9391.341628</td>\n",
       "      <td>462946.4924</td>\n",
       "      <td>45107.22566</td>\n",
       "      <td>2825967.69</td>\n",
       "    </tr>\n",
       "  </tbody>\n",
       "</table>\n",
       "<p>500 rows × 10 columns</p>\n",
       "</div>"
      ],
      "text/plain": [
       "       Customer Name                                    Customer e-mail  \\\n",
       "0      Martina Avila  cubilia.Curae.Phasellus@quisaccumsanconvallis.edu   \n",
       "1      Harlan Barnes                                eu.dolor@diam.co.uk   \n",
       "2    Naomi Rodriquez  vulputate.mauris.sagittis@ametconsectetueradip...   \n",
       "3    Jade Cunningham                            malesuada@dignissim.com   \n",
       "4       Cedric Leach     felis.ullamcorper.viverra@egetmollislectus.net   \n",
       "..               ...                                                ...   \n",
       "495           Walter                                ligula@Cumsociis.ca   \n",
       "496            Vanna                 Cum.sociis.natoque@Sedmolestie.edu   \n",
       "497            Pearl                      penatibus.et@massanonante.com   \n",
       "498             Nell                  Quisque.varius@arcuVivamussit.net   \n",
       "499            Marla                          Camaron.marla@hotmail.com   \n",
       "\n",
       "    Country  Gender  Age  Annual Salary  Credit Card Debt    Net Worth  \\\n",
       "0       USA   False   42    62812.09301      11609.380910  238961.2505   \n",
       "1       USA   False   41    66646.89292       9572.957136  530973.9078   \n",
       "2       USA    True   43    53798.55112      11160.355060  638467.1773   \n",
       "3       USA    True   58    79370.03798      14426.164850  548599.0524   \n",
       "4       USA    True   57    59729.15130       5358.712177  560304.0671   \n",
       "..      ...     ...  ...            ...               ...          ...   \n",
       "495     USA   False   41    71942.40291       6995.902524  541670.1016   \n",
       "496     USA    True   38    56039.49793      12301.456790  360419.0988   \n",
       "497     USA    True   54    68888.77805      10611.606860  764531.3203   \n",
       "498     USA    True   59    49811.99062      14013.034510  337826.6382   \n",
       "499     USA    True   47    61370.67766       9391.341628  462946.4924   \n",
       "\n",
       "     Car Purchase Amount  Car Purchase Amount in rub  \n",
       "0            35321.45877                  2212889.39  \n",
       "1            45115.52566                  2826487.68  \n",
       "2            42925.70921                  2689295.68  \n",
       "3            67422.36313                  4224011.05  \n",
       "4            55915.46248                  3503103.72  \n",
       "..                   ...                         ...  \n",
       "495          48901.44342                  3063675.43  \n",
       "496          31491.41457                  1972937.12  \n",
       "497          64147.28888                  4018827.65  \n",
       "498          45442.15353                  2846950.92  \n",
       "499          45107.22566                  2825967.69  \n",
       "\n",
       "[500 rows x 10 columns]"
      ]
     },
     "execution_count": 37,
     "metadata": {},
     "output_type": "execute_result"
    }
   ],
   "source": [
    "df['Car Purchase Amount in rub'] = df['Car Purchase Amount'].apply(amount_convert_in_rub)\n",
    "df"
   ]
  },
  {
   "cell_type": "markdown",
   "id": "b28c6663",
   "metadata": {},
   "source": [
    "## Introducing a categorical variable for age\n",
    "* 1: <= 30\n",
    "* 2: <= 40\n",
    "* 3: <= 50\n",
    "* 4: <= 60\n",
    "* 5: <=70"
   ]
  },
  {
   "cell_type": "code",
   "execution_count": 38,
   "id": "935eecd5",
   "metadata": {},
   "outputs": [],
   "source": [
    "def get_category_age(age):\n",
    "    if age <= 30:\n",
    "        return '1'\n",
    "    elif age <= 40:\n",
    "        return '2'\n",
    "    elif age <= 50:\n",
    "        return '3'\n",
    "    elif age <= 60:\n",
    "        return '4'\n",
    "    else:\n",
    "        return '5'"
   ]
  },
  {
   "cell_type": "code",
   "execution_count": 39,
   "id": "709129d3",
   "metadata": {},
   "outputs": [
    {
     "data": {
      "text/html": [
       "<div>\n",
       "<style scoped>\n",
       "    .dataframe tbody tr th:only-of-type {\n",
       "        vertical-align: middle;\n",
       "    }\n",
       "\n",
       "    .dataframe tbody tr th {\n",
       "        vertical-align: top;\n",
       "    }\n",
       "\n",
       "    .dataframe thead th {\n",
       "        text-align: right;\n",
       "    }\n",
       "</style>\n",
       "<table border=\"1\" class=\"dataframe\">\n",
       "  <thead>\n",
       "    <tr style=\"text-align: right;\">\n",
       "      <th></th>\n",
       "      <th>Customer Name</th>\n",
       "      <th>Customer e-mail</th>\n",
       "      <th>Country</th>\n",
       "      <th>Gender</th>\n",
       "      <th>Age</th>\n",
       "      <th>Annual Salary</th>\n",
       "      <th>Credit Card Debt</th>\n",
       "      <th>Net Worth</th>\n",
       "      <th>Car Purchase Amount</th>\n",
       "      <th>Car Purchase Amount in rub</th>\n",
       "      <th>Age category</th>\n",
       "    </tr>\n",
       "  </thead>\n",
       "  <tbody>\n",
       "    <tr>\n",
       "      <th>0</th>\n",
       "      <td>Martina Avila</td>\n",
       "      <td>cubilia.Curae.Phasellus@quisaccumsanconvallis.edu</td>\n",
       "      <td>USA</td>\n",
       "      <td>False</td>\n",
       "      <td>42</td>\n",
       "      <td>62812.09301</td>\n",
       "      <td>11609.380910</td>\n",
       "      <td>238961.2505</td>\n",
       "      <td>35321.45877</td>\n",
       "      <td>2212889.39</td>\n",
       "      <td>3</td>\n",
       "    </tr>\n",
       "    <tr>\n",
       "      <th>1</th>\n",
       "      <td>Harlan Barnes</td>\n",
       "      <td>eu.dolor@diam.co.uk</td>\n",
       "      <td>USA</td>\n",
       "      <td>False</td>\n",
       "      <td>41</td>\n",
       "      <td>66646.89292</td>\n",
       "      <td>9572.957136</td>\n",
       "      <td>530973.9078</td>\n",
       "      <td>45115.52566</td>\n",
       "      <td>2826487.68</td>\n",
       "      <td>3</td>\n",
       "    </tr>\n",
       "    <tr>\n",
       "      <th>2</th>\n",
       "      <td>Naomi Rodriquez</td>\n",
       "      <td>vulputate.mauris.sagittis@ametconsectetueradip...</td>\n",
       "      <td>USA</td>\n",
       "      <td>True</td>\n",
       "      <td>43</td>\n",
       "      <td>53798.55112</td>\n",
       "      <td>11160.355060</td>\n",
       "      <td>638467.1773</td>\n",
       "      <td>42925.70921</td>\n",
       "      <td>2689295.68</td>\n",
       "      <td>3</td>\n",
       "    </tr>\n",
       "    <tr>\n",
       "      <th>3</th>\n",
       "      <td>Jade Cunningham</td>\n",
       "      <td>malesuada@dignissim.com</td>\n",
       "      <td>USA</td>\n",
       "      <td>True</td>\n",
       "      <td>58</td>\n",
       "      <td>79370.03798</td>\n",
       "      <td>14426.164850</td>\n",
       "      <td>548599.0524</td>\n",
       "      <td>67422.36313</td>\n",
       "      <td>4224011.05</td>\n",
       "      <td>4</td>\n",
       "    </tr>\n",
       "    <tr>\n",
       "      <th>4</th>\n",
       "      <td>Cedric Leach</td>\n",
       "      <td>felis.ullamcorper.viverra@egetmollislectus.net</td>\n",
       "      <td>USA</td>\n",
       "      <td>True</td>\n",
       "      <td>57</td>\n",
       "      <td>59729.15130</td>\n",
       "      <td>5358.712177</td>\n",
       "      <td>560304.0671</td>\n",
       "      <td>55915.46248</td>\n",
       "      <td>3503103.72</td>\n",
       "      <td>4</td>\n",
       "    </tr>\n",
       "    <tr>\n",
       "      <th>...</th>\n",
       "      <td>...</td>\n",
       "      <td>...</td>\n",
       "      <td>...</td>\n",
       "      <td>...</td>\n",
       "      <td>...</td>\n",
       "      <td>...</td>\n",
       "      <td>...</td>\n",
       "      <td>...</td>\n",
       "      <td>...</td>\n",
       "      <td>...</td>\n",
       "      <td>...</td>\n",
       "    </tr>\n",
       "    <tr>\n",
       "      <th>495</th>\n",
       "      <td>Walter</td>\n",
       "      <td>ligula@Cumsociis.ca</td>\n",
       "      <td>USA</td>\n",
       "      <td>False</td>\n",
       "      <td>41</td>\n",
       "      <td>71942.40291</td>\n",
       "      <td>6995.902524</td>\n",
       "      <td>541670.1016</td>\n",
       "      <td>48901.44342</td>\n",
       "      <td>3063675.43</td>\n",
       "      <td>3</td>\n",
       "    </tr>\n",
       "    <tr>\n",
       "      <th>496</th>\n",
       "      <td>Vanna</td>\n",
       "      <td>Cum.sociis.natoque@Sedmolestie.edu</td>\n",
       "      <td>USA</td>\n",
       "      <td>True</td>\n",
       "      <td>38</td>\n",
       "      <td>56039.49793</td>\n",
       "      <td>12301.456790</td>\n",
       "      <td>360419.0988</td>\n",
       "      <td>31491.41457</td>\n",
       "      <td>1972937.12</td>\n",
       "      <td>2</td>\n",
       "    </tr>\n",
       "    <tr>\n",
       "      <th>497</th>\n",
       "      <td>Pearl</td>\n",
       "      <td>penatibus.et@massanonante.com</td>\n",
       "      <td>USA</td>\n",
       "      <td>True</td>\n",
       "      <td>54</td>\n",
       "      <td>68888.77805</td>\n",
       "      <td>10611.606860</td>\n",
       "      <td>764531.3203</td>\n",
       "      <td>64147.28888</td>\n",
       "      <td>4018827.65</td>\n",
       "      <td>4</td>\n",
       "    </tr>\n",
       "    <tr>\n",
       "      <th>498</th>\n",
       "      <td>Nell</td>\n",
       "      <td>Quisque.varius@arcuVivamussit.net</td>\n",
       "      <td>USA</td>\n",
       "      <td>True</td>\n",
       "      <td>59</td>\n",
       "      <td>49811.99062</td>\n",
       "      <td>14013.034510</td>\n",
       "      <td>337826.6382</td>\n",
       "      <td>45442.15353</td>\n",
       "      <td>2846950.92</td>\n",
       "      <td>4</td>\n",
       "    </tr>\n",
       "    <tr>\n",
       "      <th>499</th>\n",
       "      <td>Marla</td>\n",
       "      <td>Camaron.marla@hotmail.com</td>\n",
       "      <td>USA</td>\n",
       "      <td>True</td>\n",
       "      <td>47</td>\n",
       "      <td>61370.67766</td>\n",
       "      <td>9391.341628</td>\n",
       "      <td>462946.4924</td>\n",
       "      <td>45107.22566</td>\n",
       "      <td>2825967.69</td>\n",
       "      <td>3</td>\n",
       "    </tr>\n",
       "  </tbody>\n",
       "</table>\n",
       "<p>500 rows × 11 columns</p>\n",
       "</div>"
      ],
      "text/plain": [
       "       Customer Name                                    Customer e-mail  \\\n",
       "0      Martina Avila  cubilia.Curae.Phasellus@quisaccumsanconvallis.edu   \n",
       "1      Harlan Barnes                                eu.dolor@diam.co.uk   \n",
       "2    Naomi Rodriquez  vulputate.mauris.sagittis@ametconsectetueradip...   \n",
       "3    Jade Cunningham                            malesuada@dignissim.com   \n",
       "4       Cedric Leach     felis.ullamcorper.viverra@egetmollislectus.net   \n",
       "..               ...                                                ...   \n",
       "495           Walter                                ligula@Cumsociis.ca   \n",
       "496            Vanna                 Cum.sociis.natoque@Sedmolestie.edu   \n",
       "497            Pearl                      penatibus.et@massanonante.com   \n",
       "498             Nell                  Quisque.varius@arcuVivamussit.net   \n",
       "499            Marla                          Camaron.marla@hotmail.com   \n",
       "\n",
       "    Country  Gender  Age  Annual Salary  Credit Card Debt    Net Worth  \\\n",
       "0       USA   False   42    62812.09301      11609.380910  238961.2505   \n",
       "1       USA   False   41    66646.89292       9572.957136  530973.9078   \n",
       "2       USA    True   43    53798.55112      11160.355060  638467.1773   \n",
       "3       USA    True   58    79370.03798      14426.164850  548599.0524   \n",
       "4       USA    True   57    59729.15130       5358.712177  560304.0671   \n",
       "..      ...     ...  ...            ...               ...          ...   \n",
       "495     USA   False   41    71942.40291       6995.902524  541670.1016   \n",
       "496     USA    True   38    56039.49793      12301.456790  360419.0988   \n",
       "497     USA    True   54    68888.77805      10611.606860  764531.3203   \n",
       "498     USA    True   59    49811.99062      14013.034510  337826.6382   \n",
       "499     USA    True   47    61370.67766       9391.341628  462946.4924   \n",
       "\n",
       "     Car Purchase Amount  Car Purchase Amount in rub Age category  \n",
       "0            35321.45877                  2212889.39            3  \n",
       "1            45115.52566                  2826487.68            3  \n",
       "2            42925.70921                  2689295.68            3  \n",
       "3            67422.36313                  4224011.05            4  \n",
       "4            55915.46248                  3503103.72            4  \n",
       "..                   ...                         ...          ...  \n",
       "495          48901.44342                  3063675.43            3  \n",
       "496          31491.41457                  1972937.12            2  \n",
       "497          64147.28888                  4018827.65            4  \n",
       "498          45442.15353                  2846950.92            4  \n",
       "499          45107.22566                  2825967.69            3  \n",
       "\n",
       "[500 rows x 11 columns]"
      ]
     },
     "execution_count": 39,
     "metadata": {},
     "output_type": "execute_result"
    }
   ],
   "source": [
    "df['Age category'] = df['Age'].apply(get_category_age)\n",
    "df"
   ]
  },
  {
   "cell_type": "code",
   "execution_count": 40,
   "id": "69240f16",
   "metadata": {},
   "outputs": [
    {
     "name": "stdout",
     "output_type": "stream",
     "text": [
      "<class 'pandas.core.frame.DataFrame'>\n",
      "RangeIndex: 500 entries, 0 to 499\n",
      "Data columns (total 11 columns):\n",
      " #   Column                      Non-Null Count  Dtype   \n",
      "---  ------                      --------------  -----   \n",
      " 0   Customer Name               500 non-null    object  \n",
      " 1   Customer e-mail             500 non-null    object  \n",
      " 2   Country                     500 non-null    object  \n",
      " 3   Gender                      500 non-null    bool    \n",
      " 4   Age                         500 non-null    int64   \n",
      " 5   Annual Salary               500 non-null    float64 \n",
      " 6   Credit Card Debt            500 non-null    float64 \n",
      " 7   Net Worth                   500 non-null    float64 \n",
      " 8   Car Purchase Amount         500 non-null    float64 \n",
      " 9   Car Purchase Amount in rub  500 non-null    float64 \n",
      " 10  Age category                500 non-null    category\n",
      "dtypes: bool(1), category(1), float64(5), int64(1), object(3)\n",
      "memory usage: 36.5+ KB\n"
     ]
    }
   ],
   "source": [
    "df['Age category'] = pd.Categorical(df['Age category'])\n",
    "df.info()"
   ]
  },
  {
   "cell_type": "code",
   "execution_count": 41,
   "id": "c17a48f0",
   "metadata": {},
   "outputs": [
    {
     "data": {
      "text/plain": [
       "0      3\n",
       "1      3\n",
       "2      3\n",
       "3      4\n",
       "4      4\n",
       "      ..\n",
       "495    3\n",
       "496    2\n",
       "497    4\n",
       "498    4\n",
       "499    3\n",
       "Name: Age category, Length: 500, dtype: category\n",
       "Categories (5, object): ['1', '2', '3', '4', '5']"
      ]
     },
     "execution_count": 41,
     "metadata": {},
     "output_type": "execute_result"
    }
   ],
   "source": [
    "df['Age category']"
   ]
  },
  {
   "cell_type": "code",
   "execution_count": 42,
   "id": "1cfcad56",
   "metadata": {},
   "outputs": [
    {
     "data": {
      "text/plain": [
       "0      2\n",
       "1      2\n",
       "2      2\n",
       "3      3\n",
       "4      3\n",
       "      ..\n",
       "495    2\n",
       "496    1\n",
       "497    3\n",
       "498    3\n",
       "499    2\n",
       "Length: 500, dtype: int8"
      ]
     },
     "execution_count": 42,
     "metadata": {},
     "output_type": "execute_result"
    }
   ],
   "source": [
    "df['Age category'].cat.codes"
   ]
  },
  {
   "cell_type": "markdown",
   "id": "4bbfa802",
   "metadata": {},
   "source": [
    "## Build bar charts for int and category age"
   ]
  },
  {
   "cell_type": "code",
   "execution_count": 43,
   "id": "dcf42435",
   "metadata": {},
   "outputs": [
    {
     "data": {
      "text/plain": [
       "<AxesSubplot:>"
      ]
     },
     "execution_count": 43,
     "metadata": {},
     "output_type": "execute_result"
    },
    {
     "data": {
      "image/png": "[encoded data removed]",
      "text/plain": [
       "<Figure size 432x288 with 1 Axes>"
      ]
     },
     "metadata": {
      "needs_background": "light"
     },
     "output_type": "display_data"
    }
   ],
   "source": [
    "df['Age'].hist(bins=50)"
   ]
  },
  {
   "cell_type": "markdown",
   "id": "903cd7d9",
   "metadata": {},
   "source": [
    "_Most customers aged a little over 40 and a little over 50_"
   ]
  },
  {
   "cell_type": "code",
   "execution_count": 44,
   "id": "e045a7a2",
   "metadata": {},
   "outputs": [
    {
     "data": {
      "text/plain": [
       "<AxesSubplot:>"
      ]
     },
     "execution_count": 44,
     "metadata": {},
     "output_type": "execute_result"
    },
    {
     "data": {
      "image/png": "[encoded data removed]",
      "text/plain": [
       "<Figure size 432x288 with 1 Axes>"
      ]
     },
     "metadata": {
      "needs_background": "light"
     },
     "output_type": "display_data"
    }
   ],
   "source": [
    "df['Age category'].value_counts().plot(kind = 'bar')"
   ]
  },
  {
   "cell_type": "markdown",
   "id": "e01b6c4c",
   "metadata": {},
   "source": [
    "_The most popular age group of customers is '3': > 40 and <= 50_"
   ]
  },
  {
   "cell_type": "code",
   "execution_count": 45,
   "id": "d083be6c",
   "metadata": {},
   "outputs": [
    {
     "data": {
      "text/plain": [
       "<AxesSubplot:xlabel='Age category'>"
      ]
     },
     "execution_count": 45,
     "metadata": {},
     "output_type": "execute_result"
    },
    {
     "data": {
      "image/png": "[encoded data removed]",
      "text/plain": [
       "<Figure size 432x288 with 1 Axes>"
      ]
     },
     "metadata": {
      "needs_background": "light"
     },
     "output_type": "display_data"
    }
   ],
   "source": [
    "df.groupby('Age category').size().plot(kind = 'bar')"
   ]
  },
  {
   "cell_type": "markdown",
   "id": "ae427d24",
   "metadata": {},
   "source": [
    "_We can see normal distribution_"
   ]
  },
  {
   "cell_type": "markdown",
   "id": "6f8adf3b",
   "metadata": {},
   "source": [
    "### _Broken experiment with ages and group of ages :)_"
   ]
  },
  {
   "cell_type": "code",
   "execution_count": 46,
   "id": "206d4c3e",
   "metadata": {},
   "outputs": [
    {
     "data": {
      "text/plain": [
       "<AxesSubplot:xlabel='Age category,Age'>"
      ]
     },
     "execution_count": 46,
     "metadata": {},
     "output_type": "execute_result"
    },
    {
     "data": {
      "image/png": "[encoded data removed]",
      "text/plain": [
       "<Figure size 432x288 with 1 Axes>"
      ]
     },
     "metadata": {
      "needs_background": "light"
     },
     "output_type": "display_data"
    }
   ],
   "source": [
    "df.groupby('Age category')['Age'].value_counts().plot(kind = 'bar')"
   ]
  },
  {
   "cell_type": "markdown",
   "id": "f4e10782",
   "metadata": {},
   "source": [
    "## Group category Age and boolean Gender"
   ]
  },
  {
   "cell_type": "code",
   "execution_count": 47,
   "id": "a9243fb6",
   "metadata": {},
   "outputs": [
    {
     "data": {
      "text/plain": [
       "<AxesSubplot:xlabel='Age category,Gender'>"
      ]
     },
     "execution_count": 47,
     "metadata": {},
     "output_type": "execute_result"
    },
    {
     "data": {
      "image/png": "[encoded data removed]",
      "text/plain": [
       "<Figure size 432x288 with 1 Axes>"
      ]
     },
     "metadata": {
      "needs_background": "light"
     },
     "output_type": "display_data"
    }
   ],
   "source": [
    "df.groupby('Age category')['Gender'].value_counts().plot(kind = 'bar')"
   ]
  },
  {
   "cell_type": "markdown",
   "id": "166b769a",
   "metadata": {},
   "source": [
    "_In general, more men in observations in each of the groups_"
   ]
  },
  {
   "cell_type": "code",
   "execution_count": 48,
   "id": "93bdb4c6",
   "metadata": {},
   "outputs": [
    {
     "data": {
      "text/html": [
       "<div>\n",
       "<style scoped>\n",
       "    .dataframe tbody tr th:only-of-type {\n",
       "        vertical-align: middle;\n",
       "    }\n",
       "\n",
       "    .dataframe tbody tr th {\n",
       "        vertical-align: top;\n",
       "    }\n",
       "\n",
       "    .dataframe thead th {\n",
       "        text-align: right;\n",
       "    }\n",
       "</style>\n",
       "<table border=\"1\" class=\"dataframe\">\n",
       "  <thead>\n",
       "    <tr style=\"text-align: right;\">\n",
       "      <th>Gender</th>\n",
       "      <th>False</th>\n",
       "      <th>True</th>\n",
       "    </tr>\n",
       "    <tr>\n",
       "      <th>Age category</th>\n",
       "      <th></th>\n",
       "      <th></th>\n",
       "    </tr>\n",
       "  </thead>\n",
       "  <tbody>\n",
       "    <tr>\n",
       "      <th>1</th>\n",
       "      <td>3</td>\n",
       "      <td>7</td>\n",
       "    </tr>\n",
       "    <tr>\n",
       "      <th>2</th>\n",
       "      <td>48</td>\n",
       "      <td>59</td>\n",
       "    </tr>\n",
       "    <tr>\n",
       "      <th>3</th>\n",
       "      <td>109</td>\n",
       "      <td>118</td>\n",
       "    </tr>\n",
       "    <tr>\n",
       "      <th>4</th>\n",
       "      <td>76</td>\n",
       "      <td>60</td>\n",
       "    </tr>\n",
       "    <tr>\n",
       "      <th>5</th>\n",
       "      <td>11</td>\n",
       "      <td>9</td>\n",
       "    </tr>\n",
       "  </tbody>\n",
       "</table>\n",
       "</div>"
      ],
      "text/plain": [
       "Gender        False  True\n",
       "Age category             \n",
       "1                 3     7\n",
       "2                48    59\n",
       "3               109   118\n",
       "4                76    60\n",
       "5                11     9"
      ]
     },
     "execution_count": 48,
     "metadata": {},
     "output_type": "execute_result"
    }
   ],
   "source": [
    "df.groupby('Age category')['Gender'].value_counts().unstack()"
   ]
  },
  {
   "cell_type": "code",
   "execution_count": 49,
   "id": "044bf256",
   "metadata": {},
   "outputs": [
    {
     "data": {
      "text/plain": [
       "<AxesSubplot:xlabel='Age category'>"
      ]
     },
     "execution_count": 49,
     "metadata": {},
     "output_type": "execute_result"
    },
    {
     "data": {
      "image/png": "[encoded data removed]",
      "text/plain": [
       "<Figure size 432x288 with 1 Axes>"
      ]
     },
     "metadata": {
      "needs_background": "light"
     },
     "output_type": "display_data"
    }
   ],
   "source": [
    "df.groupby('Age category')['Gender'].value_counts().unstack().plot(kind = 'bar')"
   ]
  },
  {
   "cell_type": "code",
   "execution_count": 50,
   "id": "12cfff23",
   "metadata": {},
   "outputs": [
    {
     "data": {
      "text/plain": [
       "<AxesSubplot:xlabel='Age category'>"
      ]
     },
     "execution_count": 50,
     "metadata": {},
     "output_type": "execute_result"
    },
    {
     "data": {
      "image/png": "[encoded data removed]",
      "text/plain": [
       "<Figure size 432x288 with 1 Axes>"
      ]
     },
     "metadata": {
      "needs_background": "light"
     },
     "output_type": "display_data"
    }
   ],
   "source": [
    "df.groupby('Age category')['Gender'].value_counts().unstack().plot(kind = 'bar', stacked = True)"
   ]
  },
  {
   "cell_type": "markdown",
   "id": "243af79c",
   "metadata": {},
   "source": [
    "_We can not see on that in general, but more men in obs ervations in each of the groups_"
   ]
  },
  {
   "cell_type": "markdown",
   "id": "79618aac",
   "metadata": {},
   "source": [
    "## Calculation of measures of central tendencies"
   ]
  },
  {
   "cell_type": "markdown",
   "id": "c7277008",
   "metadata": {},
   "source": [
    "### Average"
   ]
  },
  {
   "cell_type": "code",
   "execution_count": 51,
   "id": "ec9fffc3",
   "metadata": {},
   "outputs": [
    {
     "data": {
      "text/plain": [
       "46.224"
      ]
     },
     "execution_count": 51,
     "metadata": {},
     "output_type": "execute_result"
    }
   ],
   "source": [
    "df['Age'].mean()"
   ]
  },
  {
   "cell_type": "markdown",
   "id": "cad503b8",
   "metadata": {},
   "source": [
    "### Median"
   ]
  },
  {
   "cell_type": "code",
   "execution_count": 52,
   "id": "7eb1e37b",
   "metadata": {},
   "outputs": [
    {
     "data": {
      "text/plain": [
       "0      20\n",
       "1      22\n",
       "2      25\n",
       "3      27\n",
       "4      28\n",
       "       ..\n",
       "495    63\n",
       "496    64\n",
       "497    65\n",
       "498    70\n",
       "499    70\n",
       "Name: Age, Length: 500, dtype: int64"
      ]
     },
     "execution_count": 52,
     "metadata": {},
     "output_type": "execute_result"
    }
   ],
   "source": [
    "df['Age'].sort_values().reset_index(drop = True)"
   ]
  },
  {
   "cell_type": "code",
   "execution_count": 53,
   "id": "0a0cd2e6",
   "metadata": {},
   "outputs": [
    {
     "data": {
      "text/plain": [
       "46.0"
      ]
     },
     "execution_count": 53,
     "metadata": {},
     "output_type": "execute_result"
    }
   ],
   "source": [
    "df['Age'].median()"
   ]
  },
  {
   "cell_type": "markdown",
   "id": "9b877539",
   "metadata": {},
   "source": [
    "### Mode"
   ]
  },
  {
   "cell_type": "code",
   "execution_count": 54,
   "id": "da9cd23d",
   "metadata": {},
   "outputs": [
    {
     "data": {
      "text/plain": [
       "0    43\n",
       "Name: Age, dtype: int64"
      ]
     },
     "execution_count": 54,
     "metadata": {},
     "output_type": "execute_result"
    }
   ],
   "source": [
    "df['Age'].mode()"
   ]
  },
  {
   "cell_type": "code",
   "execution_count": 55,
   "id": "ef62f849",
   "metadata": {},
   "outputs": [
    {
     "data": {
      "text/plain": [
       "<AxesSubplot:>"
      ]
     },
     "execution_count": 55,
     "metadata": {},
     "output_type": "execute_result"
    },
    {
     "data": {
      "image/png": "[encoded data removed]",
      "text/plain": [
       "<Figure size 432x288 with 1 Axes>"
      ]
     },
     "metadata": {
      "needs_background": "light"
     },
     "output_type": "display_data"
    }
   ],
   "source": [
    "df['Age'].hist(bins = 100)"
   ]
  },
  {
   "cell_type": "markdown",
   "id": "bbe4754d",
   "metadata": {},
   "source": [
    "## Calculation of measures of central tendencies for goups"
   ]
  },
  {
   "cell_type": "markdown",
   "id": "1c78c7e2",
   "metadata": {},
   "source": [
    "### Average"
   ]
  },
  {
   "cell_type": "code",
   "execution_count": 56,
   "id": "58226912",
   "metadata": {},
   "outputs": [
    {
     "data": {
      "text/plain": [
       "Age category\n",
       "1    0.700000\n",
       "2    0.551402\n",
       "3    0.519824\n",
       "4    0.441176\n",
       "5    0.450000\n",
       "Name: Gender, dtype: float64"
      ]
     },
     "execution_count": 56,
     "metadata": {},
     "output_type": "execute_result"
    }
   ],
   "source": [
    "df.groupby('Age category')['Gender'].mean()"
   ]
  },
  {
   "cell_type": "code",
   "execution_count": 57,
   "id": "12323917",
   "metadata": {},
   "outputs": [
    {
     "data": {
      "text/plain": [
       "Age category\n",
       "1    0.700000\n",
       "2    0.551402\n",
       "3    0.519824\n",
       "4    0.441176\n",
       "5    0.450000\n",
       "Name: Gender, dtype: float64"
      ]
     },
     "execution_count": 57,
     "metadata": {},
     "output_type": "execute_result"
    }
   ],
   "source": [
    "df.groupby('Age category')['Gender'].agg('mean')"
   ]
  },
  {
   "cell_type": "markdown",
   "id": "a4b694cf",
   "metadata": {},
   "source": [
    "## Pivot_table"
   ]
  },
  {
   "cell_type": "code",
   "execution_count": 58,
   "id": "62bacf3e",
   "metadata": {},
   "outputs": [
    {
     "data": {
      "text/html": [
       "<div>\n",
       "<style scoped>\n",
       "    .dataframe tbody tr th:only-of-type {\n",
       "        vertical-align: middle;\n",
       "    }\n",
       "\n",
       "    .dataframe tbody tr th {\n",
       "        vertical-align: top;\n",
       "    }\n",
       "\n",
       "    .dataframe thead tr th {\n",
       "        text-align: left;\n",
       "    }\n",
       "\n",
       "    .dataframe thead tr:last-of-type th {\n",
       "        text-align: right;\n",
       "    }\n",
       "</style>\n",
       "<table border=\"1\" class=\"dataframe\">\n",
       "  <thead>\n",
       "    <tr>\n",
       "      <th></th>\n",
       "      <th>mean</th>\n",
       "      <th>median</th>\n",
       "    </tr>\n",
       "    <tr>\n",
       "      <th></th>\n",
       "      <th>Gender</th>\n",
       "      <th>Gender</th>\n",
       "    </tr>\n",
       "    <tr>\n",
       "      <th>Age</th>\n",
       "      <th></th>\n",
       "      <th></th>\n",
       "    </tr>\n",
       "  </thead>\n",
       "  <tbody>\n",
       "    <tr>\n",
       "      <th>20</th>\n",
       "      <td>1.000000</td>\n",
       "      <td>1.0</td>\n",
       "    </tr>\n",
       "    <tr>\n",
       "      <th>22</th>\n",
       "      <td>1.000000</td>\n",
       "      <td>1.0</td>\n",
       "    </tr>\n",
       "    <tr>\n",
       "      <th>25</th>\n",
       "      <td>0.000000</td>\n",
       "      <td>0.0</td>\n",
       "    </tr>\n",
       "    <tr>\n",
       "      <th>27</th>\n",
       "      <td>0.000000</td>\n",
       "      <td>0.0</td>\n",
       "    </tr>\n",
       "    <tr>\n",
       "      <th>28</th>\n",
       "      <td>0.000000</td>\n",
       "      <td>0.0</td>\n",
       "    </tr>\n",
       "    <tr>\n",
       "      <th>29</th>\n",
       "      <td>1.000000</td>\n",
       "      <td>1.0</td>\n",
       "    </tr>\n",
       "    <tr>\n",
       "      <th>30</th>\n",
       "      <td>1.000000</td>\n",
       "      <td>1.0</td>\n",
       "    </tr>\n",
       "    <tr>\n",
       "      <th>31</th>\n",
       "      <td>0.000000</td>\n",
       "      <td>0.0</td>\n",
       "    </tr>\n",
       "    <tr>\n",
       "      <th>32</th>\n",
       "      <td>0.333333</td>\n",
       "      <td>0.0</td>\n",
       "    </tr>\n",
       "    <tr>\n",
       "      <th>33</th>\n",
       "      <td>0.500000</td>\n",
       "      <td>0.5</td>\n",
       "    </tr>\n",
       "    <tr>\n",
       "      <th>34</th>\n",
       "      <td>0.500000</td>\n",
       "      <td>0.5</td>\n",
       "    </tr>\n",
       "    <tr>\n",
       "      <th>35</th>\n",
       "      <td>0.600000</td>\n",
       "      <td>1.0</td>\n",
       "    </tr>\n",
       "    <tr>\n",
       "      <th>36</th>\n",
       "      <td>0.666667</td>\n",
       "      <td>1.0</td>\n",
       "    </tr>\n",
       "    <tr>\n",
       "      <th>37</th>\n",
       "      <td>0.571429</td>\n",
       "      <td>1.0</td>\n",
       "    </tr>\n",
       "    <tr>\n",
       "      <th>38</th>\n",
       "      <td>0.600000</td>\n",
       "      <td>1.0</td>\n",
       "    </tr>\n",
       "    <tr>\n",
       "      <th>39</th>\n",
       "      <td>0.642857</td>\n",
       "      <td>1.0</td>\n",
       "    </tr>\n",
       "    <tr>\n",
       "      <th>40</th>\n",
       "      <td>0.541667</td>\n",
       "      <td>1.0</td>\n",
       "    </tr>\n",
       "    <tr>\n",
       "      <th>41</th>\n",
       "      <td>0.578947</td>\n",
       "      <td>1.0</td>\n",
       "    </tr>\n",
       "    <tr>\n",
       "      <th>42</th>\n",
       "      <td>0.461538</td>\n",
       "      <td>0.0</td>\n",
       "    </tr>\n",
       "    <tr>\n",
       "      <th>43</th>\n",
       "      <td>0.500000</td>\n",
       "      <td>0.5</td>\n",
       "    </tr>\n",
       "    <tr>\n",
       "      <th>44</th>\n",
       "      <td>0.434783</td>\n",
       "      <td>0.0</td>\n",
       "    </tr>\n",
       "    <tr>\n",
       "      <th>45</th>\n",
       "      <td>0.608696</td>\n",
       "      <td>1.0</td>\n",
       "    </tr>\n",
       "    <tr>\n",
       "      <th>46</th>\n",
       "      <td>0.684211</td>\n",
       "      <td>1.0</td>\n",
       "    </tr>\n",
       "    <tr>\n",
       "      <th>47</th>\n",
       "      <td>0.520000</td>\n",
       "      <td>1.0</td>\n",
       "    </tr>\n",
       "    <tr>\n",
       "      <th>48</th>\n",
       "      <td>0.400000</td>\n",
       "      <td>0.0</td>\n",
       "    </tr>\n",
       "    <tr>\n",
       "      <th>49</th>\n",
       "      <td>0.357143</td>\n",
       "      <td>0.0</td>\n",
       "    </tr>\n",
       "    <tr>\n",
       "      <th>50</th>\n",
       "      <td>0.684211</td>\n",
       "      <td>1.0</td>\n",
       "    </tr>\n",
       "    <tr>\n",
       "      <th>51</th>\n",
       "      <td>0.241379</td>\n",
       "      <td>0.0</td>\n",
       "    </tr>\n",
       "    <tr>\n",
       "      <th>52</th>\n",
       "      <td>0.466667</td>\n",
       "      <td>0.0</td>\n",
       "    </tr>\n",
       "    <tr>\n",
       "      <th>53</th>\n",
       "      <td>0.650000</td>\n",
       "      <td>1.0</td>\n",
       "    </tr>\n",
       "    <tr>\n",
       "      <th>54</th>\n",
       "      <td>0.600000</td>\n",
       "      <td>1.0</td>\n",
       "    </tr>\n",
       "    <tr>\n",
       "      <th>55</th>\n",
       "      <td>0.187500</td>\n",
       "      <td>0.0</td>\n",
       "    </tr>\n",
       "    <tr>\n",
       "      <th>56</th>\n",
       "      <td>0.545455</td>\n",
       "      <td>1.0</td>\n",
       "    </tr>\n",
       "    <tr>\n",
       "      <th>57</th>\n",
       "      <td>0.529412</td>\n",
       "      <td>1.0</td>\n",
       "    </tr>\n",
       "    <tr>\n",
       "      <th>58</th>\n",
       "      <td>0.571429</td>\n",
       "      <td>1.0</td>\n",
       "    </tr>\n",
       "    <tr>\n",
       "      <th>59</th>\n",
       "      <td>0.666667</td>\n",
       "      <td>1.0</td>\n",
       "    </tr>\n",
       "    <tr>\n",
       "      <th>60</th>\n",
       "      <td>0.200000</td>\n",
       "      <td>0.0</td>\n",
       "    </tr>\n",
       "    <tr>\n",
       "      <th>61</th>\n",
       "      <td>0.200000</td>\n",
       "      <td>0.0</td>\n",
       "    </tr>\n",
       "    <tr>\n",
       "      <th>62</th>\n",
       "      <td>0.400000</td>\n",
       "      <td>0.0</td>\n",
       "    </tr>\n",
       "    <tr>\n",
       "      <th>63</th>\n",
       "      <td>0.666667</td>\n",
       "      <td>1.0</td>\n",
       "    </tr>\n",
       "    <tr>\n",
       "      <th>64</th>\n",
       "      <td>0.000000</td>\n",
       "      <td>0.0</td>\n",
       "    </tr>\n",
       "    <tr>\n",
       "      <th>65</th>\n",
       "      <td>1.000000</td>\n",
       "      <td>1.0</td>\n",
       "    </tr>\n",
       "    <tr>\n",
       "      <th>70</th>\n",
       "      <td>0.500000</td>\n",
       "      <td>0.5</td>\n",
       "    </tr>\n",
       "  </tbody>\n",
       "</table>\n",
       "</div>"
      ],
      "text/plain": [
       "         mean median\n",
       "       Gender Gender\n",
       "Age                 \n",
       "20   1.000000    1.0\n",
       "22   1.000000    1.0\n",
       "25   0.000000    0.0\n",
       "27   0.000000    0.0\n",
       "28   0.000000    0.0\n",
       "29   1.000000    1.0\n",
       "30   1.000000    1.0\n",
       "31   0.000000    0.0\n",
       "32   0.333333    0.0\n",
       "33   0.500000    0.5\n",
       "34   0.500000    0.5\n",
       "35   0.600000    1.0\n",
       "36   0.666667    1.0\n",
       "37   0.571429    1.0\n",
       "38   0.600000    1.0\n",
       "39   0.642857    1.0\n",
       "40   0.541667    1.0\n",
       "41   0.578947    1.0\n",
       "42   0.461538    0.0\n",
       "43   0.500000    0.5\n",
       "44   0.434783    0.0\n",
       "45   0.608696    1.0\n",
       "46   0.684211    1.0\n",
       "47   0.520000    1.0\n",
       "48   0.400000    0.0\n",
       "49   0.357143    0.0\n",
       "50   0.684211    1.0\n",
       "51   0.241379    0.0\n",
       "52   0.466667    0.0\n",
       "53   0.650000    1.0\n",
       "54   0.600000    1.0\n",
       "55   0.187500    0.0\n",
       "56   0.545455    1.0\n",
       "57   0.529412    1.0\n",
       "58   0.571429    1.0\n",
       "59   0.666667    1.0\n",
       "60   0.200000    0.0\n",
       "61   0.200000    0.0\n",
       "62   0.400000    0.0\n",
       "63   0.666667    1.0\n",
       "64   0.000000    0.0\n",
       "65   1.000000    1.0\n",
       "70   0.500000    0.5"
      ]
     },
     "execution_count": 58,
     "metadata": {},
     "output_type": "execute_result"
    }
   ],
   "source": [
    "df.pivot_table(index = 'Age', values = ['Age category', 'Gender'], aggfunc = ['mean', 'median'])"
   ]
  },
  {
   "cell_type": "markdown",
   "id": "d7dc889d",
   "metadata": {},
   "source": [
    "## Calculation of dispersion measures"
   ]
  },
  {
   "cell_type": "code",
   "execution_count": 59,
   "id": "2d9a1089",
   "metadata": {},
   "outputs": [
    {
     "data": {
      "text/html": [
       "<div>\n",
       "<style scoped>\n",
       "    .dataframe tbody tr th:only-of-type {\n",
       "        vertical-align: middle;\n",
       "    }\n",
       "\n",
       "    .dataframe tbody tr th {\n",
       "        vertical-align: top;\n",
       "    }\n",
       "\n",
       "    .dataframe thead th {\n",
       "        text-align: right;\n",
       "    }\n",
       "</style>\n",
       "<table border=\"1\" class=\"dataframe\">\n",
       "  <thead>\n",
       "    <tr style=\"text-align: right;\">\n",
       "      <th></th>\n",
       "      <th>Gender</th>\n",
       "    </tr>\n",
       "    <tr>\n",
       "      <th>Age category</th>\n",
       "      <th></th>\n",
       "    </tr>\n",
       "  </thead>\n",
       "  <tbody>\n",
       "    <tr>\n",
       "      <th>1</th>\n",
       "      <td>7</td>\n",
       "    </tr>\n",
       "    <tr>\n",
       "      <th>2</th>\n",
       "      <td>59</td>\n",
       "    </tr>\n",
       "    <tr>\n",
       "      <th>3</th>\n",
       "      <td>118</td>\n",
       "    </tr>\n",
       "    <tr>\n",
       "      <th>4</th>\n",
       "      <td>60</td>\n",
       "    </tr>\n",
       "    <tr>\n",
       "      <th>5</th>\n",
       "      <td>9</td>\n",
       "    </tr>\n",
       "  </tbody>\n",
       "</table>\n",
       "</div>"
      ],
      "text/plain": [
       "              Gender\n",
       "Age category        \n",
       "1                  7\n",
       "2                 59\n",
       "3                118\n",
       "4                 60\n",
       "5                  9"
      ]
     },
     "execution_count": 59,
     "metadata": {},
     "output_type": "execute_result"
    }
   ],
   "source": [
    "df_age_category = pd.DataFrame(df.groupby('Age category')['Gender'].sum())\n",
    "df_age_category"
   ]
  },
  {
   "cell_type": "code",
   "execution_count": 60,
   "id": "522bffe8",
   "metadata": {},
   "outputs": [
    {
     "data": {
      "text/plain": [
       "<AxesSubplot:xlabel='Age category'>"
      ]
     },
     "execution_count": 60,
     "metadata": {},
     "output_type": "execute_result"
    },
    {
     "data": {
      "image/png": "[encoded data removed]",
      "text/plain": [
       "<Figure size 432x288 with 1 Axes>"
      ]
     },
     "metadata": {
      "needs_background": "light"
     },
     "output_type": "display_data"
    }
   ],
   "source": [
    "df_age_category.plot(kind = 'bar')"
   ]
  },
  {
   "cell_type": "code",
   "execution_count": 61,
   "id": "eb5d27e3",
   "metadata": {},
   "outputs": [
    {
     "data": {
      "text/html": [
       "<div>\n",
       "<style scoped>\n",
       "    .dataframe tbody tr th:only-of-type {\n",
       "        vertical-align: middle;\n",
       "    }\n",
       "\n",
       "    .dataframe tbody tr th {\n",
       "        vertical-align: top;\n",
       "    }\n",
       "\n",
       "    .dataframe thead th {\n",
       "        text-align: right;\n",
       "    }\n",
       "</style>\n",
       "<table border=\"1\" class=\"dataframe\">\n",
       "  <thead>\n",
       "    <tr style=\"text-align: right;\">\n",
       "      <th></th>\n",
       "      <th>Gender</th>\n",
       "    </tr>\n",
       "  </thead>\n",
       "  <tbody>\n",
       "    <tr>\n",
       "      <th>count</th>\n",
       "      <td>5.000000</td>\n",
       "    </tr>\n",
       "    <tr>\n",
       "      <th>mean</th>\n",
       "      <td>50.600000</td>\n",
       "    </tr>\n",
       "    <tr>\n",
       "      <th>std</th>\n",
       "      <td>45.643181</td>\n",
       "    </tr>\n",
       "    <tr>\n",
       "      <th>min</th>\n",
       "      <td>7.000000</td>\n",
       "    </tr>\n",
       "    <tr>\n",
       "      <th>25%</th>\n",
       "      <td>9.000000</td>\n",
       "    </tr>\n",
       "    <tr>\n",
       "      <th>50%</th>\n",
       "      <td>59.000000</td>\n",
       "    </tr>\n",
       "    <tr>\n",
       "      <th>75%</th>\n",
       "      <td>60.000000</td>\n",
       "    </tr>\n",
       "    <tr>\n",
       "      <th>max</th>\n",
       "      <td>118.000000</td>\n",
       "    </tr>\n",
       "  </tbody>\n",
       "</table>\n",
       "</div>"
      ],
      "text/plain": [
       "           Gender\n",
       "count    5.000000\n",
       "mean    50.600000\n",
       "std     45.643181\n",
       "min      7.000000\n",
       "25%      9.000000\n",
       "50%     59.000000\n",
       "75%     60.000000\n",
       "max    118.000000"
      ]
     },
     "execution_count": 61,
     "metadata": {},
     "output_type": "execute_result"
    }
   ],
   "source": [
    "df_age_category.describe()"
   ]
  },
  {
   "cell_type": "code",
   "execution_count": 62,
   "id": "b491d01d",
   "metadata": {},
   "outputs": [
    {
     "data": {
      "text/plain": [
       "9.0"
      ]
     },
     "execution_count": 62,
     "metadata": {},
     "output_type": "execute_result"
    }
   ],
   "source": [
    "np.percentile(df_age_category['Gender'], 25)"
   ]
  },
  {
   "cell_type": "code",
   "execution_count": 63,
   "id": "d9c7c214",
   "metadata": {},
   "outputs": [
    {
     "name": "stdout",
     "output_type": "stream",
     "text": [
      "2083.3\n",
      "45.64318130893157\n"
     ]
    }
   ],
   "source": [
    "print(df_age_category['Gender'].var())\n",
    "print(df_age_category['Gender'].std())"
   ]
  },
  {
   "cell_type": "code",
   "execution_count": 64,
   "id": "f8779f8c",
   "metadata": {},
   "outputs": [
    {
     "name": "stdout",
     "output_type": "stream",
     "text": [
      "1666.64\n",
      "40.824502446447525\n"
     ]
    }
   ],
   "source": [
    "print(df_age_category['Gender'].var(ddof = 0))\n",
    "print(df_age_category['Gender'].std(ddof = 0))"
   ]
  },
  {
   "cell_type": "markdown",
   "id": "d4a3e3d3",
   "metadata": {},
   "source": [
    "## Z-Value"
   ]
  },
  {
   "cell_type": "code",
   "execution_count": 65,
   "id": "cd61f175",
   "metadata": {},
   "outputs": [
    {
     "data": {
      "text/plain": [
       "count       500.000000\n",
       "mean      62127.239608\n",
       "std       11703.378228\n",
       "min       20000.000000\n",
       "25%       54391.977195\n",
       "50%       62915.497035\n",
       "75%       70117.862005\n",
       "max      100000.000000\n",
       "Name: Annual Salary, dtype: float64"
      ]
     },
     "execution_count": 65,
     "metadata": {},
     "output_type": "execute_result"
    }
   ],
   "source": [
    "df['Annual Salary'].describe()"
   ]
  },
  {
   "cell_type": "code",
   "execution_count": 66,
   "id": "cd5502f8",
   "metadata": {},
   "outputs": [
    {
     "name": "stdout",
     "output_type": "stream",
     "text": [
      "70117.862005 54391.977195\n"
     ]
    }
   ],
   "source": [
    "q3 = np.percentile(df['Annual Salary'], 75)\n",
    "q1 = np.percentile(df['Annual Salary'], 25)\n",
    "print(q3, q1)"
   ]
  },
  {
   "cell_type": "code",
   "execution_count": 67,
   "id": "1651315f",
   "metadata": {},
   "outputs": [
    {
     "name": "stdout",
     "output_type": "stream",
     "text": [
      "15725.884810000003\n"
     ]
    }
   ],
   "source": [
    "iqr = q3 - q1\n",
    "print(iqr)"
   ]
  },
  {
   "cell_type": "code",
   "execution_count": 68,
   "id": "f3d7469e",
   "metadata": {},
   "outputs": [
    {
     "name": "stdout",
     "output_type": "stream",
     "text": [
      "30803.149979999995 77980.80441000001\n"
     ]
    }
   ],
   "source": [
    "iqr_threshold_bottom = q1 - 1.5 * iqr\n",
    "iqr_threshold_top = q1 + 1.5 * iqr\n",
    "print(iqr_threshold_bottom, iqr_threshold_top)"
   ]
  },
  {
   "cell_type": "markdown",
   "id": "7b010b4e",
   "metadata": {},
   "source": [
    "_The lower threshold is greater than the minimum value_ **There are outliers to the left of the median**\n",
    "\n",
    "_The upper threshold is less than the maximum value_ **There are outliers to the right of the median**"
   ]
  },
  {
   "cell_type": "markdown",
   "id": "8a1e2266",
   "metadata": {},
   "source": [
    "### Outliers identified"
   ]
  },
  {
   "cell_type": "code",
   "execution_count": 69,
   "id": "e5bfbfec",
   "metadata": {},
   "outputs": [
    {
     "data": {
      "text/html": [
       "<div>\n",
       "<style scoped>\n",
       "    .dataframe tbody tr th:only-of-type {\n",
       "        vertical-align: middle;\n",
       "    }\n",
       "\n",
       "    .dataframe tbody tr th {\n",
       "        vertical-align: top;\n",
       "    }\n",
       "\n",
       "    .dataframe thead th {\n",
       "        text-align: right;\n",
       "    }\n",
       "</style>\n",
       "<table border=\"1\" class=\"dataframe\">\n",
       "  <thead>\n",
       "    <tr style=\"text-align: right;\">\n",
       "      <th></th>\n",
       "      <th>Customer Name</th>\n",
       "      <th>Customer e-mail</th>\n",
       "      <th>Country</th>\n",
       "      <th>Gender</th>\n",
       "      <th>Age</th>\n",
       "      <th>Annual Salary</th>\n",
       "      <th>Credit Card Debt</th>\n",
       "      <th>Net Worth</th>\n",
       "      <th>Car Purchase Amount</th>\n",
       "      <th>Car Purchase Amount in rub</th>\n",
       "      <th>Age category</th>\n",
       "    </tr>\n",
       "  </thead>\n",
       "  <tbody>\n",
       "    <tr>\n",
       "      <th>89</th>\n",
       "      <td>Ferdinand Weber</td>\n",
       "      <td>metus.Vivamus@vitaeposuere.org</td>\n",
       "      <td>USA</td>\n",
       "      <td>True</td>\n",
       "      <td>32</td>\n",
       "      <td>20000.0</td>\n",
       "      <td>14261.80773</td>\n",
       "      <td>579181.6552</td>\n",
       "      <td>12895.71468</td>\n",
       "      <td>807916.52</td>\n",
       "      <td>2</td>\n",
       "    </tr>\n",
       "  </tbody>\n",
       "</table>\n",
       "</div>"
      ],
      "text/plain": [
       "      Customer Name                 Customer e-mail Country  Gender  Age  \\\n",
       "89  Ferdinand Weber  metus.Vivamus@vitaeposuere.org     USA    True   32   \n",
       "\n",
       "    Annual Salary  Credit Card Debt    Net Worth  Car Purchase Amount  \\\n",
       "89        20000.0       14261.80773  579181.6552          12895.71468   \n",
       "\n",
       "    Car Purchase Amount in rub Age category  \n",
       "89                   807916.52            2  "
      ]
     },
     "execution_count": 69,
     "metadata": {},
     "output_type": "execute_result"
    }
   ],
   "source": [
    "df[df['Annual Salary'] < iqr_threshold_bottom]"
   ]
  },
  {
   "cell_type": "code",
   "execution_count": 70,
   "id": "72420068",
   "metadata": {},
   "outputs": [
    {
     "data": {
      "text/html": [
       "<div>\n",
       "<style scoped>\n",
       "    .dataframe tbody tr th:only-of-type {\n",
       "        vertical-align: middle;\n",
       "    }\n",
       "\n",
       "    .dataframe tbody tr th {\n",
       "        vertical-align: top;\n",
       "    }\n",
       "\n",
       "    .dataframe thead th {\n",
       "        text-align: right;\n",
       "    }\n",
       "</style>\n",
       "<table border=\"1\" class=\"dataframe\">\n",
       "  <thead>\n",
       "    <tr style=\"text-align: right;\">\n",
       "      <th></th>\n",
       "      <th>Customer Name</th>\n",
       "      <th>Customer e-mail</th>\n",
       "      <th>Country</th>\n",
       "      <th>Gender</th>\n",
       "      <th>Age</th>\n",
       "      <th>Annual Salary</th>\n",
       "      <th>Credit Card Debt</th>\n",
       "      <th>Net Worth</th>\n",
       "      <th>Car Purchase Amount</th>\n",
       "      <th>Car Purchase Amount in rub</th>\n",
       "      <th>Age category</th>\n",
       "    </tr>\n",
       "  </thead>\n",
       "  <tbody>\n",
       "    <tr>\n",
       "      <th>3</th>\n",
       "      <td>Jade Cunningham</td>\n",
       "      <td>malesuada@dignissim.com</td>\n",
       "      <td>USA</td>\n",
       "      <td>True</td>\n",
       "      <td>58</td>\n",
       "      <td>79370.03798</td>\n",
       "      <td>14426.164850</td>\n",
       "      <td>548599.05240</td>\n",
       "      <td>67422.36313</td>\n",
       "      <td>4224011.05</td>\n",
       "      <td>4</td>\n",
       "    </tr>\n",
       "    <tr>\n",
       "      <th>26</th>\n",
       "      <td>Ulric Lynn</td>\n",
       "      <td>sociis@vulputateveliteu.com</td>\n",
       "      <td>USA</td>\n",
       "      <td>False</td>\n",
       "      <td>28</td>\n",
       "      <td>82842.53385</td>\n",
       "      <td>13102.158050</td>\n",
       "      <td>315775.32070</td>\n",
       "      <td>37161.55393</td>\n",
       "      <td>2328171.35</td>\n",
       "      <td>1</td>\n",
       "    </tr>\n",
       "    <tr>\n",
       "      <th>28</th>\n",
       "      <td>Gemma Hendrix</td>\n",
       "      <td>lobortis@non.co.uk</td>\n",
       "      <td>USA</td>\n",
       "      <td>True</td>\n",
       "      <td>46</td>\n",
       "      <td>100000.00000</td>\n",
       "      <td>17452.921790</td>\n",
       "      <td>188032.07780</td>\n",
       "      <td>58350.31809</td>\n",
       "      <td>3655647.43</td>\n",
       "      <td>3</td>\n",
       "    </tr>\n",
       "    <tr>\n",
       "      <th>32</th>\n",
       "      <td>Dahlia Cleveland</td>\n",
       "      <td>tincidunt.tempus@idsapien.co.uk</td>\n",
       "      <td>USA</td>\n",
       "      <td>True</td>\n",
       "      <td>51</td>\n",
       "      <td>82358.22683</td>\n",
       "      <td>8092.475103</td>\n",
       "      <td>655934.46660</td>\n",
       "      <td>66363.89316</td>\n",
       "      <td>4157697.91</td>\n",
       "      <td>4</td>\n",
       "    </tr>\n",
       "    <tr>\n",
       "      <th>39</th>\n",
       "      <td>Christopher Stevens</td>\n",
       "      <td>blandit.enim@lacusvariuset.org</td>\n",
       "      <td>USA</td>\n",
       "      <td>True</td>\n",
       "      <td>48</td>\n",
       "      <td>80959.53310</td>\n",
       "      <td>4499.921096</td>\n",
       "      <td>379749.91520</td>\n",
       "      <td>54823.19221</td>\n",
       "      <td>3434672.99</td>\n",
       "      <td>3</td>\n",
       "    </tr>\n",
       "    <tr>\n",
       "      <th>44</th>\n",
       "      <td>Tamara Guy</td>\n",
       "      <td>nec.eleifend@orci.org</td>\n",
       "      <td>USA</td>\n",
       "      <td>True</td>\n",
       "      <td>61</td>\n",
       "      <td>79792.13096</td>\n",
       "      <td>14245.533190</td>\n",
       "      <td>497950.29330</td>\n",
       "      <td>68678.43520</td>\n",
       "      <td>4302703.97</td>\n",
       "      <td>5</td>\n",
       "    </tr>\n",
       "    <tr>\n",
       "      <th>56</th>\n",
       "      <td>Marny Vargas</td>\n",
       "      <td>nonummy.Fusce.fermentum@ligula.org</td>\n",
       "      <td>USA</td>\n",
       "      <td>True</td>\n",
       "      <td>34</td>\n",
       "      <td>84467.78988</td>\n",
       "      <td>7772.444847</td>\n",
       "      <td>468238.79150</td>\n",
       "      <td>47380.91224</td>\n",
       "      <td>2968414.15</td>\n",
       "      <td>2</td>\n",
       "    </tr>\n",
       "    <tr>\n",
       "      <th>96</th>\n",
       "      <td>Glenna Graham</td>\n",
       "      <td>sodales@maurisSuspendisse.com</td>\n",
       "      <td>USA</td>\n",
       "      <td>False</td>\n",
       "      <td>46</td>\n",
       "      <td>90556.62686</td>\n",
       "      <td>13872.566700</td>\n",
       "      <td>479586.93870</td>\n",
       "      <td>61593.52058</td>\n",
       "      <td>3858834.06</td>\n",
       "      <td>3</td>\n",
       "    </tr>\n",
       "    <tr>\n",
       "      <th>112</th>\n",
       "      <td>Kadeem Larsen</td>\n",
       "      <td>ornare.lectus.ante@lectusNullam.net</td>\n",
       "      <td>USA</td>\n",
       "      <td>False</td>\n",
       "      <td>44</td>\n",
       "      <td>82573.01132</td>\n",
       "      <td>1696.989764</td>\n",
       "      <td>562605.06550</td>\n",
       "      <td>57306.32866</td>\n",
       "      <td>3590241.49</td>\n",
       "      <td>3</td>\n",
       "    </tr>\n",
       "    <tr>\n",
       "      <th>117</th>\n",
       "      <td>Lamar Hensley</td>\n",
       "      <td>erat@pedeac.co.uk</td>\n",
       "      <td>USA</td>\n",
       "      <td>False</td>\n",
       "      <td>35</td>\n",
       "      <td>84171.16719</td>\n",
       "      <td>12719.644150</td>\n",
       "      <td>244310.57360</td>\n",
       "      <td>41451.71843</td>\n",
       "      <td>2596950.16</td>\n",
       "      <td>2</td>\n",
       "    </tr>\n",
       "    <tr>\n",
       "      <th>128</th>\n",
       "      <td>Ulysses Craig</td>\n",
       "      <td>sit.amet@orci.ca</td>\n",
       "      <td>USA</td>\n",
       "      <td>True</td>\n",
       "      <td>51</td>\n",
       "      <td>83626.30783</td>\n",
       "      <td>8458.749819</td>\n",
       "      <td>167031.55540</td>\n",
       "      <td>52665.36511</td>\n",
       "      <td>3299485.12</td>\n",
       "      <td>4</td>\n",
       "    </tr>\n",
       "    <tr>\n",
       "      <th>148</th>\n",
       "      <td>Reuben Holden</td>\n",
       "      <td>pede.nonummy@Vivamusnonlorem.co.uk</td>\n",
       "      <td>USA</td>\n",
       "      <td>True</td>\n",
       "      <td>50</td>\n",
       "      <td>88292.73205</td>\n",
       "      <td>10799.138100</td>\n",
       "      <td>378357.93850</td>\n",
       "      <td>60222.22672</td>\n",
       "      <td>3772922.50</td>\n",
       "      <td>3</td>\n",
       "    </tr>\n",
       "    <tr>\n",
       "      <th>173</th>\n",
       "      <td>Cameron Cash</td>\n",
       "      <td>auctor@ipsum.org</td>\n",
       "      <td>USA</td>\n",
       "      <td>True</td>\n",
       "      <td>54</td>\n",
       "      <td>81757.66856</td>\n",
       "      <td>7500.778414</td>\n",
       "      <td>278181.83540</td>\n",
       "      <td>57430.76903</td>\n",
       "      <td>3598037.68</td>\n",
       "      <td>4</td>\n",
       "    </tr>\n",
       "    <tr>\n",
       "      <th>177</th>\n",
       "      <td>Phelan Montoya</td>\n",
       "      <td>magna.tellus.faucibus@etmalesuadafames.co.uk</td>\n",
       "      <td>USA</td>\n",
       "      <td>False</td>\n",
       "      <td>51</td>\n",
       "      <td>85186.48921</td>\n",
       "      <td>12413.031900</td>\n",
       "      <td>546630.52840</td>\n",
       "      <td>64545.16339</td>\n",
       "      <td>4043754.49</td>\n",
       "      <td>4</td>\n",
       "    </tr>\n",
       "    <tr>\n",
       "      <th>190</th>\n",
       "      <td>Ulric Robles</td>\n",
       "      <td>fringilla@ornare.edu</td>\n",
       "      <td>USA</td>\n",
       "      <td>True</td>\n",
       "      <td>48</td>\n",
       "      <td>86067.83527</td>\n",
       "      <td>9181.067430</td>\n",
       "      <td>335652.62340</td>\n",
       "      <td>56579.90338</td>\n",
       "      <td>3544730.95</td>\n",
       "      <td>3</td>\n",
       "    </tr>\n",
       "    <tr>\n",
       "      <th>223</th>\n",
       "      <td>Shad K. Hancock</td>\n",
       "      <td>sit.amet@Proin.org</td>\n",
       "      <td>USA</td>\n",
       "      <td>True</td>\n",
       "      <td>38</td>\n",
       "      <td>79368.91741</td>\n",
       "      <td>13501.926590</td>\n",
       "      <td>761935.51770</td>\n",
       "      <td>56457.74038</td>\n",
       "      <td>3537077.43</td>\n",
       "      <td>2</td>\n",
       "    </tr>\n",
       "    <tr>\n",
       "      <th>242</th>\n",
       "      <td>Michelle W. Ryan</td>\n",
       "      <td>ante.lectus@duiCum.net</td>\n",
       "      <td>USA</td>\n",
       "      <td>False</td>\n",
       "      <td>48</td>\n",
       "      <td>86706.33333</td>\n",
       "      <td>9653.264980</td>\n",
       "      <td>333543.69300</td>\n",
       "      <td>56499.10202</td>\n",
       "      <td>3539668.74</td>\n",
       "      <td>3</td>\n",
       "    </tr>\n",
       "    <tr>\n",
       "      <th>277</th>\n",
       "      <td>Solomon P. Randolph</td>\n",
       "      <td>orci.luctus.et@lacus.com</td>\n",
       "      <td>USA</td>\n",
       "      <td>False</td>\n",
       "      <td>54</td>\n",
       "      <td>79173.07670</td>\n",
       "      <td>6913.056830</td>\n",
       "      <td>397700.14040</td>\n",
       "      <td>59483.91183</td>\n",
       "      <td>3726667.08</td>\n",
       "      <td>4</td>\n",
       "    </tr>\n",
       "    <tr>\n",
       "      <th>289</th>\n",
       "      <td>Madeson R. Salinas</td>\n",
       "      <td>Cum.sociis.natoque@acnullaIn.edu</td>\n",
       "      <td>USA</td>\n",
       "      <td>False</td>\n",
       "      <td>48</td>\n",
       "      <td>86565.15641</td>\n",
       "      <td>13701.799860</td>\n",
       "      <td>819002.17480</td>\n",
       "      <td>70878.29664</td>\n",
       "      <td>4440525.28</td>\n",
       "      <td>3</td>\n",
       "    </tr>\n",
       "    <tr>\n",
       "      <th>299</th>\n",
       "      <td>England, Abel D.</td>\n",
       "      <td>enim.commodo@parturientmontesnascetur.org</td>\n",
       "      <td>USA</td>\n",
       "      <td>True</td>\n",
       "      <td>46</td>\n",
       "      <td>82425.64679</td>\n",
       "      <td>7525.252104</td>\n",
       "      <td>684273.59130</td>\n",
       "      <td>63038.20422</td>\n",
       "      <td>3949343.49</td>\n",
       "      <td>3</td>\n",
       "    </tr>\n",
       "    <tr>\n",
       "      <th>300</th>\n",
       "      <td>Oconnor, Linus Q.</td>\n",
       "      <td>Donec.elementum@Fuscemilorem.co.uk</td>\n",
       "      <td>USA</td>\n",
       "      <td>False</td>\n",
       "      <td>51</td>\n",
       "      <td>82094.10712</td>\n",
       "      <td>1065.607589</td>\n",
       "      <td>577272.68050</td>\n",
       "      <td>63248.76188</td>\n",
       "      <td>3962534.93</td>\n",
       "      <td>4</td>\n",
       "    </tr>\n",
       "    <tr>\n",
       "      <th>308</th>\n",
       "      <td>Gross, Cedric D.</td>\n",
       "      <td>aliquam.adipiscing@maurissapien.edu</td>\n",
       "      <td>USA</td>\n",
       "      <td>False</td>\n",
       "      <td>37</td>\n",
       "      <td>78804.99824</td>\n",
       "      <td>12710.003090</td>\n",
       "      <td>315058.71670</td>\n",
       "      <td>42497.72862</td>\n",
       "      <td>2662482.70</td>\n",
       "      <td>2</td>\n",
       "    </tr>\n",
       "    <tr>\n",
       "      <th>315</th>\n",
       "      <td>Cameron, Kimberley P.</td>\n",
       "      <td>nec.tellus@lacinia.co.uk</td>\n",
       "      <td>USA</td>\n",
       "      <td>True</td>\n",
       "      <td>55</td>\n",
       "      <td>83333.81054</td>\n",
       "      <td>9874.075327</td>\n",
       "      <td>1000000.00000</td>\n",
       "      <td>80000.00000</td>\n",
       "      <td>5012000.00</td>\n",
       "      <td>4</td>\n",
       "    </tr>\n",
       "    <tr>\n",
       "      <th>317</th>\n",
       "      <td>Dalton, Grant D.</td>\n",
       "      <td>velit@doloregestas.net</td>\n",
       "      <td>USA</td>\n",
       "      <td>True</td>\n",
       "      <td>45</td>\n",
       "      <td>88816.02695</td>\n",
       "      <td>9317.221950</td>\n",
       "      <td>493592.17640</td>\n",
       "      <td>59758.73247</td>\n",
       "      <td>3743884.59</td>\n",
       "      <td>3</td>\n",
       "    </tr>\n",
       "    <tr>\n",
       "      <th>320</th>\n",
       "      <td>Wise, Mechelle E.</td>\n",
       "      <td>est.mollis@dui.ca</td>\n",
       "      <td>USA</td>\n",
       "      <td>False</td>\n",
       "      <td>45</td>\n",
       "      <td>79781.90126</td>\n",
       "      <td>11148.103250</td>\n",
       "      <td>427287.62770</td>\n",
       "      <td>52983.89411</td>\n",
       "      <td>3319440.97</td>\n",
       "      <td>3</td>\n",
       "    </tr>\n",
       "    <tr>\n",
       "      <th>342</th>\n",
       "      <td>Flores, Caldwell U.</td>\n",
       "      <td>ut@Etiamvestibulum.ca</td>\n",
       "      <td>USA</td>\n",
       "      <td>False</td>\n",
       "      <td>41</td>\n",
       "      <td>92471.17612</td>\n",
       "      <td>5404.397644</td>\n",
       "      <td>515717.74760</td>\n",
       "      <td>59096.26978</td>\n",
       "      <td>3702381.30</td>\n",
       "      <td>3</td>\n",
       "    </tr>\n",
       "    <tr>\n",
       "      <th>365</th>\n",
       "      <td>Watson, Moana M.</td>\n",
       "      <td>ipsum.Suspendisse@diamDuismi.org</td>\n",
       "      <td>USA</td>\n",
       "      <td>False</td>\n",
       "      <td>51</td>\n",
       "      <td>84120.95497</td>\n",
       "      <td>9596.513091</td>\n",
       "      <td>27888.74525</td>\n",
       "      <td>48955.85816</td>\n",
       "      <td>3067084.51</td>\n",
       "      <td>4</td>\n",
       "    </tr>\n",
       "    <tr>\n",
       "      <th>370</th>\n",
       "      <td>Daugherty, Veda M.</td>\n",
       "      <td>venenatis.vel.faucibus@iaculisnec.net</td>\n",
       "      <td>USA</td>\n",
       "      <td>True</td>\n",
       "      <td>48</td>\n",
       "      <td>91083.73918</td>\n",
       "      <td>13148.855970</td>\n",
       "      <td>387538.24870</td>\n",
       "      <td>60960.83428</td>\n",
       "      <td>3819196.27</td>\n",
       "      <td>3</td>\n",
       "    </tr>\n",
       "    <tr>\n",
       "      <th>388</th>\n",
       "      <td>Little, Hayley R.</td>\n",
       "      <td>nunc.est@purusmaurisa.co.uk</td>\n",
       "      <td>USA</td>\n",
       "      <td>True</td>\n",
       "      <td>41</td>\n",
       "      <td>79444.01301</td>\n",
       "      <td>11620.107900</td>\n",
       "      <td>627086.65630</td>\n",
       "      <td>55174.98946</td>\n",
       "      <td>3456713.09</td>\n",
       "      <td>3</td>\n",
       "    </tr>\n",
       "    <tr>\n",
       "      <th>415</th>\n",
       "      <td>Hyatt</td>\n",
       "      <td>erat.Vivamus@ligula.co.uk</td>\n",
       "      <td>USA</td>\n",
       "      <td>True</td>\n",
       "      <td>49</td>\n",
       "      <td>81997.33071</td>\n",
       "      <td>12616.456220</td>\n",
       "      <td>237185.17140</td>\n",
       "      <td>52056.41478</td>\n",
       "      <td>3261334.39</td>\n",
       "      <td>3</td>\n",
       "    </tr>\n",
       "    <tr>\n",
       "      <th>423</th>\n",
       "      <td>Lani</td>\n",
       "      <td>odio.Phasellus@fringilla.co.uk</td>\n",
       "      <td>USA</td>\n",
       "      <td>False</td>\n",
       "      <td>43</td>\n",
       "      <td>85475.64202</td>\n",
       "      <td>13786.149420</td>\n",
       "      <td>267555.11780</td>\n",
       "      <td>49568.47685</td>\n",
       "      <td>3105465.07</td>\n",
       "      <td>3</td>\n",
       "    </tr>\n",
       "    <tr>\n",
       "      <th>425</th>\n",
       "      <td>Rhonda</td>\n",
       "      <td>Sed.congue.elit@faucibusleo.ca</td>\n",
       "      <td>USA</td>\n",
       "      <td>False</td>\n",
       "      <td>41</td>\n",
       "      <td>79064.95590</td>\n",
       "      <td>7221.667169</td>\n",
       "      <td>365871.49920</td>\n",
       "      <td>47719.47741</td>\n",
       "      <td>2989625.26</td>\n",
       "      <td>3</td>\n",
       "    </tr>\n",
       "    <tr>\n",
       "      <th>434</th>\n",
       "      <td>Uriah</td>\n",
       "      <td>molestie@commodoauctorvelit.co.uk</td>\n",
       "      <td>USA</td>\n",
       "      <td>True</td>\n",
       "      <td>45</td>\n",
       "      <td>80015.83115</td>\n",
       "      <td>9064.618618</td>\n",
       "      <td>508555.15920</td>\n",
       "      <td>55420.56668</td>\n",
       "      <td>3472098.50</td>\n",
       "      <td>3</td>\n",
       "    </tr>\n",
       "    <tr>\n",
       "      <th>456</th>\n",
       "      <td>Brandon</td>\n",
       "      <td>non@purusaccumsaninterdum.com</td>\n",
       "      <td>USA</td>\n",
       "      <td>False</td>\n",
       "      <td>33</td>\n",
       "      <td>87598.01501</td>\n",
       "      <td>10814.579150</td>\n",
       "      <td>485563.73630</td>\n",
       "      <td>48785.15839</td>\n",
       "      <td>3056390.17</td>\n",
       "      <td>2</td>\n",
       "    </tr>\n",
       "    <tr>\n",
       "      <th>465</th>\n",
       "      <td>Vaughan</td>\n",
       "      <td>Aliquam@aaliquet.com</td>\n",
       "      <td>USA</td>\n",
       "      <td>False</td>\n",
       "      <td>51</td>\n",
       "      <td>92455.72807</td>\n",
       "      <td>9877.169366</td>\n",
       "      <td>285326.35440</td>\n",
       "      <td>61404.22578</td>\n",
       "      <td>3846974.75</td>\n",
       "      <td>4</td>\n",
       "    </tr>\n",
       "    <tr>\n",
       "      <th>470</th>\n",
       "      <td>Diana</td>\n",
       "      <td>purus.ac.tellus@parturientmontesnascetur.org</td>\n",
       "      <td>USA</td>\n",
       "      <td>False</td>\n",
       "      <td>60</td>\n",
       "      <td>81565.95967</td>\n",
       "      <td>9072.063059</td>\n",
       "      <td>544291.95040</td>\n",
       "      <td>69669.47402</td>\n",
       "      <td>4364792.55</td>\n",
       "      <td>4</td>\n",
       "    </tr>\n",
       "    <tr>\n",
       "      <th>491</th>\n",
       "      <td>Merrill</td>\n",
       "      <td>dolor.sit@turpisIn.com</td>\n",
       "      <td>USA</td>\n",
       "      <td>True</td>\n",
       "      <td>50</td>\n",
       "      <td>78518.21527</td>\n",
       "      <td>10072.482980</td>\n",
       "      <td>294506.08440</td>\n",
       "      <td>52785.16947</td>\n",
       "      <td>3306990.87</td>\n",
       "      <td>3</td>\n",
       "    </tr>\n",
       "  </tbody>\n",
       "</table>\n",
       "</div>"
      ],
      "text/plain": [
       "             Customer Name                               Customer e-mail  \\\n",
       "3          Jade Cunningham                       malesuada@dignissim.com   \n",
       "26              Ulric Lynn                   sociis@vulputateveliteu.com   \n",
       "28           Gemma Hendrix                            lobortis@non.co.uk   \n",
       "32        Dahlia Cleveland               tincidunt.tempus@idsapien.co.uk   \n",
       "39     Christopher Stevens                blandit.enim@lacusvariuset.org   \n",
       "44              Tamara Guy                         nec.eleifend@orci.org   \n",
       "56            Marny Vargas            nonummy.Fusce.fermentum@ligula.org   \n",
       "96           Glenna Graham                 sodales@maurisSuspendisse.com   \n",
       "112          Kadeem Larsen           ornare.lectus.ante@lectusNullam.net   \n",
       "117          Lamar Hensley                             erat@pedeac.co.uk   \n",
       "128          Ulysses Craig                              sit.amet@orci.ca   \n",
       "148          Reuben Holden            pede.nonummy@Vivamusnonlorem.co.uk   \n",
       "173           Cameron Cash                              auctor@ipsum.org   \n",
       "177         Phelan Montoya  magna.tellus.faucibus@etmalesuadafames.co.uk   \n",
       "190           Ulric Robles                          fringilla@ornare.edu   \n",
       "223        Shad K. Hancock                            sit.amet@Proin.org   \n",
       "242       Michelle W. Ryan                        ante.lectus@duiCum.net   \n",
       "277    Solomon P. Randolph                      orci.luctus.et@lacus.com   \n",
       "289     Madeson R. Salinas              Cum.sociis.natoque@acnullaIn.edu   \n",
       "299       England, Abel D.     enim.commodo@parturientmontesnascetur.org   \n",
       "300      Oconnor, Linus Q.            Donec.elementum@Fuscemilorem.co.uk   \n",
       "308       Gross, Cedric D.           aliquam.adipiscing@maurissapien.edu   \n",
       "315  Cameron, Kimberley P.                      nec.tellus@lacinia.co.uk   \n",
       "317       Dalton, Grant D.                        velit@doloregestas.net   \n",
       "320      Wise, Mechelle E.                             est.mollis@dui.ca   \n",
       "342    Flores, Caldwell U.                         ut@Etiamvestibulum.ca   \n",
       "365       Watson, Moana M.              ipsum.Suspendisse@diamDuismi.org   \n",
       "370     Daugherty, Veda M.         venenatis.vel.faucibus@iaculisnec.net   \n",
       "388      Little, Hayley R.                   nunc.est@purusmaurisa.co.uk   \n",
       "415                  Hyatt                     erat.Vivamus@ligula.co.uk   \n",
       "423                   Lani                odio.Phasellus@fringilla.co.uk   \n",
       "425                 Rhonda                Sed.congue.elit@faucibusleo.ca   \n",
       "434                  Uriah             molestie@commodoauctorvelit.co.uk   \n",
       "456                Brandon                 non@purusaccumsaninterdum.com   \n",
       "465                Vaughan                          Aliquam@aaliquet.com   \n",
       "470                  Diana  purus.ac.tellus@parturientmontesnascetur.org   \n",
       "491                Merrill                        dolor.sit@turpisIn.com   \n",
       "\n",
       "    Country  Gender  Age  Annual Salary  Credit Card Debt      Net Worth  \\\n",
       "3       USA    True   58    79370.03798      14426.164850   548599.05240   \n",
       "26      USA   False   28    82842.53385      13102.158050   315775.32070   \n",
       "28      USA    True   46   100000.00000      17452.921790   188032.07780   \n",
       "32      USA    True   51    82358.22683       8092.475103   655934.46660   \n",
       "39      USA    True   48    80959.53310       4499.921096   379749.91520   \n",
       "44      USA    True   61    79792.13096      14245.533190   497950.29330   \n",
       "56      USA    True   34    84467.78988       7772.444847   468238.79150   \n",
       "96      USA   False   46    90556.62686      13872.566700   479586.93870   \n",
       "112     USA   False   44    82573.01132       1696.989764   562605.06550   \n",
       "117     USA   False   35    84171.16719      12719.644150   244310.57360   \n",
       "128     USA    True   51    83626.30783       8458.749819   167031.55540   \n",
       "148     USA    True   50    88292.73205      10799.138100   378357.93850   \n",
       "173     USA    True   54    81757.66856       7500.778414   278181.83540   \n",
       "177     USA   False   51    85186.48921      12413.031900   546630.52840   \n",
       "190     USA    True   48    86067.83527       9181.067430   335652.62340   \n",
       "223     USA    True   38    79368.91741      13501.926590   761935.51770   \n",
       "242     USA   False   48    86706.33333       9653.264980   333543.69300   \n",
       "277     USA   False   54    79173.07670       6913.056830   397700.14040   \n",
       "289     USA   False   48    86565.15641      13701.799860   819002.17480   \n",
       "299     USA    True   46    82425.64679       7525.252104   684273.59130   \n",
       "300     USA   False   51    82094.10712       1065.607589   577272.68050   \n",
       "308     USA   False   37    78804.99824      12710.003090   315058.71670   \n",
       "315     USA    True   55    83333.81054       9874.075327  1000000.00000   \n",
       "317     USA    True   45    88816.02695       9317.221950   493592.17640   \n",
       "320     USA   False   45    79781.90126      11148.103250   427287.62770   \n",
       "342     USA   False   41    92471.17612       5404.397644   515717.74760   \n",
       "365     USA   False   51    84120.95497       9596.513091    27888.74525   \n",
       "370     USA    True   48    91083.73918      13148.855970   387538.24870   \n",
       "388     USA    True   41    79444.01301      11620.107900   627086.65630   \n",
       "415     USA    True   49    81997.33071      12616.456220   237185.17140   \n",
       "423     USA   False   43    85475.64202      13786.149420   267555.11780   \n",
       "425     USA   False   41    79064.95590       7221.667169   365871.49920   \n",
       "434     USA    True   45    80015.83115       9064.618618   508555.15920   \n",
       "456     USA   False   33    87598.01501      10814.579150   485563.73630   \n",
       "465     USA   False   51    92455.72807       9877.169366   285326.35440   \n",
       "470     USA   False   60    81565.95967       9072.063059   544291.95040   \n",
       "491     USA    True   50    78518.21527      10072.482980   294506.08440   \n",
       "\n",
       "     Car Purchase Amount  Car Purchase Amount in rub Age category  \n",
       "3            67422.36313                  4224011.05            4  \n",
       "26           37161.55393                  2328171.35            1  \n",
       "28           58350.31809                  3655647.43            3  \n",
       "32           66363.89316                  4157697.91            4  \n",
       "39           54823.19221                  3434672.99            3  \n",
       "44           68678.43520                  4302703.97            5  \n",
       "56           47380.91224                  2968414.15            2  \n",
       "96           61593.52058                  3858834.06            3  \n",
       "112          57306.32866                  3590241.49            3  \n",
       "117          41451.71843                  2596950.16            2  \n",
       "128          52665.36511                  3299485.12            4  \n",
       "148          60222.22672                  3772922.50            3  \n",
       "173          57430.76903                  3598037.68            4  \n",
       "177          64545.16339                  4043754.49            4  \n",
       "190          56579.90338                  3544730.95            3  \n",
       "223          56457.74038                  3537077.43            2  \n",
       "242          56499.10202                  3539668.74            3  \n",
       "277          59483.91183                  3726667.08            4  \n",
       "289          70878.29664                  4440525.28            3  \n",
       "299          63038.20422                  3949343.49            3  \n",
       "300          63248.76188                  3962534.93            4  \n",
       "308          42497.72862                  2662482.70            2  \n",
       "315          80000.00000                  5012000.00            4  \n",
       "317          59758.73247                  3743884.59            3  \n",
       "320          52983.89411                  3319440.97            3  \n",
       "342          59096.26978                  3702381.30            3  \n",
       "365          48955.85816                  3067084.51            4  \n",
       "370          60960.83428                  3819196.27            3  \n",
       "388          55174.98946                  3456713.09            3  \n",
       "415          52056.41478                  3261334.39            3  \n",
       "423          49568.47685                  3105465.07            3  \n",
       "425          47719.47741                  2989625.26            3  \n",
       "434          55420.56668                  3472098.50            3  \n",
       "456          48785.15839                  3056390.17            2  \n",
       "465          61404.22578                  3846974.75            4  \n",
       "470          69669.47402                  4364792.55            4  \n",
       "491          52785.16947                  3306990.87            3  "
      ]
     },
     "execution_count": 70,
     "metadata": {},
     "output_type": "execute_result"
    }
   ],
   "source": [
    "df[df['Annual Salary'] > iqr_threshold_top]"
   ]
  },
  {
   "cell_type": "code",
   "execution_count": 71,
   "id": "4fa685ec",
   "metadata": {},
   "outputs": [],
   "source": [
    "iqr_no_outliers = df[df['Annual Salary'] <= iqr_threshold_top]\n",
    "std_no_outliers = df[df['Annual Salary'] <= iqr_threshold_top]"
   ]
  },
  {
   "cell_type": "code",
   "execution_count": 72,
   "id": "9419285c",
   "metadata": {},
   "outputs": [
    {
     "name": "stdout",
     "output_type": "stream",
     "text": [
      "62127.239607559975\n",
      "60368.71744505397\n",
      "60368.71744505397\n"
     ]
    }
   ],
   "source": [
    "print(df['Annual Salary'].mean())\n",
    "print(iqr_no_outliers['Annual Salary'].mean())\n",
    "print(std_no_outliers['Annual Salary'].mean())"
   ]
  },
  {
   "cell_type": "code",
   "execution_count": 73,
   "id": "82f6ccbe",
   "metadata": {},
   "outputs": [
    {
     "name": "stdout",
     "output_type": "stream",
     "text": [
      "62915.497035\n",
      "61723.00613\n",
      "61723.00613\n"
     ]
    }
   ],
   "source": [
    "print(df['Annual Salary'].median())\n",
    "print(iqr_no_outliers['Annual Salary'].median())\n",
    "print(std_no_outliers['Annual Salary'].median())"
   ]
  },
  {
   "cell_type": "markdown",
   "id": "64f0a74c",
   "metadata": {},
   "source": [
    "## Looking for missing values"
   ]
  },
  {
   "cell_type": "code",
   "execution_count": 74,
   "id": "3cd5d977",
   "metadata": {},
   "outputs": [
    {
     "name": "stdout",
     "output_type": "stream",
     "text": [
      "<class 'pandas.core.frame.DataFrame'>\n",
      "RangeIndex: 500 entries, 0 to 499\n",
      "Data columns (total 11 columns):\n",
      " #   Column                      Non-Null Count  Dtype   \n",
      "---  ------                      --------------  -----   \n",
      " 0   Customer Name               500 non-null    object  \n",
      " 1   Customer e-mail             500 non-null    object  \n",
      " 2   Country                     500 non-null    object  \n",
      " 3   Gender                      500 non-null    bool    \n",
      " 4   Age                         500 non-null    int64   \n",
      " 5   Annual Salary               500 non-null    float64 \n",
      " 6   Credit Card Debt            500 non-null    float64 \n",
      " 7   Net Worth                   500 non-null    float64 \n",
      " 8   Car Purchase Amount         500 non-null    float64 \n",
      " 9   Car Purchase Amount in rub  500 non-null    float64 \n",
      " 10  Age category                500 non-null    category\n",
      "dtypes: bool(1), category(1), float64(5), int64(1), object(3)\n",
      "memory usage: 36.5+ KB\n"
     ]
    }
   ],
   "source": [
    "df.info()"
   ]
  },
  {
   "cell_type": "code",
   "execution_count": 75,
   "id": "ac45f9ab",
   "metadata": {},
   "outputs": [
    {
     "data": {
      "text/plain": [
       "Customer Name                 0\n",
       "Customer e-mail               0\n",
       "Country                       0\n",
       "Gender                        0\n",
       "Age                           0\n",
       "Annual Salary                 0\n",
       "Credit Card Debt              0\n",
       "Net Worth                     0\n",
       "Car Purchase Amount           0\n",
       "Car Purchase Amount in rub    0\n",
       "Age category                  0\n",
       "dtype: int64"
      ]
     },
     "execution_count": 75,
     "metadata": {},
     "output_type": "execute_result"
    }
   ],
   "source": [
    "df.isna().sum()"
   ]
  },
  {
   "cell_type": "markdown",
   "id": "8b9be3f0",
   "metadata": {},
   "source": [
    "**_Prepared dataset does not contain missing values_**"
   ]
  },
  {
   "cell_type": "code",
   "execution_count": 76,
   "id": "eac50747",
   "metadata": {},
   "outputs": [
    {
     "name": "stdout",
     "output_type": "stream",
     "text": [
      "<class 'pandas.core.frame.DataFrame'>\n",
      "RangeIndex: 500 entries, 0 to 499\n",
      "Data columns (total 11 columns):\n",
      " #   Column                      Non-Null Count  Dtype   \n",
      "---  ------                      --------------  -----   \n",
      " 0   Customer Name               500 non-null    object  \n",
      " 1   Customer e-mail             500 non-null    object  \n",
      " 2   Country                     500 non-null    object  \n",
      " 3   Gender                      500 non-null    bool    \n",
      " 4   Age                         500 non-null    int64   \n",
      " 5   Annual Salary               500 non-null    float64 \n",
      " 6   Credit Card Debt            500 non-null    float64 \n",
      " 7   Net Worth                   500 non-null    float64 \n",
      " 8   Car Purchase Amount         500 non-null    float64 \n",
      " 9   Car Purchase Amount in rub  500 non-null    float64 \n",
      " 10  Age category                500 non-null    category\n",
      "dtypes: bool(1), category(1), float64(5), int64(1), object(3)\n",
      "memory usage: 36.5+ KB\n"
     ]
    }
   ],
   "source": [
    "df.info()"
   ]
  },
  {
   "cell_type": "markdown",
   "id": "25ecdbaa",
   "metadata": {},
   "source": [
    "## Correlation"
   ]
  },
  {
   "cell_type": "code",
   "execution_count": 77,
   "id": "55aceeef",
   "metadata": {},
   "outputs": [
    {
     "data": {
      "text/plain": [
       "Age category\n",
       "1    62179.795316\n",
       "2    61432.405129\n",
       "3    62459.952709\n",
       "4    62517.564315\n",
       "5    59387.824496\n",
       "Name: Annual Salary, dtype: float64"
      ]
     },
     "execution_count": 77,
     "metadata": {},
     "output_type": "execute_result"
    }
   ],
   "source": [
    "age_category_mean = df.groupby(df['Age category'])['Annual Salary'].mean()\n",
    "age_category_mean"
   ]
  },
  {
   "cell_type": "code",
   "execution_count": 78,
   "id": "869e8773",
   "metadata": {},
   "outputs": [
    {
     "data": {
      "text/plain": [
       "Age category\n",
       "1    4.072484e+06\n",
       "2    4.648774e+07\n",
       "3    9.725317e+07\n",
       "4    5.912353e+07\n",
       "5    8.800928e+06\n",
       "Name: Net Worth, dtype: float64"
      ]
     },
     "execution_count": 78,
     "metadata": {},
     "output_type": "execute_result"
    }
   ],
   "source": [
    "age_category_sum = df.groupby(df['Age category'])['Net Worth'].sum()\n",
    "age_category_sum"
   ]
  },
  {
   "cell_type": "code",
   "execution_count": 79,
   "id": "d5fc225e",
   "metadata": {},
   "outputs": [
    {
     "data": {
      "text/html": [
       "<div>\n",
       "<style scoped>\n",
       "    .dataframe tbody tr th:only-of-type {\n",
       "        vertical-align: middle;\n",
       "    }\n",
       "\n",
       "    .dataframe tbody tr th {\n",
       "        vertical-align: top;\n",
       "    }\n",
       "\n",
       "    .dataframe thead th {\n",
       "        text-align: right;\n",
       "    }\n",
       "</style>\n",
       "<table border=\"1\" class=\"dataframe\">\n",
       "  <thead>\n",
       "    <tr style=\"text-align: right;\">\n",
       "      <th></th>\n",
       "      <th>Annual Salary</th>\n",
       "      <th>Net Worth</th>\n",
       "    </tr>\n",
       "    <tr>\n",
       "      <th>Age category</th>\n",
       "      <th></th>\n",
       "      <th></th>\n",
       "    </tr>\n",
       "  </thead>\n",
       "  <tbody>\n",
       "    <tr>\n",
       "      <th>1</th>\n",
       "      <td>62179.795316</td>\n",
       "      <td>4.072484e+06</td>\n",
       "    </tr>\n",
       "    <tr>\n",
       "      <th>2</th>\n",
       "      <td>61432.405129</td>\n",
       "      <td>4.648774e+07</td>\n",
       "    </tr>\n",
       "    <tr>\n",
       "      <th>3</th>\n",
       "      <td>62459.952709</td>\n",
       "      <td>9.725317e+07</td>\n",
       "    </tr>\n",
       "    <tr>\n",
       "      <th>4</th>\n",
       "      <td>62517.564315</td>\n",
       "      <td>5.912353e+07</td>\n",
       "    </tr>\n",
       "    <tr>\n",
       "      <th>5</th>\n",
       "      <td>59387.824496</td>\n",
       "      <td>8.800928e+06</td>\n",
       "    </tr>\n",
       "  </tbody>\n",
       "</table>\n",
       "</div>"
      ],
      "text/plain": [
       "              Annual Salary     Net Worth\n",
       "Age category                             \n",
       "1              62179.795316  4.072484e+06\n",
       "2              61432.405129  4.648774e+07\n",
       "3              62459.952709  9.725317e+07\n",
       "4              62517.564315  5.912353e+07\n",
       "5              59387.824496  8.800928e+06"
      ]
     },
     "execution_count": 79,
     "metadata": {},
     "output_type": "execute_result"
    }
   ],
   "source": [
    "df_age_category = pd.concat([age_category_mean, age_category_sum], axis = 1)\n",
    "df_age_category"
   ]
  },
  {
   "cell_type": "markdown",
   "id": "757c672c",
   "metadata": {},
   "source": [
    "_Received the average salary and the total amount of cars purchased for each age group_"
   ]
  },
  {
   "cell_type": "markdown",
   "id": "80a798e5",
   "metadata": {},
   "source": [
    "### Finding deviations from the mean"
   ]
  },
  {
   "cell_type": "code",
   "execution_count": 80,
   "id": "8ccaa5bd",
   "metadata": {},
   "outputs": [
    {
     "data": {
      "text/html": [
       "<div>\n",
       "<style scoped>\n",
       "    .dataframe tbody tr th:only-of-type {\n",
       "        vertical-align: middle;\n",
       "    }\n",
       "\n",
       "    .dataframe tbody tr th {\n",
       "        vertical-align: top;\n",
       "    }\n",
       "\n",
       "    .dataframe thead th {\n",
       "        text-align: right;\n",
       "    }\n",
       "</style>\n",
       "<table border=\"1\" class=\"dataframe\">\n",
       "  <thead>\n",
       "    <tr style=\"text-align: right;\">\n",
       "      <th></th>\n",
       "      <th>Annual Salary</th>\n",
       "      <th>Net Worth</th>\n",
       "      <th>X - Mx</th>\n",
       "      <th>Y - My</th>\n",
       "    </tr>\n",
       "    <tr>\n",
       "      <th>Age category</th>\n",
       "      <th></th>\n",
       "      <th></th>\n",
       "      <th></th>\n",
       "      <th></th>\n",
       "    </tr>\n",
       "  </thead>\n",
       "  <tbody>\n",
       "    <tr>\n",
       "      <th>1</th>\n",
       "      <td>62179.795316</td>\n",
       "      <td>4.072484e+06</td>\n",
       "      <td>584.286923</td>\n",
       "      <td>-3.907509e+07</td>\n",
       "    </tr>\n",
       "    <tr>\n",
       "      <th>2</th>\n",
       "      <td>61432.405129</td>\n",
       "      <td>4.648774e+07</td>\n",
       "      <td>-163.103264</td>\n",
       "      <td>3.340167e+06</td>\n",
       "    </tr>\n",
       "    <tr>\n",
       "      <th>3</th>\n",
       "      <td>62459.952709</td>\n",
       "      <td>9.725317e+07</td>\n",
       "      <td>864.444316</td>\n",
       "      <td>5.410560e+07</td>\n",
       "    </tr>\n",
       "    <tr>\n",
       "      <th>4</th>\n",
       "      <td>62517.564315</td>\n",
       "      <td>5.912353e+07</td>\n",
       "      <td>922.055922</td>\n",
       "      <td>1.597596e+07</td>\n",
       "    </tr>\n",
       "    <tr>\n",
       "      <th>5</th>\n",
       "      <td>59387.824496</td>\n",
       "      <td>8.800928e+06</td>\n",
       "      <td>-2207.683897</td>\n",
       "      <td>-3.434664e+07</td>\n",
       "    </tr>\n",
       "  </tbody>\n",
       "</table>\n",
       "</div>"
      ],
      "text/plain": [
       "              Annual Salary     Net Worth       X - Mx        Y - My\n",
       "Age category                                                        \n",
       "1              62179.795316  4.072484e+06   584.286923 -3.907509e+07\n",
       "2              61432.405129  4.648774e+07  -163.103264  3.340167e+06\n",
       "3              62459.952709  9.725317e+07   864.444316  5.410560e+07\n",
       "4              62517.564315  5.912353e+07   922.055922  1.597596e+07\n",
       "5              59387.824496  8.800928e+06 -2207.683897 -3.434664e+07"
      ]
     },
     "execution_count": 80,
     "metadata": {},
     "output_type": "execute_result"
    }
   ],
   "source": [
    "df_age_category['X - Mx'] = df_age_category['Annual Salary'] - df_age_category['Annual Salary'].mean()\n",
    "df_age_category['Y - My'] = df_age_category['Net Worth'] - df_age_category['Net Worth'].mean()\n",
    "df_age_category"
   ]
  },
  {
   "cell_type": "code",
   "execution_count": 81,
   "id": "8a6d6401",
   "metadata": {},
   "outputs": [
    {
     "name": "stdout",
     "output_type": "stream",
     "text": [
      "6839313.171707956 5900358577839958.0 113952686003.53363\n"
     ]
    }
   ],
   "source": [
    "SSx = (df_age_category['X - Mx'] ** 2).sum()\n",
    "SSy = (df_age_category['Y - My'] ** 2).sum()\n",
    "SP = (df_age_category['X - Mx'] * df_age_category['Y - My']).sum()\n",
    "print(SSx, SSy, SP)"
   ]
  },
  {
   "cell_type": "code",
   "execution_count": 82,
   "id": "de97a6fe",
   "metadata": {},
   "outputs": [
    {
     "name": "stdout",
     "output_type": "stream",
     "text": [
      "0.5672560264864651\n"
     ]
    }
   ],
   "source": [
    "r = SP / np.sqrt(SSx * SSy)\n",
    "print(r)"
   ]
  },
  {
   "cell_type": "code",
   "execution_count": 83,
   "id": "17f8b65f",
   "metadata": {},
   "outputs": [
    {
     "data": {
      "text/plain": [
       "0.567256026486465"
      ]
     },
     "execution_count": 83,
     "metadata": {},
     "output_type": "execute_result"
    }
   ],
   "source": [
    "df_age_category['Annual Salary'].corr(df_age_category['Net Worth'])"
   ]
  },
  {
   "cell_type": "markdown",
   "id": "5682e04a",
   "metadata": {},
   "source": [
    "**The correlation between the level of salary and the cost of a car for each of the age groups turned out to be > 0.5, which means that the correlation is not weak**"
   ]
  },
  {
   "cell_type": "code",
   "execution_count": 84,
   "id": "8171689d",
   "metadata": {},
   "outputs": [
    {
     "data": {
      "text/plain": [
       "<AxesSubplot:xlabel='Annual Salary', ylabel='Net Worth'>"
      ]
     },
     "execution_count": 84,
     "metadata": {},
     "output_type": "execute_result"
    },
    {
     "data": {
      "image/png": "[encoded data removed]",
      "text/plain": [
       "<Figure size 432x288 with 1 Axes>"
      ]
     },
     "metadata": {
      "needs_background": "light"
     },
     "output_type": "display_data"
    }
   ],
   "source": [
    "df.plot('Annual Salary', 'Net Worth', kind = 'scatter')"
   ]
  },
  {
   "cell_type": "code",
   "execution_count": 85,
   "id": "f47bfa8b",
   "metadata": {},
   "outputs": [
    {
     "data": {
      "text/plain": [
       "0.021794088550437678"
      ]
     },
     "execution_count": 85,
     "metadata": {},
     "output_type": "execute_result"
    }
   ],
   "source": [
    "df['Age'].corr(df['Net Worth'])"
   ]
  },
  {
   "cell_type": "code",
   "execution_count": 86,
   "id": "006e5cfb",
   "metadata": {},
   "outputs": [
    {
     "data": {
      "text/plain": [
       "<AxesSubplot:xlabel='Age'>"
      ]
     },
     "execution_count": 86,
     "metadata": {},
     "output_type": "execute_result"
    },
    {
     "data": {
      "image/png": "[encoded data removed]",
      "text/plain": [
       "<Figure size 432x288 with 1 Axes>"
      ]
     },
     "metadata": {
      "needs_background": "light"
     },
     "output_type": "display_data"
    }
   ],
   "source": [
    "df.plot('Age', 'Net Worth', kind = 'bar')"
   ]
  },
  {
   "cell_type": "code",
   "execution_count": 87,
   "id": "cb5670ce",
   "metadata": {},
   "outputs": [
    {
     "data": {
      "text/plain": [
       "<AxesSubplot:xlabel='Age', ylabel='Net Worth'>"
      ]
     },
     "execution_count": 87,
     "metadata": {},
     "output_type": "execute_result"
    },
    {
     "data": {
      "image/png": "[encoded data removed]",
      "text/plain": [
       "<Figure size 432x288 with 1 Axes>"
      ]
     },
     "metadata": {
      "needs_background": "light"
     },
     "output_type": "display_data"
    }
   ],
   "source": [
    "df.plot('Age', 'Net Worth', kind = 'scatter')"
   ]
  },
  {
   "cell_type": "markdown",
   "id": "67714d88",
   "metadata": {},
   "source": [
    "**Surprisingly, there is almost no correlation between age and car value**"
   ]
  },
  {
   "cell_type": "code",
   "execution_count": 88,
   "id": "9f6f9a3d",
   "metadata": {},
   "outputs": [
    {
     "data": {
      "text/plain": [
       "0.028882426561514164"
      ]
     },
     "execution_count": 88,
     "metadata": {},
     "output_type": "execute_result"
    }
   ],
   "source": [
    "df['Credit Card Debt'].corr(df['Car Purchase Amount'])"
   ]
  },
  {
   "cell_type": "code",
   "execution_count": 89,
   "id": "2cbeed25",
   "metadata": {},
   "outputs": [
    {
     "data": {
      "text/plain": [
       "<AxesSubplot:xlabel='Credit Card Debt', ylabel='Car Purchase Amount'>"
      ]
     },
     "execution_count": 89,
     "metadata": {},
     "output_type": "execute_result"
    },
    {
     "data": {
      "image/png": "[encoded data removed]",
      "text/plain": [
       "<Figure size 432x288 with 1 Axes>"
      ]
     },
     "metadata": {
      "needs_background": "light"
     },
     "output_type": "display_data"
    }
   ],
   "source": [
    "df.plot('Credit Card Debt', 'Car Purchase Amount', kind = 'scatter')"
   ]
  },
  {
   "cell_type": "markdown",
   "id": "39ac35cb",
   "metadata": {},
   "source": [
    "**There is no correlation between Credit Card Debt and Car Purchase Amount**"
   ]
  },
  {
   "cell_type": "code",
   "execution_count": 90,
   "id": "c1cea1ba",
   "metadata": {},
   "outputs": [
    {
     "data": {
      "text/plain": [
       "0.00036069273648312695"
      ]
     },
     "execution_count": 90,
     "metadata": {},
     "output_type": "execute_result"
    }
   ],
   "source": [
    "df['Age'].corr(df['Annual Salary'])"
   ]
  },
  {
   "cell_type": "markdown",
   "id": "836e0323",
   "metadata": {},
   "source": [
    "**Also no correlation between age and annual salary**"
   ]
  },
  {
   "cell_type": "code",
   "execution_count": 91,
   "id": "6208ca98",
   "metadata": {},
   "outputs": [
    {
     "data": {
      "text/plain": [
       "0.6332725400877977"
      ]
     },
     "execution_count": 91,
     "metadata": {},
     "output_type": "execute_result"
    }
   ],
   "source": [
    "df['Age'].corr(df['Car Purchase Amount'])"
   ]
  },
  {
   "cell_type": "code",
   "execution_count": 92,
   "id": "9b4fc680",
   "metadata": {},
   "outputs": [
    {
     "data": {
      "text/plain": [
       "<AxesSubplot:xlabel='Age', ylabel='Car Purchase Amount'>"
      ]
     },
     "execution_count": 92,
     "metadata": {},
     "output_type": "execute_result"
    },
    {
     "data": {
      "image/png": "[encoded data removed]",
      "text/plain": [
       "<Figure size 432x288 with 1 Axes>"
      ]
     },
     "metadata": {
      "needs_background": "light"
     },
     "output_type": "display_data"
    }
   ],
   "source": [
    "df.plot('Age', 'Car Purchase Amount', kind = 'scatter')"
   ]
  },
  {
   "cell_type": "markdown",
   "id": "80b40723",
   "metadata": {},
   "source": [
    "**We can see correlation beetwen age of customer and car purchase amount**"
   ]
  },
  {
   "cell_type": "markdown",
   "id": "572e68ab",
   "metadata": {},
   "source": [
    "## Find all correlations beetwen parametres"
   ]
  },
  {
   "cell_type": "code",
   "execution_count": 93,
   "id": "db8605eb",
   "metadata": {},
   "outputs": [
    {
     "data": {
      "text/html": [
       "<div>\n",
       "<style scoped>\n",
       "    .dataframe tbody tr th:only-of-type {\n",
       "        vertical-align: middle;\n",
       "    }\n",
       "\n",
       "    .dataframe tbody tr th {\n",
       "        vertical-align: top;\n",
       "    }\n",
       "\n",
       "    .dataframe thead th {\n",
       "        text-align: right;\n",
       "    }\n",
       "</style>\n",
       "<table border=\"1\" class=\"dataframe\">\n",
       "  <thead>\n",
       "    <tr style=\"text-align: right;\">\n",
       "      <th></th>\n",
       "      <th>Gender</th>\n",
       "      <th>Age</th>\n",
       "      <th>Annual Salary</th>\n",
       "      <th>Credit Card Debt</th>\n",
       "      <th>Net Worth</th>\n",
       "      <th>Car Purchase Amount</th>\n",
       "      <th>Car Purchase Amount in rub</th>\n",
       "    </tr>\n",
       "  </thead>\n",
       "  <tbody>\n",
       "    <tr>\n",
       "      <th>Gender</th>\n",
       "      <td>1.000000</td>\n",
       "      <td>-0.066488</td>\n",
       "      <td>-0.036499</td>\n",
       "      <td>0.024193</td>\n",
       "      <td>-0.008395</td>\n",
       "      <td>-0.066408</td>\n",
       "      <td>-0.066408</td>\n",
       "    </tr>\n",
       "    <tr>\n",
       "      <th>Age</th>\n",
       "      <td>-0.066488</td>\n",
       "      <td>1.000000</td>\n",
       "      <td>0.000361</td>\n",
       "      <td>0.031748</td>\n",
       "      <td>0.021794</td>\n",
       "      <td>0.633273</td>\n",
       "      <td>0.633273</td>\n",
       "    </tr>\n",
       "    <tr>\n",
       "      <th>Annual Salary</th>\n",
       "      <td>-0.036499</td>\n",
       "      <td>0.000361</td>\n",
       "      <td>1.000000</td>\n",
       "      <td>0.049599</td>\n",
       "      <td>0.014767</td>\n",
       "      <td>0.617862</td>\n",
       "      <td>0.617862</td>\n",
       "    </tr>\n",
       "    <tr>\n",
       "      <th>Credit Card Debt</th>\n",
       "      <td>0.024193</td>\n",
       "      <td>0.031748</td>\n",
       "      <td>0.049599</td>\n",
       "      <td>1.000000</td>\n",
       "      <td>-0.049378</td>\n",
       "      <td>0.028882</td>\n",
       "      <td>0.028882</td>\n",
       "    </tr>\n",
       "    <tr>\n",
       "      <th>Net Worth</th>\n",
       "      <td>-0.008395</td>\n",
       "      <td>0.021794</td>\n",
       "      <td>0.014767</td>\n",
       "      <td>-0.049378</td>\n",
       "      <td>1.000000</td>\n",
       "      <td>0.488580</td>\n",
       "      <td>0.488580</td>\n",
       "    </tr>\n",
       "    <tr>\n",
       "      <th>Car Purchase Amount</th>\n",
       "      <td>-0.066408</td>\n",
       "      <td>0.633273</td>\n",
       "      <td>0.617862</td>\n",
       "      <td>0.028882</td>\n",
       "      <td>0.488580</td>\n",
       "      <td>1.000000</td>\n",
       "      <td>1.000000</td>\n",
       "    </tr>\n",
       "    <tr>\n",
       "      <th>Car Purchase Amount in rub</th>\n",
       "      <td>-0.066408</td>\n",
       "      <td>0.633273</td>\n",
       "      <td>0.617862</td>\n",
       "      <td>0.028882</td>\n",
       "      <td>0.488580</td>\n",
       "      <td>1.000000</td>\n",
       "      <td>1.000000</td>\n",
       "    </tr>\n",
       "  </tbody>\n",
       "</table>\n",
       "</div>"
      ],
      "text/plain": [
       "                              Gender       Age  Annual Salary  \\\n",
       "Gender                      1.000000 -0.066488      -0.036499   \n",
       "Age                        -0.066488  1.000000       0.000361   \n",
       "Annual Salary              -0.036499  0.000361       1.000000   \n",
       "Credit Card Debt            0.024193  0.031748       0.049599   \n",
       "Net Worth                  -0.008395  0.021794       0.014767   \n",
       "Car Purchase Amount        -0.066408  0.633273       0.617862   \n",
       "Car Purchase Amount in rub -0.066408  0.633273       0.617862   \n",
       "\n",
       "                            Credit Card Debt  Net Worth  Car Purchase Amount  \\\n",
       "Gender                              0.024193  -0.008395            -0.066408   \n",
       "Age                                 0.031748   0.021794             0.633273   \n",
       "Annual Salary                       0.049599   0.014767             0.617862   \n",
       "Credit Card Debt                    1.000000  -0.049378             0.028882   \n",
       "Net Worth                          -0.049378   1.000000             0.488580   \n",
       "Car Purchase Amount                 0.028882   0.488580             1.000000   \n",
       "Car Purchase Amount in rub          0.028882   0.488580             1.000000   \n",
       "\n",
       "                            Car Purchase Amount in rub  \n",
       "Gender                                       -0.066408  \n",
       "Age                                           0.633273  \n",
       "Annual Salary                                 0.617862  \n",
       "Credit Card Debt                              0.028882  \n",
       "Net Worth                                     0.488580  \n",
       "Car Purchase Amount                           1.000000  \n",
       "Car Purchase Amount in rub                    1.000000  "
      ]
     },
     "execution_count": 93,
     "metadata": {},
     "output_type": "execute_result"
    }
   ],
   "source": [
    "df.corr()"
   ]
  },
  {
   "cell_type": "markdown",
   "id": "d67fab5d",
   "metadata": {},
   "source": [
    "**The only srtong correlation which was not been revealed is correlation beetwen Annual Salary and Car Purchase Amount but it was evident**"
   ]
  },
  {
   "cell_type": "markdown",
   "id": "75d0b5bc",
   "metadata": {},
   "source": [
    "## Divide the sample by 2:\n",
    "\n",
    "The first will contain buyers under 40\n",
    "\n",
    "And the second is older or those who are 40"
   ]
  },
  {
   "cell_type": "code",
   "execution_count": 94,
   "id": "1f3ec6ac",
   "metadata": {},
   "outputs": [],
   "source": [
    "df_new = df[[ 'Age', 'Car Purchase Amount']]"
   ]
  },
  {
   "cell_type": "code",
   "execution_count": 95,
   "id": "c1f62a17",
   "metadata": {},
   "outputs": [
    {
     "data": {
      "text/html": [
       "<div>\n",
       "<style scoped>\n",
       "    .dataframe tbody tr th:only-of-type {\n",
       "        vertical-align: middle;\n",
       "    }\n",
       "\n",
       "    .dataframe tbody tr th {\n",
       "        vertical-align: top;\n",
       "    }\n",
       "\n",
       "    .dataframe thead th {\n",
       "        text-align: right;\n",
       "    }\n",
       "</style>\n",
       "<table border=\"1\" class=\"dataframe\">\n",
       "  <thead>\n",
       "    <tr style=\"text-align: right;\">\n",
       "      <th></th>\n",
       "      <th>Age</th>\n",
       "      <th>Car Purchase Amount</th>\n",
       "    </tr>\n",
       "  </thead>\n",
       "  <tbody>\n",
       "    <tr>\n",
       "      <th>0</th>\n",
       "      <td>42</td>\n",
       "      <td>35321.45877</td>\n",
       "    </tr>\n",
       "    <tr>\n",
       "      <th>1</th>\n",
       "      <td>41</td>\n",
       "      <td>45115.52566</td>\n",
       "    </tr>\n",
       "    <tr>\n",
       "      <th>2</th>\n",
       "      <td>43</td>\n",
       "      <td>42925.70921</td>\n",
       "    </tr>\n",
       "    <tr>\n",
       "      <th>3</th>\n",
       "      <td>58</td>\n",
       "      <td>67422.36313</td>\n",
       "    </tr>\n",
       "    <tr>\n",
       "      <th>4</th>\n",
       "      <td>57</td>\n",
       "      <td>55915.46248</td>\n",
       "    </tr>\n",
       "    <tr>\n",
       "      <th>...</th>\n",
       "      <td>...</td>\n",
       "      <td>...</td>\n",
       "    </tr>\n",
       "    <tr>\n",
       "      <th>495</th>\n",
       "      <td>41</td>\n",
       "      <td>48901.44342</td>\n",
       "    </tr>\n",
       "    <tr>\n",
       "      <th>496</th>\n",
       "      <td>38</td>\n",
       "      <td>31491.41457</td>\n",
       "    </tr>\n",
       "    <tr>\n",
       "      <th>497</th>\n",
       "      <td>54</td>\n",
       "      <td>64147.28888</td>\n",
       "    </tr>\n",
       "    <tr>\n",
       "      <th>498</th>\n",
       "      <td>59</td>\n",
       "      <td>45442.15353</td>\n",
       "    </tr>\n",
       "    <tr>\n",
       "      <th>499</th>\n",
       "      <td>47</td>\n",
       "      <td>45107.22566</td>\n",
       "    </tr>\n",
       "  </tbody>\n",
       "</table>\n",
       "<p>500 rows × 2 columns</p>\n",
       "</div>"
      ],
      "text/plain": [
       "     Age  Car Purchase Amount\n",
       "0     42          35321.45877\n",
       "1     41          45115.52566\n",
       "2     43          42925.70921\n",
       "3     58          67422.36313\n",
       "4     57          55915.46248\n",
       "..   ...                  ...\n",
       "495   41          48901.44342\n",
       "496   38          31491.41457\n",
       "497   54          64147.28888\n",
       "498   59          45442.15353\n",
       "499   47          45107.22566\n",
       "\n",
       "[500 rows x 2 columns]"
      ]
     },
     "execution_count": 95,
     "metadata": {},
     "output_type": "execute_result"
    }
   ],
   "source": [
    "df_new"
   ]
  },
  {
   "cell_type": "code",
   "execution_count": 96,
   "id": "09c73dc4",
   "metadata": {},
   "outputs": [],
   "source": [
    "sample1 = df_new[df_new['Age'] > 40]\n",
    "sample2 = df_new[df_new['Age'] <= 40]"
   ]
  },
  {
   "cell_type": "code",
   "execution_count": 97,
   "id": "9a3e5221",
   "metadata": {},
   "outputs": [],
   "source": [
    "new_sample1 = sample1.head(30)\n",
    "new_sample2 = sample2.tail(30)"
   ]
  },
  {
   "cell_type": "code",
   "execution_count": 98,
   "id": "6dacf8f1",
   "metadata": {},
   "outputs": [
    {
     "data": {
      "text/html": [
       "<div>\n",
       "<style scoped>\n",
       "    .dataframe tbody tr th:only-of-type {\n",
       "        vertical-align: middle;\n",
       "    }\n",
       "\n",
       "    .dataframe tbody tr th {\n",
       "        vertical-align: top;\n",
       "    }\n",
       "\n",
       "    .dataframe thead th {\n",
       "        text-align: right;\n",
       "    }\n",
       "</style>\n",
       "<table border=\"1\" class=\"dataframe\">\n",
       "  <thead>\n",
       "    <tr style=\"text-align: right;\">\n",
       "      <th></th>\n",
       "      <th>Age</th>\n",
       "      <th>Car Purchase Amount</th>\n",
       "    </tr>\n",
       "  </thead>\n",
       "  <tbody>\n",
       "    <tr>\n",
       "      <th>0</th>\n",
       "      <td>42</td>\n",
       "      <td>35321.45877</td>\n",
       "    </tr>\n",
       "    <tr>\n",
       "      <th>1</th>\n",
       "      <td>41</td>\n",
       "      <td>45115.52566</td>\n",
       "    </tr>\n",
       "    <tr>\n",
       "      <th>2</th>\n",
       "      <td>43</td>\n",
       "      <td>42925.70921</td>\n",
       "    </tr>\n",
       "    <tr>\n",
       "      <th>3</th>\n",
       "      <td>58</td>\n",
       "      <td>67422.36313</td>\n",
       "    </tr>\n",
       "    <tr>\n",
       "      <th>4</th>\n",
       "      <td>57</td>\n",
       "      <td>55915.46248</td>\n",
       "    </tr>\n",
       "    <tr>\n",
       "      <th>5</th>\n",
       "      <td>57</td>\n",
       "      <td>56611.99784</td>\n",
       "    </tr>\n",
       "    <tr>\n",
       "      <th>6</th>\n",
       "      <td>47</td>\n",
       "      <td>28925.70549</td>\n",
       "    </tr>\n",
       "    <tr>\n",
       "      <th>7</th>\n",
       "      <td>50</td>\n",
       "      <td>47434.98265</td>\n",
       "    </tr>\n",
       "    <tr>\n",
       "      <th>8</th>\n",
       "      <td>47</td>\n",
       "      <td>48013.61410</td>\n",
       "    </tr>\n",
       "    <tr>\n",
       "      <th>9</th>\n",
       "      <td>43</td>\n",
       "      <td>38189.50601</td>\n",
       "    </tr>\n",
       "    <tr>\n",
       "      <th>10</th>\n",
       "      <td>50</td>\n",
       "      <td>59045.51309</td>\n",
       "    </tr>\n",
       "    <tr>\n",
       "      <th>11</th>\n",
       "      <td>53</td>\n",
       "      <td>42288.81046</td>\n",
       "    </tr>\n",
       "    <tr>\n",
       "      <th>12</th>\n",
       "      <td>44</td>\n",
       "      <td>28700.03340</td>\n",
       "    </tr>\n",
       "    <tr>\n",
       "      <th>13</th>\n",
       "      <td>48</td>\n",
       "      <td>49258.87571</td>\n",
       "    </tr>\n",
       "    <tr>\n",
       "      <th>14</th>\n",
       "      <td>55</td>\n",
       "      <td>49510.03356</td>\n",
       "    </tr>\n",
       "    <tr>\n",
       "      <th>15</th>\n",
       "      <td>53</td>\n",
       "      <td>53017.26723</td>\n",
       "    </tr>\n",
       "    <tr>\n",
       "      <th>16</th>\n",
       "      <td>45</td>\n",
       "      <td>41814.72067</td>\n",
       "    </tr>\n",
       "    <tr>\n",
       "      <th>17</th>\n",
       "      <td>48</td>\n",
       "      <td>43901.71244</td>\n",
       "    </tr>\n",
       "    <tr>\n",
       "      <th>18</th>\n",
       "      <td>52</td>\n",
       "      <td>44633.99241</td>\n",
       "    </tr>\n",
       "    <tr>\n",
       "      <th>19</th>\n",
       "      <td>59</td>\n",
       "      <td>54827.52403</td>\n",
       "    </tr>\n",
       "    <tr>\n",
       "      <th>20</th>\n",
       "      <td>52</td>\n",
       "      <td>51130.95379</td>\n",
       "    </tr>\n",
       "    <tr>\n",
       "      <th>21</th>\n",
       "      <td>48</td>\n",
       "      <td>43402.31525</td>\n",
       "    </tr>\n",
       "    <tr>\n",
       "      <th>22</th>\n",
       "      <td>46</td>\n",
       "      <td>47240.86004</td>\n",
       "    </tr>\n",
       "    <tr>\n",
       "      <th>23</th>\n",
       "      <td>47</td>\n",
       "      <td>46635.49432</td>\n",
       "    </tr>\n",
       "    <tr>\n",
       "      <th>25</th>\n",
       "      <td>53</td>\n",
       "      <td>44387.58412</td>\n",
       "    </tr>\n",
       "    <tr>\n",
       "      <th>27</th>\n",
       "      <td>56</td>\n",
       "      <td>49091.97185</td>\n",
       "    </tr>\n",
       "    <tr>\n",
       "      <th>28</th>\n",
       "      <td>46</td>\n",
       "      <td>58350.31809</td>\n",
       "    </tr>\n",
       "    <tr>\n",
       "      <th>32</th>\n",
       "      <td>51</td>\n",
       "      <td>66363.89316</td>\n",
       "    </tr>\n",
       "    <tr>\n",
       "      <th>33</th>\n",
       "      <td>51</td>\n",
       "      <td>53489.46214</td>\n",
       "    </tr>\n",
       "    <tr>\n",
       "      <th>34</th>\n",
       "      <td>46</td>\n",
       "      <td>39810.34817</td>\n",
       "    </tr>\n",
       "  </tbody>\n",
       "</table>\n",
       "</div>"
      ],
      "text/plain": [
       "    Age  Car Purchase Amount\n",
       "0    42          35321.45877\n",
       "1    41          45115.52566\n",
       "2    43          42925.70921\n",
       "3    58          67422.36313\n",
       "4    57          55915.46248\n",
       "5    57          56611.99784\n",
       "6    47          28925.70549\n",
       "7    50          47434.98265\n",
       "8    47          48013.61410\n",
       "9    43          38189.50601\n",
       "10   50          59045.51309\n",
       "11   53          42288.81046\n",
       "12   44          28700.03340\n",
       "13   48          49258.87571\n",
       "14   55          49510.03356\n",
       "15   53          53017.26723\n",
       "16   45          41814.72067\n",
       "17   48          43901.71244\n",
       "18   52          44633.99241\n",
       "19   59          54827.52403\n",
       "20   52          51130.95379\n",
       "21   48          43402.31525\n",
       "22   46          47240.86004\n",
       "23   47          46635.49432\n",
       "25   53          44387.58412\n",
       "27   56          49091.97185\n",
       "28   46          58350.31809\n",
       "32   51          66363.89316\n",
       "33   51          53489.46214\n",
       "34   46          39810.34817"
      ]
     },
     "execution_count": 98,
     "metadata": {},
     "output_type": "execute_result"
    }
   ],
   "source": [
    "new_sample1"
   ]
  },
  {
   "cell_type": "code",
   "execution_count": 99,
   "id": "d9fc9fc5",
   "metadata": {},
   "outputs": [
    {
     "data": {
      "text/html": [
       "<div>\n",
       "<style scoped>\n",
       "    .dataframe tbody tr th:only-of-type {\n",
       "        vertical-align: middle;\n",
       "    }\n",
       "\n",
       "    .dataframe tbody tr th {\n",
       "        vertical-align: top;\n",
       "    }\n",
       "\n",
       "    .dataframe thead th {\n",
       "        text-align: right;\n",
       "    }\n",
       "</style>\n",
       "<table border=\"1\" class=\"dataframe\">\n",
       "  <thead>\n",
       "    <tr style=\"text-align: right;\">\n",
       "      <th></th>\n",
       "      <th>Age</th>\n",
       "      <th>Car Purchase Amount</th>\n",
       "    </tr>\n",
       "  </thead>\n",
       "  <tbody>\n",
       "    <tr>\n",
       "      <th>389</th>\n",
       "      <td>40</td>\n",
       "      <td>26599.90843</td>\n",
       "    </tr>\n",
       "    <tr>\n",
       "      <th>390</th>\n",
       "      <td>40</td>\n",
       "      <td>53993.44322</td>\n",
       "    </tr>\n",
       "    <tr>\n",
       "      <th>395</th>\n",
       "      <td>35</td>\n",
       "      <td>30757.65726</td>\n",
       "    </tr>\n",
       "    <tr>\n",
       "      <th>397</th>\n",
       "      <td>37</td>\n",
       "      <td>37871.70820</td>\n",
       "    </tr>\n",
       "    <tr>\n",
       "      <th>399</th>\n",
       "      <td>32</td>\n",
       "      <td>22599.45863</td>\n",
       "    </tr>\n",
       "    <tr>\n",
       "      <th>403</th>\n",
       "      <td>36</td>\n",
       "      <td>30419.80000</td>\n",
       "    </tr>\n",
       "    <tr>\n",
       "      <th>407</th>\n",
       "      <td>36</td>\n",
       "      <td>19525.29827</td>\n",
       "    </tr>\n",
       "    <tr>\n",
       "      <th>414</th>\n",
       "      <td>37</td>\n",
       "      <td>30667.60927</td>\n",
       "    </tr>\n",
       "    <tr>\n",
       "      <th>416</th>\n",
       "      <td>40</td>\n",
       "      <td>30736.57980</td>\n",
       "    </tr>\n",
       "    <tr>\n",
       "      <th>418</th>\n",
       "      <td>30</td>\n",
       "      <td>38174.87433</td>\n",
       "    </tr>\n",
       "    <tr>\n",
       "      <th>421</th>\n",
       "      <td>40</td>\n",
       "      <td>48465.27211</td>\n",
       "    </tr>\n",
       "    <tr>\n",
       "      <th>422</th>\n",
       "      <td>38</td>\n",
       "      <td>40095.04980</td>\n",
       "    </tr>\n",
       "    <tr>\n",
       "      <th>424</th>\n",
       "      <td>37</td>\n",
       "      <td>31408.62631</td>\n",
       "    </tr>\n",
       "    <tr>\n",
       "      <th>427</th>\n",
       "      <td>38</td>\n",
       "      <td>42905.53815</td>\n",
       "    </tr>\n",
       "    <tr>\n",
       "      <th>433</th>\n",
       "      <td>40</td>\n",
       "      <td>29519.56184</td>\n",
       "    </tr>\n",
       "    <tr>\n",
       "      <th>440</th>\n",
       "      <td>40</td>\n",
       "      <td>41147.46679</td>\n",
       "    </tr>\n",
       "    <tr>\n",
       "      <th>441</th>\n",
       "      <td>33</td>\n",
       "      <td>24134.59205</td>\n",
       "    </tr>\n",
       "    <tr>\n",
       "      <th>444</th>\n",
       "      <td>20</td>\n",
       "      <td>28645.39425</td>\n",
       "    </tr>\n",
       "    <tr>\n",
       "      <th>453</th>\n",
       "      <td>25</td>\n",
       "      <td>9000.00000</td>\n",
       "    </tr>\n",
       "    <tr>\n",
       "      <th>456</th>\n",
       "      <td>33</td>\n",
       "      <td>48785.15839</td>\n",
       "    </tr>\n",
       "    <tr>\n",
       "      <th>460</th>\n",
       "      <td>40</td>\n",
       "      <td>29556.79320</td>\n",
       "    </tr>\n",
       "    <tr>\n",
       "      <th>461</th>\n",
       "      <td>39</td>\n",
       "      <td>38243.06228</td>\n",
       "    </tr>\n",
       "    <tr>\n",
       "      <th>462</th>\n",
       "      <td>39</td>\n",
       "      <td>44430.63323</td>\n",
       "    </tr>\n",
       "    <tr>\n",
       "      <th>467</th>\n",
       "      <td>35</td>\n",
       "      <td>27586.20078</td>\n",
       "    </tr>\n",
       "    <tr>\n",
       "      <th>469</th>\n",
       "      <td>37</td>\n",
       "      <td>28164.86039</td>\n",
       "    </tr>\n",
       "    <tr>\n",
       "      <th>472</th>\n",
       "      <td>39</td>\n",
       "      <td>37364.23474</td>\n",
       "    </tr>\n",
       "    <tr>\n",
       "      <th>474</th>\n",
       "      <td>32</td>\n",
       "      <td>35139.24793</td>\n",
       "    </tr>\n",
       "    <tr>\n",
       "      <th>481</th>\n",
       "      <td>29</td>\n",
       "      <td>21471.11367</td>\n",
       "    </tr>\n",
       "    <tr>\n",
       "      <th>486</th>\n",
       "      <td>37</td>\n",
       "      <td>41489.64123</td>\n",
       "    </tr>\n",
       "    <tr>\n",
       "      <th>496</th>\n",
       "      <td>38</td>\n",
       "      <td>31491.41457</td>\n",
       "    </tr>\n",
       "  </tbody>\n",
       "</table>\n",
       "</div>"
      ],
      "text/plain": [
       "     Age  Car Purchase Amount\n",
       "389   40          26599.90843\n",
       "390   40          53993.44322\n",
       "395   35          30757.65726\n",
       "397   37          37871.70820\n",
       "399   32          22599.45863\n",
       "403   36          30419.80000\n",
       "407   36          19525.29827\n",
       "414   37          30667.60927\n",
       "416   40          30736.57980\n",
       "418   30          38174.87433\n",
       "421   40          48465.27211\n",
       "422   38          40095.04980\n",
       "424   37          31408.62631\n",
       "427   38          42905.53815\n",
       "433   40          29519.56184\n",
       "440   40          41147.46679\n",
       "441   33          24134.59205\n",
       "444   20          28645.39425\n",
       "453   25           9000.00000\n",
       "456   33          48785.15839\n",
       "460   40          29556.79320\n",
       "461   39          38243.06228\n",
       "462   39          44430.63323\n",
       "467   35          27586.20078\n",
       "469   37          28164.86039\n",
       "472   39          37364.23474\n",
       "474   32          35139.24793\n",
       "481   29          21471.11367\n",
       "486   37          41489.64123\n",
       "496   38          31491.41457"
      ]
     },
     "execution_count": 99,
     "metadata": {},
     "output_type": "execute_result"
    }
   ],
   "source": [
    "new_sample2"
   ]
  },
  {
   "cell_type": "markdown",
   "id": "c67d3ea6",
   "metadata": {},
   "source": [
    "## Hypothesis testing"
   ]
  },
  {
   "cell_type": "markdown",
   "id": "8d3c09f9",
   "metadata": {},
   "source": [
    "The following hypotheses have been formulated:\n",
    "* Main hypothesis - the cost of a car is on average the same for both groups, older or younger than 40 years\n",
    "* Alternative hypothesis - buyers from the age group over 40 buy more expensive cars on average"
   ]
  },
  {
   "cell_type": "markdown",
   "id": "b59da676",
   "metadata": {},
   "source": [
    "To apply the Student's t-test, the following requirements must be met:\n",
    "1. Samples must be independent\n",
    "2. The hypothesis of a normal distribution must be confirmed\n",
    "3. And the values ​​must be quantitative"
   ]
  },
  {
   "cell_type": "code",
   "execution_count": 100,
   "id": "dc9d1e18",
   "metadata": {},
   "outputs": [],
   "source": [
    "import scipy.stats"
   ]
  },
  {
   "cell_type": "code",
   "execution_count": 101,
   "id": "fe80c06a",
   "metadata": {},
   "outputs": [
    {
     "data": {
      "text/plain": [
       "0.7532254457473755"
      ]
     },
     "execution_count": 101,
     "metadata": {},
     "output_type": "execute_result"
    }
   ],
   "source": [
    "stat, p = scipy.stats.shapiro(new_sample1['Car Purchase Amount'])\n",
    "alfa = 0.05\n",
    "p"
   ]
  },
  {
   "cell_type": "code",
   "execution_count": 102,
   "id": "5c884fa4",
   "metadata": {},
   "outputs": [
    {
     "data": {
      "text/plain": [
       "0.851393461227417"
      ]
     },
     "execution_count": 102,
     "metadata": {},
     "output_type": "execute_result"
    }
   ],
   "source": [
    "stat, p = scipy.stats.shapiro(new_sample2['Car Purchase Amount'])\n",
    "alfa = 0.05\n",
    "p"
   ]
  },
  {
   "cell_type": "markdown",
   "id": "96b66d18",
   "metadata": {},
   "source": [
    "**Both values ​​turned out to be greater than 0.05, therefore we accept the hypothesis of a normal distribution**"
   ]
  },
  {
   "cell_type": "markdown",
   "id": "dddf0c0e",
   "metadata": {},
   "source": [
    "### Applingy Student's t-test (assuming equality of variances)"
   ]
  },
  {
   "cell_type": "code",
   "execution_count": 103,
   "id": "aa03c0e8",
   "metadata": {},
   "outputs": [
    {
     "data": {
      "text/plain": [
       "Ttest_indResult(statistic=array([10.95050685,  5.94622562]), pvalue=array([9.63685886e-16, 1.67140556e-07]))"
      ]
     },
     "execution_count": 103,
     "metadata": {},
     "output_type": "execute_result"
    }
   ],
   "source": [
    "scipy.stats.ttest_ind(new_sample1, new_sample2, axis=0, equal_var=True)"
   ]
  },
  {
   "cell_type": "markdown",
   "id": "5722f592",
   "metadata": {},
   "source": [
    "**Referring to the table, with the value of the degrees of freedom of 58, the resulting value is very small and less than 0.05, so we reject the hypothesis H0**"
   ]
  },
  {
   "cell_type": "markdown",
   "id": "388ddf90",
   "metadata": {},
   "source": [
    "### Applying the Wilcoxon test"
   ]
  },
  {
   "cell_type": "code",
   "execution_count": 104,
   "id": "f8db255d",
   "metadata": {},
   "outputs": [
    {
     "data": {
      "text/plain": [
       "RanksumsResult(statistic=18.28833424341613, pvalue=1.024996917807768e-74)"
      ]
     },
     "execution_count": 104,
     "metadata": {},
     "output_type": "execute_result"
    }
   ],
   "source": [
    "scipy.stats.ranksums(new_sample1, new_sample2)"
   ]
  },
  {
   "cell_type": "markdown",
   "id": "55ea281a",
   "metadata": {},
   "source": [
    "**The p-value turned out to be also very small, which also rejects the H0 hypothesis about the dependence of the cost of a car on the age of the buyer**"
   ]
  },
  {
   "cell_type": "markdown",
   "id": "538f9206",
   "metadata": {},
   "source": [
    "### Applying the Kolmogorov-Smirnov criterion"
   ]
  },
  {
   "cell_type": "code",
   "execution_count": 105,
   "id": "2960db5c",
   "metadata": {},
   "outputs": [
    {
     "data": {
      "text/plain": [
       "KstestResult(statistic=0.6666666666666666, pvalue=1.2750060342394341e-06)"
      ]
     },
     "execution_count": 105,
     "metadata": {},
     "output_type": "execute_result"
    }
   ],
   "source": [
    "from scipy.stats import ks_2samp\n",
    "scipy.stats.ks_2samp(new_sample1['Car Purchase Amount'], new_sample2['Car Purchase Amount'], alternative='two-sided', mode='auto')"
   ]
  },
  {
   "cell_type": "markdown",
   "id": "4578ad28",
   "metadata": {},
   "source": [
    "**The p-value also turned out to be very small, which rejects the H0 hypothesis about the dependence of the cost of a car on the age of the buyer**"
   ]
  },
  {
   "cell_type": "markdown",
   "id": "19834ac6",
   "metadata": {},
   "source": [
    "**Let's find the sample mean in two samples to understand which age category buys more expensive cars**"
   ]
  },
  {
   "cell_type": "code",
   "execution_count": 106,
   "id": "ebbbbedf",
   "metadata": {},
   "outputs": [
    {
     "name": "stderr",
     "output_type": "stream",
     "text": [
      "C:\\Users\\aasoboleva\\Anaconda3\\lib\\site-packages\\numpy\\core\\fromnumeric.py:3438: FutureWarning: In a future version, DataFrame.mean(axis=None) will return a scalar mean over the entire DataFrame. To retain the old behavior, use 'frame.mean(axis=0)' or just 'frame.mean()'\n",
      "  return mean(axis=axis, dtype=dtype, out=out, **kwargs)\n"
     ]
    },
    {
     "data": {
      "text/plain": [
       "Age                       49.600000\n",
       "Car Purchase Amount    47759.266976\n",
       "dtype: float64"
      ]
     },
     "execution_count": 106,
     "metadata": {},
     "output_type": "execute_result"
    }
   ],
   "source": [
    "np.mean(new_sample1)"
   ]
  },
  {
   "cell_type": "code",
   "execution_count": 107,
   "id": "999b729b",
   "metadata": {},
   "outputs": [
    {
     "data": {
      "text/plain": [
       "Age                       35.733333\n",
       "Car Purchase Amount    33346.339971\n",
       "dtype: float64"
      ]
     },
     "execution_count": 107,
     "metadata": {},
     "output_type": "execute_result"
    }
   ],
   "source": [
    "np.mean(new_sample2)"
   ]
  },
  {
   "cell_type": "markdown",
   "id": "415994c1",
   "metadata": {},
   "source": [
    "**The sample, which includes buyers over 40 years old, prefer more expensive cars, and the difference in sample means is more than 15,000, which is more than 30% of the sample average sample, which includes buyers under 40 years old.**"
   ]
  },
  {
   "cell_type": "markdown",
   "id": "6241eed5",
   "metadata": {},
   "source": [
    "## Results of hypothesis testing and application of statistical criteria"
   ]
  },
  {
   "cell_type": "markdown",
   "id": "9395f866",
   "metadata": {},
   "source": [
    "Hypothesis H0, originally posed, about the presence of a relationship between the age of the buyer and the cost of the car, unexpectedly for me, was refuted by three criteria:\n",
    "1. Student\n",
    "2. Wilcoxon\n",
    "3. Kolmagorova-Smirnova (for 2 samples)\n",
    "The p-values ​​of each of the criteria turned out to be very small, rejecting the H0 hypothesis\n",
    "\n",
    "Also, comparing the sample averages of the two age groups, it turned out that buyers who are over 40 prefer significantly more expensive cars."
   ]
  },
  {
   "cell_type": "code",
   "execution_count": null,
   "id": "83626c8d",
   "metadata": {},
   "outputs": [],
   "source": []
  }
 ],
 "metadata": {
  "kernelspec": {
   "display_name": "Python 3 (ipykernel)",
   "language": "python",
   "name": "python3"
  },
  "language_info": {
   "codemirror_mode": {
    "name": "ipython",
    "version": 3
   },
   "file_extension": ".py",
   "mimetype": "text/x-python",
   "name": "python",
   "nbconvert_exporter": "python",
   "pygments_lexer": "ipython3",
   "version": "3.9.12"
  }
 },
 "nbformat": 4,
 "nbformat_minor": 5
}
